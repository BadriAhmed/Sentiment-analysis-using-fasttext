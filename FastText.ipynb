{
 "cells": [
  {
   "cell_type": "markdown",
   "metadata": {},
   "source": [
    "# Sentiment Analysis Using Fasttext\n",
    "### A sentimental analysis classify comment written in English\n",
    "### Badri Ahmed\n",
    "___"
   ]
  },
  {
   "cell_type": "code",
   "execution_count": 1,
   "metadata": {
    "colab": {},
    "colab_type": "code",
    "id": "33Z7SP9qzSyu"
   },
   "outputs": [],
   "source": [
    "import numpy as np\n",
    "import pandas as pd\n",
    "from pathlib import Path\n",
    "import random\n",
    "import matplotlib.pyplot as plt"
   ]
  },
  {
   "cell_type": "code",
   "execution_count": 2,
   "metadata": {
    "colab": {
     "base_uri": "https://localhost:8080/",
     "height": 195
    },
    "colab_type": "code",
    "id": "7r65boLbzPQ1",
    "outputId": "13c5db3a-674b-41f9-fbae-108e59ac7626"
   },
   "outputs": [
    {
     "data": {
      "text/html": [
       "<div>\n",
       "<style scoped>\n",
       "    .dataframe tbody tr th:only-of-type {\n",
       "        vertical-align: middle;\n",
       "    }\n",
       "\n",
       "    .dataframe tbody tr th {\n",
       "        vertical-align: top;\n",
       "    }\n",
       "\n",
       "    .dataframe thead th {\n",
       "        text-align: right;\n",
       "    }\n",
       "</style>\n",
       "<table border=\"1\" class=\"dataframe\">\n",
       "  <thead>\n",
       "    <tr style=\"text-align: right;\">\n",
       "      <th></th>\n",
       "      <th>Content</th>\n",
       "      <th>Rate</th>\n",
       "    </tr>\n",
       "  </thead>\n",
       "  <tbody>\n",
       "    <tr>\n",
       "      <th>0</th>\n",
       "      <td>un endroit très calme pour réviser seul ou en ...</td>\n",
       "      <td>2.0</td>\n",
       "    </tr>\n",
       "    <tr>\n",
       "      <th>1</th>\n",
       "      <td>Je vais souvent à Kraft, j'aime bien le servic...</td>\n",
       "      <td>4.0</td>\n",
       "    </tr>\n",
       "    <tr>\n",
       "      <th>2</th>\n",
       "      <td>Ca reste toujours le dernier choix :D il faut ...</td>\n",
       "      <td>1.0</td>\n",
       "    </tr>\n",
       "    <tr>\n",
       "      <th>3</th>\n",
       "      <td>Une ambiance agréable dans cet endroit. Mais c...</td>\n",
       "      <td>2.0</td>\n",
       "    </tr>\n",
       "    <tr>\n",
       "      <th>4</th>\n",
       "      <td>Un endroit très sympa pour passer un beau temp...</td>\n",
       "      <td>0.0</td>\n",
       "    </tr>\n",
       "  </tbody>\n",
       "</table>\n",
       "</div>"
      ],
      "text/plain": [
       "                                             Content  Rate\n",
       "0  un endroit très calme pour réviser seul ou en ...   2.0\n",
       "1  Je vais souvent à Kraft, j'aime bien le servic...   4.0\n",
       "2  Ca reste toujours le dernier choix :D il faut ...   1.0\n",
       "3  Une ambiance agréable dans cet endroit. Mais c...   2.0\n",
       "4  Un endroit très sympa pour passer un beau temp...   0.0"
      ]
     },
     "execution_count": 2,
     "metadata": {},
     "output_type": "execute_result"
    }
   ],
   "source": [
    "data = pd.read_csv('TheData.csv')\n",
    "data.head()"
   ]
  },
  {
   "cell_type": "code",
   "execution_count": 3,
   "metadata": {
    "colab": {},
    "colab_type": "code",
    "id": "4KMvu2URSdet"
   },
   "outputs": [],
   "source": [
    "for index, row in data.iterrows():\n",
    "    if row['Rate']>3:\n",
    "        data.at[index,'Sentiment']='Positive'\n",
    "    elif row['Rate'] == 3 :\n",
    "        data.at[index,'Sentiment']='Neutral'\n",
    "    else :\n",
    "        data.at[index,'Sentiment']='Negative'"
   ]
  },
  {
   "cell_type": "code",
   "execution_count": 4,
   "metadata": {
    "colab": {
     "base_uri": "https://localhost:8080/",
     "height": 298
    },
    "colab_type": "code",
    "id": "8PVtV63bSwND",
    "outputId": "2c824467-91de-413f-cd42-31d65c90cdd2"
   },
   "outputs": [
    {
     "data": {
      "image/png": "[encoded data removed]",
      "text/plain": [
       "<Figure size 432x288 with 1 Axes>"
      ]
     },
     "metadata": {
      "needs_background": "light"
     },
     "output_type": "display_data"
    },
    {
     "name": "stdout",
     "output_type": "stream",
     "text": [
      "[6254, 13057, 2687]\n"
     ]
    }
   ],
   "source": [
    "objects = ('Negative Comments', 'Positive Comments','Neutral Comments')\n",
    "y_pos = np.arange(len(objects))\n",
    "performance = [len(data.loc[data.Sentiment==\"Negative\"]),len(data.loc[data.Sentiment==\"Positive\"]),len(data.loc[data.Sentiment==\"Neutral\"])]\n",
    " \n",
    "plt.bar(y_pos, performance, align='center', alpha=0.5)\n",
    "plt.xticks(y_pos, objects)\n",
    "plt.ylabel('Number Of Comments')\n",
    "plt.title('Positive, Negative and Neutral Comments')\n",
    " \n",
    "plt.show()\n",
    "print(performance)"
   ]
  },
  {
   "cell_type": "code",
   "execution_count": 5,
   "metadata": {
    "colab": {},
    "colab_type": "code",
    "id": "iPQUDRgnzoI7"
   },
   "outputs": [],
   "source": [
    "def Upper(text):\n",
    "    text = str(text)\n",
    "    text=text.lower()\n",
    "    return text"
   ]
  },
  {
   "cell_type": "code",
   "execution_count": 6,
   "metadata": {
    "colab": {},
    "colab_type": "code",
    "id": "yYOMjuIlS-O9"
   },
   "outputs": [],
   "source": [
    "data.Content = data.Content.apply(Upper)"
   ]
  },
  {
   "cell_type": "code",
   "execution_count": 7,
   "metadata": {
    "colab": {
     "base_uri": "https://localhost:8080/",
     "height": 67
    },
    "colab_type": "code",
    "id": "kdXp7p6ZTcxq",
    "outputId": "9eba2e67-ba07-44a1-aaf7-cb9b62acc3f7"
   },
   "outputs": [
    {
     "data": {
      "text/plain": [
       "Negative    13057\n",
       "Positive    13057\n",
       "Name: Sentiment, dtype: int64"
      ]
     },
     "execution_count": 7,
     "metadata": {},
     "output_type": "execute_result"
    }
   ],
   "source": [
    "from sklearn.utils import resample\n",
    "from sklearn.model_selection import train_test_split\n",
    "\n",
    "\n",
    "\n",
    "# separate minority and majority classes\n",
    "Positive = data[data.Sentiment=='Positive']\n",
    "Negative = data[data.Sentiment=='Negative']\n",
    "Neutral = data[data.Sentiment=='Neutral']\n",
    "\n",
    "# upsample minority\n",
    "Neg_upsampled = resample(Negative,\n",
    "                          replace=True, # sample with replacement\n",
    "                          n_samples=len(Positive), # match number in majority class\n",
    "                          random_state=27) # reproducible results\n",
    "\n",
    "# combine majority and upsampled minority\n",
    "upsampled = pd.concat([Positive, Neg_upsampled])\n",
    "\n",
    "# check new class counts\n",
    "upsampled.Sentiment.value_counts()\n"
   ]
  },
  {
   "cell_type": "code",
   "execution_count": 10,
   "metadata": {
    "colab": {},
    "colab_type": "code",
    "id": "AObpwS7iTxmj"
   },
   "outputs": [],
   "source": [
    "frames = [upsampled, Neutral]\n",
    "data = pd.concat(frames)\n",
    "data.reset_index(drop=True,inplace=True)"
   ]
  },
  {
   "cell_type": "code",
   "execution_count": 11,
   "metadata": {},
   "outputs": [
    {
     "data": {
      "text/html": [
       "<div>\n",
       "<style scoped>\n",
       "    .dataframe tbody tr th:only-of-type {\n",
       "        vertical-align: middle;\n",
       "    }\n",
       "\n",
       "    .dataframe tbody tr th {\n",
       "        vertical-align: top;\n",
       "    }\n",
       "\n",
       "    .dataframe thead th {\n",
       "        text-align: right;\n",
       "    }\n",
       "</style>\n",
       "<table border=\"1\" class=\"dataframe\">\n",
       "  <thead>\n",
       "    <tr style=\"text-align: right;\">\n",
       "      <th></th>\n",
       "      <th>Content</th>\n",
       "      <th>Rate</th>\n",
       "      <th>Sentiment</th>\n",
       "    </tr>\n",
       "  </thead>\n",
       "  <tbody>\n",
       "    <tr>\n",
       "      <th>28796</th>\n",
       "      <td>beaucoup de monde , il fait bon être vu au con...</td>\n",
       "      <td>3.0</td>\n",
       "      <td>Neutral</td>\n",
       "    </tr>\n",
       "    <tr>\n",
       "      <th>28797</th>\n",
       "      <td>diner où j'étais invitée. ai pris une excellen...</td>\n",
       "      <td>3.0</td>\n",
       "      <td>Neutral</td>\n",
       "    </tr>\n",
       "    <tr>\n",
       "      <th>28798</th>\n",
       "      <td>les plats sont copieux et bon mais le service ...</td>\n",
       "      <td>3.0</td>\n",
       "      <td>Neutral</td>\n",
       "    </tr>\n",
       "    <tr>\n",
       "      <th>28799</th>\n",
       "      <td>bien l été en terrasse mais enfumé à l intérie...</td>\n",
       "      <td>3.0</td>\n",
       "      <td>Neutral</td>\n",
       "    </tr>\n",
       "    <tr>\n",
       "      <th>28800</th>\n",
       "      <td>on y mange bien, cadre agréable, il faut évite...</td>\n",
       "      <td>3.0</td>\n",
       "      <td>Neutral</td>\n",
       "    </tr>\n",
       "  </tbody>\n",
       "</table>\n",
       "</div>"
      ],
      "text/plain": [
       "                                                 Content  Rate Sentiment\n",
       "28796  beaucoup de monde , il fait bon être vu au con...   3.0   Neutral\n",
       "28797  diner où j'étais invitée. ai pris une excellen...   3.0   Neutral\n",
       "28798  les plats sont copieux et bon mais le service ...   3.0   Neutral\n",
       "28799  bien l été en terrasse mais enfumé à l intérie...   3.0   Neutral\n",
       "28800  on y mange bien, cadre agréable, il faut évite...   3.0   Neutral"
      ]
     },
     "execution_count": 11,
     "metadata": {},
     "output_type": "execute_result"
    }
   ],
   "source": [
    "data.tail()"
   ]
  },
  {
   "cell_type": "code",
   "execution_count": 16,
   "metadata": {
    "colab": {},
    "colab_type": "code",
    "id": "cxo6lgrzfeL-"
   },
   "outputs": [],
   "source": [
    "import numpy as np\n",
    "import pandas as pd\n",
    "from wordcloud import WordCloud\n",
    "import matplotlib.pyplot as plt; plt.rcdefaults()\n",
    "\n",
    "import re\n",
    "from stop_words import get_stop_words\n",
    "import nltk\n",
    "from nltk.corpus import stopwords\n",
    "from nltk.stem import WordNetLemmatizer\n",
    "from nltk.tokenize import word_tokenize as wt\n",
    "from nltk.stem import PorterStemmer\n",
    "from collections import defaultdict\n",
    "from nltk.corpus import wordnet as wn\n",
    "from nltk import pos_tag\n",
    "#from french_lefff_lemmatizer.french_lefff_lemmatizer import FrenchLefffLemmatizer\n"
   ]
  },
  {
   "cell_type": "code",
   "execution_count": 17,
   "metadata": {
    "colab": {},
    "colab_type": "code",
    "id": "XlnjH-gPYJSg"
   },
   "outputs": [],
   "source": [
    "from nltk import RegexpTokenizer\n",
    "toknizer = RegexpTokenizer(r'''\\w'|\\w+|[^\\w\\s]''')"
   ]
  },
  {
   "cell_type": "code",
   "execution_count": 18,
   "metadata": {
    "colab": {},
    "colab_type": "code",
    "id": "Pd9EJqzlYOID"
   },
   "outputs": [],
   "source": [
    "def FrTokenisation(text):\n",
    "    tokenized_text=toknizer.tokenize(text)\n",
    "    return tokenized_text"
   ]
  },
  {
   "cell_type": "code",
   "execution_count": 19,
   "metadata": {
    "colab": {},
    "colab_type": "code",
    "id": "CPjb0JnTYT82"
   },
   "outputs": [],
   "source": [
    "#Here, we import french stop words and add buissness related items\n",
    "def getStopWordList():\n",
    "    #read the stopwords file and build a list\n",
    "    stopWords = []\n",
    "    stopWords = get_stop_words('french')\n",
    "    BusinessWords=['vynd',\"cest\",\"est\",\"a\",'ca',\n",
    "                   \"bar\",\"restaurant\",\"jai\",\"oui\",\"non\",'c','happy',\n",
    "                   'hour','happyhour','fast','food','fastfood','plat']\n",
    "    return BusinessWords + stopWords"
   ]
  },
  {
   "cell_type": "code",
   "execution_count": 20,
   "metadata": {
    "colab": {},
    "colab_type": "code",
    "id": "HYsmQU--YWa-"
   },
   "outputs": [],
   "source": [
    "stopWord=getStopWordList()\n",
    "def StopWordsAlphaText(tokenized_text):\n",
    "    filtred_text=[]\n",
    "    for word in tokenized_text:\n",
    "        #strip punctuation\n",
    "        word = word.strip('\\'\"?,.')\n",
    "        #check if the word starts with an alphabet\n",
    "        val = re.search(r\"^[a-zA-Z][a-zA-Z0-9]*$\", word)\n",
    "        #ignore if it is a stop word or val is none\n",
    "        if(word not in stopWord and val is not None):\n",
    "            filtred_text.append(word)\n",
    "    return filtred_text"
   ]
  },
  {
   "cell_type": "code",
   "execution_count": 21,
   "metadata": {
    "colab": {
     "base_uri": "https://localhost:8080/",
     "height": 370
    },
    "colab_type": "code",
    "id": "i3lEai5RYZfm",
    "outputId": "5b4d1051-40c5-4603-c3ea-885234294d2f"
   },
   "outputs": [],
   "source": [
    "for index,row in data.iterrows():\n",
    "    string=\"\"\n",
    "    Upper_text = Upper(row['Content'])\n",
    "    Token_text = FrTokenisation(Upper_text)\n",
    "    Filtered_text = StopWordsAlphaText(Token_text)\n",
    "    #Lemmatized_text = FrenchLemmatizer(Filtered_text)\n",
    "    #Lemmatized_text = FrenchStem(Filtered_text)\n",
    "    for item in Filtered_text:\n",
    "        string=string + \" \" + item\n",
    "    #print(len(data)-index)\n",
    "    data.loc[index,\"Final_text\"]=string"
   ]
  },
  {
   "cell_type": "code",
   "execution_count": 22,
   "metadata": {},
   "outputs": [],
   "source": [
    "def Filter(text):\n",
    "    text = str(text)\n",
    "    string=\"\"\n",
    "    Upper_text = Upper(text)\n",
    "    Token_text = FrTokenisation(Upper_text)\n",
    "    Filtered_text = StopWordsAlphaText(Token_text)\n",
    "    #Lemmatized_text = FrenchLemmatizer(Filtered_text)\n",
    "    #Lemmatized_text = FrenchStem(Filtered_text)\n",
    "    for item in Filtered_text:\n",
    "        string=string + \" \" + item\n",
    "    #print(len(data)-index)\n",
    "    return string"
   ]
  },
  {
   "cell_type": "code",
   "execution_count": 23,
   "metadata": {},
   "outputs": [
    {
     "data": {
      "text/plain": [
       "' espace mal personnel sympathique surtout pendant weekend'"
      ]
     },
     "execution_count": 23,
     "metadata": {},
     "output_type": "execute_result"
    }
   ],
   "source": [
    "Filter('Espace très mal fréquenté. Personnel pas du tout sympathique. A éviter surtout pendant le weekend')"
   ]
  },
  {
   "cell_type": "code",
   "execution_count": 24,
   "metadata": {
    "colab": {},
    "colab_type": "code",
    "id": "DJZ7m04Jz6mi"
   },
   "outputs": [],
   "source": [
    "fasttext_data = Path(\"fasttext_dataset.txt\")\n",
    "train_data = Path('train.txt')\n",
    "test_data=Path('test.txt')"
   ]
  },
  {
   "cell_type": "code",
   "execution_count": 25,
   "metadata": {
    "colab": {},
    "colab_type": "code",
    "id": "J7G27mNe0H9t"
   },
   "outputs": [],
   "source": [
    "output = fasttext_data.open(\"w\")\n",
    "train_output=train_data.open(\"w\")\n",
    "test_output=test_data.open(\"w\")\n",
    "percent_test_data = 0.10\n",
    "for index,row in data.iterrows():\n",
    "    review_data = row['Final_text']\n",
    "\n",
    "    rating = row['Rate']\n",
    "    text = str(review_data).replace(\"\\n\", \" \")\n",
    "\n",
    "    fasttext_line = \"__label__{} {}\".format(rating, review_data)\n",
    "\n",
    "    output.write(fasttext_line + \"\\n\")\n",
    "    if random.random() <= percent_test_data:\n",
    "        test_output.write(fasttext_line + \"\\n\")\n",
    "    else:\n",
    "        train_output.write(fasttext_line + \"\\n\")"
   ]
  },
  {
   "cell_type": "code",
   "execution_count": 86,
   "metadata": {},
   "outputs": [],
   "source": [
    "output = fasttext_data.open(\"w\")\n",
    "train_output=train_data.open(\"w\")\n",
    "test_output=test_data.open(\"w\")\n",
    "for index,row in data.iterrows():\n",
    "    review_data = row['Final_text']\n",
    "    rating = row['Rate']\n",
    "    text = str(review_data).replace(\"\\n\", \" \")\n",
    "\n",
    "    fasttext_line = \"__label__{} {}\".format(rating, review_data)\n",
    "\n",
    "    output.write(fasttext_line + \"\\n\")\n",
    "    train_output.write(fasttext_line + \"\\n\")"
   ]
  },
  {
   "cell_type": "code",
   "execution_count": 27,
   "metadata": {
    "colab": {},
    "colab_type": "code",
    "id": "wLxWYz8xAv6O"
   },
   "outputs": [],
   "source": [
    "output = fasttext_data.open(\"w\")"
   ]
  },
  {
   "cell_type": "code",
   "execution_count": 28,
   "metadata": {
    "scrolled": true
   },
   "outputs": [
    {
     "name": "stdout",
     "output_type": "stream",
     "text": [
      "Requirement already satisfied: fasttext in /home/badri/.conda/envs/Vynd/lib/python3.6/site-packages (0.9.1)\n",
      "Requirement already satisfied: pybind11>=2.2 in /home/badri/.conda/envs/Vynd/lib/python3.6/site-packages (from fasttext) (2.3.0)\n",
      "Requirement already satisfied: numpy in /home/badri/.local/lib/python3.6/site-packages (from fasttext) (1.17.0)\n",
      "Requirement already satisfied: setuptools>=0.7.0 in /home/badri/.conda/envs/Vynd/lib/python3.6/site-packages (from fasttext) (41.0.1)\n"
     ]
    }
   ],
   "source": [
    "!pip install fasttext"
   ]
  },
  {
   "cell_type": "code",
   "execution_count": 87,
   "metadata": {
    "colab": {},
    "colab_type": "code",
    "id": "Yp0Dvv0J1VDO"
   },
   "outputs": [],
   "source": [
    "import fasttext\n",
    "\n",
    "model = fasttext.train_supervised('train.txt',epoch=200,wordNgrams=10)"
   ]
  },
  {
   "cell_type": "code",
   "execution_count": 46,
   "metadata": {},
   "outputs": [],
   "source": [
    "model.save_model('model.bin')"
   ]
  },
  {
   "cell_type": "code",
   "execution_count": 88,
   "metadata": {
    "colab": {
     "base_uri": "https://localhost:8080/",
     "height": 70
    },
    "colab_type": "code",
    "id": "R3HnjC4E4mAv",
    "outputId": "e719e543-eb6b-4f55-8c5c-ad89959bf9ca"
   },
   "outputs": [
    {
     "name": "stdout",
     "output_type": "stream",
     "text": [
      "['</s>', 'service', 'bien', 'prix', 'plats', 'plus', 'bonne', 'cuisine', 'accueil', 'nourriture', 'endroit', 'personnel', 'cadre', 'repas', 'vraiment', 'serveur', 'terrasse', 'ambiance', 'vue', 's', 'serveurs', 'carte', 'manger', 'table', 'excellent', 'rien', 'rapport', 'sympa', 'menu', 'cher', 'salade', 'petit', 'mer', 'surtout', 'belle', 'rapide', 'super', 'beaucoup', 'toujours', 'mal', 'tres', 'resto', 'recommande', 'pris', 'frais', 'hammamet', 'poisson', 'place', 'assez', 'faut', 'sympathique', 'choix', 'chaleureux', 'aller', 'magnifique', 'entre', 'bons', 'attente', 'temps', 'autres', 'jamais', 'dire', 'seul', 'vin', 'dessert', 'servi', 'tunis', 'prendre', 'amis', 'mieux', 'soir', 'clients', 'monde', 'avis', 'verre', 'bouffe', 'mauvais', 'moment', 'top', 'brasserie', 'lieu', 'eau', 'produits', 'serveuse', 'pizza', 'grand', 'correct', 'fruits', 'frites', 'meilleur', 'maison', 'toute', 'commande', 'assiette', 'excellente', 'ville', 'touristes', 'lille', 'reste', 'dit', 'mauvaise', 'viande', 'parfait', 'plein', 'jour', 'petite', 'restaurants', 'grande', 'sauce', 'tables', 'absolument', 'salle', 'adresse', 'famille', 'dommage', 'emplacement', 'bref', 'centre', 'poissons', 'long', 'patron', 'part', 'voir', 'merci', 'minutes', 'tunisienne', 'plusieurs', 'point', 'moules', 'pire', 'quelques', 'vaut', 'chose', 'midi', 'heure', 'servis', 'horrible', 'euros', 'froid', 'vrai', 'passer', 'mange', 'impeccable', 'moyen', 'lent', 'rue', 'patronne', 'nul', 'tunisie', 'bas', 'pain', 'vivement', 'accueillant', 'aimable', 'honte', 'bonnes', 'superbe', 'copieux', 'sourire', 'beau', 'trouver', 'couscous', 'simple', 'contre', 'trouve', 'propre', 'peine', 'allez', 'chez', 'loin', 'addition', 'boire', 'fromage', 'assiettes', 'vite', 'visite', 'aucune', 'devant', 'toilettes', 'conseille', 'correcte', 'simplement', 'sale', 'limite', 'demande', 'boissons', 'typique', 'calme', 'musique', 'commentaires', 'poulet', 'professionnel', 'bouchon', 'fin', 'cassoulet', 'enfants', 'chemin', 'coup', 'desserts', 'malheureusement', 'ouvert', 'passage', 'niveau', 'fort', 'payer', 'nuit', 'touriste', 'soupe', 'meilleurs', 'sinon', 'souriant', 'aime', 'moyenne', 'petits', 'air', 'va', 'manque', 'lyonnais', 'lors', 'envie', 'chef', 'seule', 'note', 'pizzas', 'attention', 'jus', 'pendant', 'ailleurs', 'bouteille', 'tard', 'erreur', 'efficace', 'diner', 'porte', 'ans', 'demander', 'coin', 'plaisir', 'ainsi', 'raisonnable', 'vins', 'premier', 'gens', 'chocolat', 'propose', 'chaud', 'attrape', 'sert', 'hauteur', 'essayer', 'surprise', 'fuir', 'cuit', 'cantine', 'attendre', 'nord', 'meme', 'pu', 'servir', 'passez', 'samedi', 'visiter', 'gout', 'face', 'femme', 'arnaque', 'espace', 'peux', 'presque', 'donne', 'puis', 'choisi', 'impression', 'toutes', 'saveur', 'pourtant', 'tunisiens', 'quoi', 'laisse', 'dont', 'vers', 'bel', 'doute', 'exceptionnel', 'disant', 'tripadvisor', 'trois', 'souvent', 'tour', 'client', 'celui', 'vieux', 'etait', 'riz', 'menus', 'tunisien', 'acceuil', 'groupe', 'spectacle', 'conseil', 'cependant', 'franchement', 'jours', 'dimanche', 'faim', 'sauf', 'suite', 'gras', 'pense', 'bord', 'mets', 'salades', 'jolie', 'vais', 'recommander', 'changer', 'attendu', 'couple', 'abord', 'lyon', 'jambon', 'semaine', 'welsh', 'bonjour', 'soleil', 'venu', 'hasard', 'quelque', 'paris', 'longue', 'el', 'fuyez', 'digne', 'meilleure', 'servie', 'quartier', 'passe', 'chers', 'steak', 'saveurs', 'offre', 'coeur', 'excellents', 'ensuite', 'saint', 'lorsque', 'corrects', 'commander', 'ami', 'insipide', 'pouvez', 'crevettes', 'revoir', 'venus', 'certainement', 'ensemble', 'jusqu', 'burger', 'cuite', 'joli', 'rapidement', 'portions', 'traditionnelle', 'possible', 'voulez', 'port', 'gentil', 'serveuses', 'filet', 'industrielle', 'couverts', 'sent', 'enfin', 'voulions', 'tarte', 'assis', 'bravo', 'tant', 'regarder', 'sortie', 'partie', 'arrive', 'gamme', 'cuites', 'grosse', 'lac', 'st', 'gros', 'venir', 'restauration', 'glace', 'raisonnables', 'fortement', 'froide', 'parler', 'coca', 'saumon', 'serviable', 'glaces', 'dinars', 'heureusement', 'fade', 'menthe', 'sales', 'agneau', 'gastronomie', 'cas', 'positif', 'blanc', 'typiquement', 'dernier', 'incontournable', 'terrible', 'matin', 'type', 'partir', 'boisson', 'endroits', 'vie', 'catastrophe', 'plage', 'style', 'mari', 'autour', 'adore', 'autant', 'semble', 'faite', 'incroyable', 'italien', 'touristique', 'vide', 'immangeable', 'amie', 'mois', 'surpris', 'convivial', 'vient', 'tel', 'medina', 'longtemps', 'difficile', 'certes', 'certains', 'lyonnaise', 'tarifs', 'mis', 'dessus', 'verres', 'lieux', 'nombreux', 'soins', 'hamburger', 'bout', 'droit', 'retourner', 'douteuse', 'profiter', 'charmant', 'heures', 'authentique', 'france', 'proche', 'charme', 'honteux', 'voulu', 'avance', 'genre', 'parle', 'jeune', 'prise', 'situation', 'vacances', 'catastrophique', 'enfant', 'chercher', 'terre', 'veut', 'rendez', 'sandwich', 'abordables', 'oignon', 'argent', 'chance', 'parfois', 'traditionnel', 'bruyant', 'environ', 'fleuve', 'lu', 'choisir', 'voyage', 'h', 'carcassonne', 'apres', 'locaux', 'marina', 'viandes', 'restau', 'sais', 'huile', 'classique', 'accueillis', 'affaires', 'baie', 'laisser', 'pommes', 'extraordinaire', 'responsable', 'mettre', 'site', 'compte', 'importe', 'finir', 'savoureux', 'base', 'eiffel', 'retournerai', 'compris', 'etre', 'boeuf', 'prend', 'merveilleux', 'celle', 'interminable', 'week', 'chic', 'complet', 'tomber', 'bof', 'thon', 'jacques', 'gentillesse', 'image', 'local', 'savoir', 'pleine', 'avantage', 'imprenable', 'langouste', 'habitude', 'agreable', 'commencer', 'servies', 'petites', 'reprises', 'finalement', 'italienne', 'sol', 'pause', 'services', 'odeur', 'accueilli', 'installer', 'milieu', 'pieds', 'arriver', 'cause', 'demi', 'donner', 'w', 'facile', 'acceptable', 'refaire', 'micro', 'offert', 'boite', 'hyper', 'fille', 'lire', 'conseiller', 'end', 'pression', 'maroilles', 'rendre', 'vieille', 'vraie', 'classe', 'facture', 'typiques', 'commandes', 'cartes', 'revenir', 'min', 'van', 'quant', 'cuisson', 'bouillabaisse', 'asseoir', 'monsieur', 'attend', 'conviviale', 'etc', 'the', 'foie', 'abordable', 'gogh', 'parlons', 'entrer', 'impossible', 'hier', 'orange', 'barberousse', 'fond', 'quelconque', 'eviter', 'galettes', 'chaleureuse', 'parfaite', 'institution', 'exemple', 'dis', 'alcool', 'consommation', 'accompagnement', 'carafe', 'dt', 'ancienne', 'ouverte', 'connu', 'paella', 'servent', 'points', 'particulier', 'fruit', 'fini', 'besoin', 'principal', 'moderne', 'locale', 'pareil', 'large', 'partout', 'hamburgers', 'sympas', 'unique', 'sec', 'dar', 'cuisinier', 'photos', 'totalement', 'cafe', 'bruit', 'yeux', 'conserve', 'redire', 'exceptionnelle', 'effet', 'tester', 'produit', 'froides', 'tranquille', 'horreur', 'pratique', 'personnels', 'morceaux', 'formule', 'canard', 'coucher', 'dej', 'calamars', 'parking', 'sait', 'oublier', 'gastronomique', 'durant', 'reviendrons', 'cool', 'froids', 'crois', 'infecte', 'disponible', 'minable', 'sens', 'nutella', 'fumeur', 'ressemble', 'pouvoir', 'question', 'rouge', 'occasion', 'pourrait', 'belles', 'plateau', 'nombre', 'malade', 'laurent', 'succulents', 'relativement', 'rater', 'partis', 'histoire', 'mn', 'tarif', 'clairement', 'industriel', 'staff', 'spaghettis', 'fantastique', 'cours', 'faisait', 'moyens', 'affaire', 'recherche', 'pied', 'tranche', 'tomate', 'fameux', 'lorsqu', 'travail', 'amoureux', 'rare', 'anniversaire', 'courtois', 'appeler', 'meilleures', 'riche', 'parmi', 'pays', 'qualite', 'ouverture', 'bouche', 'rabatteur', 'mention', 'manquer', 'choses', 'dejeuner', 'arrivent', 'tartare', 'extra', 'lamentable', 'avenue', 'devient', 'retour', 'soin', 'permet', 'probablement', 'somme', 'organisation', 'mise', 'veille', 'immonde', 'saison', 'tunisiennes', 'direction', 'vendredi', 'fleurs', 'annonce', 'pro', 'chicha', 'veulent', 'accueille', 'allons', 'plan', 'changement', 'romantique', 'yasmine', 'satisfait', 'usine', 'notamment', 'jeunes', 'attentif', 'inexistant', 'normal', 'reviendrai', 'appelle', 'propres', 'poli', 'viens', 'fumeurs', 'dame', 'citron', 'professionnalisme', 'chaises', 'sandwichs', 'restos', 'amateurs', 'lilloise', 'plastique', 'murs', 'aimables', 'original', 'wc', 'excellentes', 'excuse', 'ordinaire', 'rentrer', 'respect', 'hui', 'taxi', 'aujourd', 'dirait', 'hotel', 'poulpe', 'penser', 'succulent', 'parti', 'raison', 'gambas', 'concept', 'chaude', 'souriante', 'gentils', 'grandes', 'main', 'entendu', 'ancien', 'caisse', 'fine', 'arrivant', 'ok', 'fallu', 'canari', 'ramadan', 'culinaire', 'train', 'copieuse', 'amateur', 'rihour', 'galette', 'pates', 'critiques', 'familiale', 'commence', 'nombreuses', 'marsa', 'agit', 'bonheur', 'ete', 'uniquement', 'humeur', 'nouvelle', 'traditionnels', 'escalope', 'peuvent', 'veau', 'tenter', 'salon', 'morceau', 'anglais', 'trottoir', 'quatre', 'voyant', 'burgers', 'cuits', 'falaise', 'devenu', 'bouchons', 'exorbitants', 'cb', 'titre', 'populaire', 'devanture', 'couples', 'met', 'final', 'installe', 'locales', 'pouvait', 'lillois', 'chaleur', 'concernant', 'dessous', 'cherchez', 'brunch', 'laissez', 'retournerais', 'suivi', 'pierre', 'tomates', 'loup', 'jeld', 'exorbitant', 'prochaine', 'travailler', 'benjamin', 'gratuit', 'vomir', 'gratin', 'ridicule', 'seuls', 'continuation', 'venue', 'politesse', 'dur', 'portiers', 'frite', 'aliments', 'change', 'remparts', 'achour', 'croire', 'largement', 'courant', 'originale', 'triste', 'arles', 'fallait', 'souriants', 'couper', 'semblait', 'e', 'donnant', 'disponibles', 'retournerons', 'andouillette', 'aise', 'parfaitement', 'accueillir', 'compter', 'bleue', 'formidable', 'escaliers', 'cocktail', 'racolage', 'onde', 'surement', 'vaisselle', 'revanche', 'trip', 'fils', 'tenu', 'pires', 'partager', 'cuisines', 'regrette', 'rendu', 'couvert', 'totale', 'adorable', 'sidi', 'fumer', 'situe', 'attendais', 'passant', 'remise', 'plutot', 'apporte', 'mots', 'sauces', 'sympathiques', 'grands', 'filles', 'souvenir', 'couleur', 'voulais', 'lentilles', 'photo', 'aimez', 'succulente', 'comprends', 'lait', 'prenez', 'accueillants', 'venez', 'places', 'professionnels', 'peur', 'pseudo', 'proposer', 'obtenir', 'cru', 'forte', 'sachet', 'sublime', 'humour', 'conseils', 'idem', 'puisque', 'charcuterie', 'cocktails', 'visiblement', 'indien', 'magique', 'toutefois', 'sole', 'faible', 'brick', 'quasi', 'ultra', 'panne', 'couverte', 'bcp', 'stan', 'terme', 'selon', 'familles', 'souffle', 'impolis', 'effort', 'certain', 'pitoyable', 'comprend', 'grasse', 'hiver', 'effectivement', 'rues', 'garniture', 'carbonnade', 'minuit', 'p', 'ch', 'impoli', 'directement', 'pauvre', 'delicieux', 'homard', 'industriels', 'connais', 'tt', 'bourguiba', 'irrespectueux', 'rester', 'souhaitez', 'recommandons', 'nulle', 'cigarette', 'retrouve', 'sel', 'pizzeria', 'su', 'commercial', 'oublie', 'dirais', 'lounge', 'quenelle', 'beaux', 'gourmande', 'retrouver', 'must', 'retourne', 'convient', 'principale', 'veux', 'prennent', 'douteux', 'quasiment', 'salles', 'paye', 'discret', 'excellence', 'familial', 'bellevue', 'convenable', 'commentaire', 'oblige', 'sucre', 'juillet', 'berges', 'royal', 'viennent', 'comble', 'minuscule', 'voire', 'fermer', 'caramel', 'voulait', 'fades', 'proprio', 'basique', 'savoureuse', 'fraiche', 'cosy', 'tranches', 'bleu', 'bizarre', 'saucisson', 'classiques', 'splendide', 'affreux', 'marche', 'faisant', 'restaurent', 'positifs', 'cheveux', 'fondant', 'groupes', 'sombre', 'passable', 'fraicheur', 'degueulasse', 'attirer', 'kir', 'tenue', 'and', 'euro', 'attentes', 'total', 'tendre', 'simples', 'magnifiques', 'papilles', 'voici', 'filets', 'chacun', 'mojito', 'attendant', 'sortir', 'papier', 'scandaleux', 'proposant', 'confortable', 'vitrine', 'noir', 'sorte', 'restaurer', 'signe', 'basse', 'exister', 'magret', 'rend', 'adultes', 'demandez', 'allait', 'grave', 'contenu', 'cauchemar', 'perrier', 'olympia', 'deco', 'aquarelle', 'haute', 'fraise', 'minimum', 'faute', 'ya', 'prenons', 'mousse', 'insipides', 'enseigne', 'monter', 'minute', 'remarque', 'sortant', 'discuter', 'zone', 'alentours', 'fromages', 'affluence', 'copieuses', 'spaghetti', 'taille', 'devait', 'afin', 'truc', 'ondes', 'comprendre', 'assaisonnement', 'bistro', 'route', 'reviendra', 'pourri', 'afterwork', 'heureux', 'sort', 'passons', 'puisse', 'ali', 'mediocre', 'intime', 'madame', 'philippe', 'apparemment', 'pourrez', 'liste', 'indique', 'champignons', 'correctes', 'attire', 'excessif', 'voisins', 'consommer', 'horaires', 'chauds', 'flamande', 'nez', 'cour', 'pot', 'dispose', 'pleins', 'ferme', 'golfe', 'telle', 'escargots', 'propos', 'saucisse', 'cerise', 'garder', 'tacos', 'hic', 'poser', 'internationale', 'mauvaises', 'quelqu', 'etablissement', 'prestation', 'contrairement', 'terasse', 'immense', 'pignons', 'semaines', 'risotto', 'tuerie', 'patrons', 'dizaine', 'buffet', 'cote', 'visites', 'dj', 'mini', 'decor', 'cinq', 'vrais', 'animation', 'to', 'dorade', 'suffisamment', 'fabuleux', 'quart', 'ds', 'gouter', 'invite', 'homme', 'parisien', 'nappe', 'surtt', 'slah', 'budget', 'cherche', 'personnellement', 'seconde', 'connaissent', 'raviolis', 'escalier', 'beurre', 'satisfaite', 'suffisant', 'advisor', 'vues', 'uns', 'jardin', 'venons', 'pensez', 'lundi', 'mi', 'bistrot', 'dynamique', 'regarde', 'regard', 'oeufs', 'prison', 'consulter', 'fil', 'after', 'touche', 'trouverez', 'guise', 'panoramique', 'recette', 'montpellier', 'joliment', 'or', 'chantilly', 'accueillante', 'respecte', 'premiers', 'machine', 'tunisoise', 'connait', 'demandons', 'perdu', 'brik', 'exquis', 'pousse', 'bavette', 'biere', 'multiples', 'bruyante', 'accord', 'toilette', 'work', 'os', 'entrez', 'satisfaisant', 'concert', 'fraises', 'gueule', 'souris', 'charmante', 'sirop', 'mur', 'sentir', 'cherchions', 'mangeable', 'remarquable', 'faux', 'poivre', 'sorti', 'servit', 'environnement', 'ps', 'jusque', 'tiramisu', 'bois', 'coquilles', 'certaines', 'restaurateur', 'bouhdid', 'failli', 'pratiquement', 'erreurs', 'in', 'architecture', 'apero', 'rares', 'rabatteuse', 'rupture', 'portes', 'ventre', 'faits', 'oeuf', 'envers', 'chandelles', 'verte', 'voisin', 'luxe', 'entree', 'tapas', 'portion', 'geste', 'incroyablement', 'crepes', 'volaille', 'mouches', 'vulgaire', 'concerne', 'malheureux', 'wifi', 'outre', 'important', 'snack', 'ombre', 'barman', 'carpaccio', 'existe', 'vert', 'joie', 'industrielles', 'weekend', 'tardive', 'an', 'etions', 'amies', 'blanche', 'amical', 'offrant', 'sympatique', 'bella', 'scandale', 'antipathique', 'rempli', 'court', 'jumelles', 'ravis', 'ordre', 'monnaie', 'faudrait', 'attitude', 'recommanderais', 'souvenirs', 'moindre', 'perfection', 'manquent', 'ail', 'sachant', 'orangina', 'femmes', 'baguette', 'doivent', 'tours', 'attendez', 'prime', 'excessifs', 'fermeture', 'pur', 'makloub', 'vivre', 'interdit', 'degeulasse', 'cola', 'etant', 'chien', 'baigne', 'indigne', 'unes', 'palais', 'retenir', 'souk', 'max', 'entretenu', 'alimentaire', 'laquelle', 'oubliez', 'coupe', 'choisissez', 'globalement', 'glacial', 'horaire', 'chevre', 'divers', 'marmite', 'rajouter', 'cidre', 'merdique', 'fournie', 'flotte', 'profite', 'cheese', 'vieillot', 'chaise', 'reproche', 'olives', 'maroille', 'jaune', 'terribles', 'condor', 'entendre', 'confirme', 'halte', 'croque', 'it', 'terminer', 'steaks', 'sud', 'travers', 'arrogant', 'recevoir', 'juin', 'basiques', 'carbonade', 'rarement', 'ah', 'essayez', 'venant', 'internet', 'royale', 'mec', 'tasse', 'fameuse', 'fi', 'reservation', 'assurer', 'front', 'impose', 'mayonnaise', 'capitale', 'mai', 'rdv', 'savon', 'joseph', 'chaudes', 'libre', 'soucis', 'demeure', 'accepte', 'tagliatelles', 'mozzarella', 'match', 'recettes', 'maisons', 'expliquer', 'ticket', 'serviables', 'septembre', 'rez', 'paiement', 'gastro', 'malheur', 'facilement', 'vienne', 'orientale', 'horriblement', 'vent', 'laissent', 'pomme', 'application', 'janvier', 'suivant', 'tradition', 'inutile', 'content', 'occupe', 'calamar', 'proposent', 'commandons', 'trompe', 'marseille', 'esprit', 'maitre', 'directeur', 'emporter', 'tableau', 'lequel', 'feu', 'crepe', 'suffit', 'queue', 'balade', 'habituellement', 'no', 'double', 'obligatoire', 'puisqu', 'collante', 'quitter', 'vielle', 'foule', 'fondu', 'habitants', 'fonctionne', 'historique', 'manquait', 'prochain', 'b', 'mine', 'merde', 'secours', 'souks', 'nettement', 'bourguignon', 'formules', 'mains', 'ruelle', 'derniers', 'merveilleuse', 'devraient', 'i', 'oignons', 'profitez', 'prends', 'racoler', 'exceptionnels', 'correctement', 'noter', 'paie', 'sable', 'offerts', 'banane', 'offerte', 'signaler', 'gustatif', 'concurrence', 'principalement', 'inadmissible', 'sommet', 'certaine', 'prohibitifs', 'tourisme', 'habib', 'gentille', 'acheter', 'patio', 'refus', 'indienne', 'capable', 'nuits', 'art', 'promenade', 'inoubliable', 'novembre', 'adresses', 'souhaite', 'visiteurs', 'conclusion', 'poire', 'convives', 'comportement', 'lardons', 'chats', 'immangeables', 'acceuillant', 'celles', 'vinaigrette', 'rends', 'nuggets', 'importante', 'niveaux', 'donnent', 'surface', 'italie', 'office', 'odeurs', 'allions', 'explique', 'crevette', 'sortis', 'atout', 'proches', 'chauffage', 'amandes', 'croirait', 'vaste', 'dite', 'rire', 'cuisiniers', 'ben', 'nickel', 'disons', 'serviettes', 'restaurateurs', 'mangez', 'continu', 'etaient', 'reserver', 'arrivez', 'pointe', 'installation', 'assoir', 'environs', 'pensant', 'professionnelle', 'fou', 'hormis', 'omelette', 'expresso', 'arrogants', 'accompagnements', 'rentre', 'parcours', 'pittoresque', 'miel', 'carrefour', 'standard', 'daurade', 'pouvions', 'restent', 'parlent', 'pr', 'terrasses', 'normalement', 'raffinement', 'panini', 'ti', 'terroir', 'ajouter', 'installons', 'chambre', 'limonade', 'hommes', 'demandant', 'excessivement', 'stop', 'souper', 'jeudi', 'voyons', 'satisfaits', 'er', 'aucunes', 'bu', 'tunisois', 'planche', 'cuissons', 'croquettes', 'bienvenu', 'mode', 'manager', 'gaz', 'mourir', 'atypique', 'lasagnes', 'mr', 'risque', 'toast', 'pasta', 'auparavant', 'soda', 'golf', 'scolaire', 'normes', 'aiment', 'rose', 'forum', 'bienvenue', 'banale', 'ptit', 'regardant', 'toit', 'dauphinois', 'soirs', 'noix', 'reviendrais', 'dure', 'succulentes', 'attendent', 'marches', 'rouget', 'purement', 'bouteilles', 'bolognaise', 'odieux', 'allant', 'penne', 'cuistot', 'public', 'equipe', 'longues', 'consommations', 'pichet', 'rougets', 'saignant', 'evitez', 'rappelle', 'chaleureusement', 'pate', 'confit', 'laissant', 'lance', 'mesure', 'ose', 'bateaux', 'braderie', 'baignant', 'voulant', 'imbattable', 'localisation', 'valait', 'debout', 'decoration', 'offrir', 'cave', 'affiche', 'racoleuse', 'beurk', 'tourte', 'cesse', 'aimer', 'patienter', 'parfaits', 'banal', 'clair', 'laitue', 'chat', 'croissant', 'nino', 'zink', 'mythique', 'pistache', 'gazeuse', 'courage', 'pattes', 'remarques', 'agissait', 'ballade', 'paradis', 'meurette', 'insupportable', 'jean', 'blague', 'taureau', 'connaissance', 'insulter', 'italiens', 'bouts', 'insulte', 'mille', 'parisiens', 'mercredi', 'sympathie', 'brouhaha', 'intoxication', 'somptueux', 'idyllique', 'accepter', 'etchebest', 'amuses', 'gouts', 'faisons', 'fraudes', 'offrent', 'principaux', 'origine', 'options', 'continue', 'remarquer', 'quoique', 'avenant', 'direct', 'gourmands', 'latin', 'lendemain', 'douce', 'exception', 'gaufre', 'originaux', 'compagne', 'stars', 'tartes', 'bey', 'evidemment', 'oranges', 'contraire', 'pure', 'noms', 'deja', 'savourer', 'contient', 'trou', 'priori', 'rendus', 'deconseille', 'chichi', 'assortiment', 'deplorable', 'apparence', 'demie', 'pose', 'octobre', 'etes', 'langoustes', 'rouges', 'revenu', 'gargote', 'devez', 'ridicules', 'parents', 'miam', 'inacceptable', 'brasseries', 'dangereux', 'utiliser', 'desagreable', 'mettez', 'paraissait', 'lol', 'roquefort', 'joue', 'mariage', 'imbuvable', 'accompagne', 'ouvrir', 'asiatique', 'ieurs', 'ect', 'surprises', 'couronner', 'bah', 'compagnie', 'stationnement', 'mardi', 'efforts', 'plait', 'date', 'permis', 'montre', 'parlant', 'fausse', 'parisienne', 'excuses', 'recommandation', 'sorbet', 'terminal', 'urgence', 'terriblement', 'turc', 'incapable', 'viennoiseries', 'friture', 'oeil', 'engueulent', 'brochette', 'surprenant', 'voisine', 'superbes', 'potentiel', 'reviens', 'sure', 'arabe', 'correspond', 'regret', 'moments', 'roi', 'sarrasin', 'grosses', 'personnelle', 'respectueux', 'perdus', 'souhaitions', 'pensions', 'plaindre', 'curry', 'gars', 'tatin', 'cendrier', 'coupes', 'ice', 'ny', 'cm', 'rassis', 'garnies', 'mignon', 'amour', 'rentrez', 'bouillon', 'approximatif', 'naan', 'oreille', 'panorama', 'experience', 'null', 'travaille', 'choucroute', 'pluie', 'frits', 'disent', 'jeter', 'corbeille', 'payez', 'noire', 'espadon', 'baisse', 'orient', 'copine', 'gourmand', 'disparu', 'rappeler', 'leader', 'plancha', 'fontaine', 'remettre', 'six', 'chaloupe', 'satisfaire', 'feuilles', 'rejoins', 'attendions', 'farcie', 'mars', 'bessin', 'immondes', 'reposant', 'iceberg', 'notes', 'structure', 'brochettes', 'fumant', 'saucisses', 'vol', 'interieur', 'prises', 'cigarettes', 'pigeons', 'honneur', 'impolitesse', 'exactement', 'quenelles', 'croustillant', 'impressionnant', 'spacieux', 'etais', 'moutarde', 'ardoise', 'pretexte', 'patience', 'creux', 'chti', 'bol', 'fume', 'souhait', 'couleurs', 'moule', 'inclus', 'fb', 'traiter', 'attractif', 'secs', 'suivre', 'volontiers', 'ex', 'guide', 'tardif', 'accompagner', 'comparaison', 'moyennement', 'fonction', 'cheesecake', 'sentiment', 'tandoori', 'oh', 'nerfs', 'message', 'vanille', 'summum', 'apporter', 'prit', 'mechouia', 'responsables', 'arnaquer', 'frittes', 'racoleur', 'explications', 'carton', 'soiree', 'rondelles', 'tombe', 'tient', 'gateaux', 'infect', 'option', 'positive', 'poil', 'parmesan', 'quelconques', 'surplombe', 'cherchant', 'abominable', 'vides', 'refuse', 'exigu', 'grace', 'faudra', 'fera', 'aspect', 'dix', 'maximum', 'blanches', 'fan', 'bricks', 'price', 'efficaces', 'seiches', 'nocturne', 'voulaient', 'croissants', 'polis', 'mangeant', 'parlait', 'rang', 'inscrit', 'zero', 'arnaqueurs', 'conforme', 'fondue', 'attendons', 'pourrie', 'standards', 'ignoble', 'tamarillos', 'surplombant', 'siroter', 'connue', 'voiture', 'attirant', 'secteur', 'toile', 'renvoyer', 'avoue', 'chop', 'bnina', 'angle', 'sardines', 'impersonnel', 'daigne', 'videurs', 'chapeau', 'vis', 'attabler', 'impecable', 'mojitos', 'premiere', 'absence', 'coucous', 'remplie', 'bateau', 'destination', 'ideal', 'fourchettes', 'marque', 'chacune', 'assises', 'quil', 'porc', 'noctambules', 'rabais', 'san', 'citadelle', 'do', 'dispute', 'choisis', 'copain', 'occuper', 'admirer', 'suffisante', 'ouvre', 'robinet', 'kasbah', 'chicken', 'semblent', 'impeccables', 'demandes', 'speed', 'cachet', 'partenaires', 'insistant', 'essai', 'craquer', 'plans', 'chiens', 'semelle', 'symphonie', 'servant', 'grillades', 'avril', 'gauche', 'proprios', 'sushis', 'u', 'pouvais', 'lasagne', 'ratez', 'entrant', 'garde', 'banlieue', 'suit', 'prenne', 'tranquillement', 'constater', 'personel', 'liquide', 'majiyah', 'imagine', 'cuisiner', 'duel', 'majeur', 'clean', 'f', 'chapati', 'fixe', 'centrale', 'pratiques', 'mersique', 'nouriture', 'attrayante', 'anciens', 'wok', 'melon', 'live', 'cl', 'exquise', 'autoroute', 'chips', 'collant', 'citronnade', 'brique', 'waterzoi', 'nappes', 'eur', 'merveille', 'gouteux', 'musicien', 'tickets', 'gateau', 'inmangeable', 'relaxer', 'tardivement', 'corse', 'paix', 'parfums', 'bras', 'sanitaires', 'trouvant', 'connaissant', 'amuse', 'confirmer', 'ouvertement', 'attends', 'attirante', 'milkshake', 'doigts', 'convaincu', 'estomac', 'ajoute', 'confort', 'transforme', 'essaye', 'foot', 'incontournables', 'lourd', 'assurez', 'connaisseurs', 'welch', 'tabliers', 'bouge', 'charge', 'bouillie', 'garni', 'svp', 'comparer', 'steack', 'employer', 'neuf', 'plaisant', 'chicoree', 'merguez', 'voila', 'carottes', 'ojja', 'attarder', 'bande', 'mac', 'nan', 'commerce', 'connaissais', 'jy', 'indispensable', 'preuve', 'pourboire', 'semblaient', 'garnie', 'pub', 'chocolats', 'plaque', 'gigot', 'normale', 'sortent', 'bierre', 'ciel', 'crus', 'indiens', 'battent', 'abri', 'foies', 'xxl', 'all', 'solution', 'milanaise', 'suppose', 'retiendra', 'reconnu', 'sobre', 'sentait', 'music', 'malades', 'tea', 'standing', 'nuls', 'conseillons', 'ketchup', 'musicale', 'escroquerie', 'pouvons', 'mixte', 'mobilier', 'assise', 'antan', 'serviette', 'design', 'remettrai', 'sodas', 'confirmation', 'pousser', 'cuire', 'boudin', 'ligne', 'printemps', 'presente', 'sanitaire', 'moche', 'ananas', 'revenons', 'tartiflette', 'course', 'emballage', 'cocotte', 'vingtaine', 'agents', 'agressif', 'ravi', 'divin', 'gratuite', 'smoothies', 'modeste', 'grasses', 'placer', 'rondelle', 'gare', 'imaginer', 'lunch', 'profession', 'kebab', 'mekla', 'cassolette', 'attrayant', 'arrivons', 'tendance', 'station', 'entend', 'promis', 'passent', 'mta3', 'chili', 'tort', 'livraison', 'cherchent', 'contents', 'menzah', 'blouse', 'jarret', 'refuser', 'fier', 'fiez', 'vivant', 'poubelles', 'go', 'membres', 'canette', 'faisais', 'fourchette', 'accessible', 'cache', 'moquer', 'louche', 'remplir', 'perdre', 'mangeait', 'informe', 'croquant', 'habite', 'tabac', 'cookies', 'issy', 'engueuler', 'barcha', 'fument', 'acceptables', 'bazar', 'daube', 'argument', 'poliment', 'autrefois', 'information', 'continuer', 'plaint', 'seules', 'attractifs', 'extraordinaires', 'dispo', 'mexicaine', 'mourad', 'vendre', 'courent', 'calmars', 'pinte', 'francais', 'alternative', 'second', 'royaume', 'nice', 'mamma', 'dieu', 'incontestablement', 'orchestre', 'boulot', 'lisez', 'touristiques', 'attendait', 'juger', 'bulles', 'coins', 'vouloir', 'molles', 'peint', 'boutique', 'rabateur', 'sein', 'euh', 'love', 'al', 'doux', 'travaux', 'haricots', 'norme', 'patient', 'pourcent', 'bilan', 'restes', 'indigeste', 'confortables', 'frioul', 'walima', 'promet', 'best', 'rendue', 'mort', 'espaces', 'retirer', 'gourmets', 'colle', 'saisonniers', 'revenus', 'jette', 'cliente', 'good', 'antipathiques', 'cappuccino', 'baguettes', 'portier', 'bacon', 'tete', 'passants', 'hurle', 'lyonnaises', 'hautain', 'artistes', 'insultant', 'etai', 'delicieuse', 'enlever', 'dinar', 'bad', 'repartir', 'file', 'libanais', 'fish', 'crie', 'lablebi', 'fraiches', 'tromper', 'nerf', 'parfaites', 'plafond', 'entier', 'reprendre', 'incroyables', 'fins', 'courants', 'pois', 'constat', 'tenir', 'appel', 'promener', 'aide', 'facades', 'havre', 'interpelle', 'harissa', 'tourne', 'faisions', 'fur', 'acide', 'anciennes', 'decu', 'grossier', 'coffee', 'tej', 'ressemblait', 'risquez', 'be', 'forteresse', 'descendre', 'poids', 'gestion', 'lentille', 'victime', 'rabatteurs', 'conserves', 'phrase', 'courgette', 'garnis', 'delice', 'achete', 'italiennes', 'mangeons', 'express', 'enfance', 'self', 'boutiques', 'disposition', 'correspondait', 'cosi', 'debut', 'malgre', 'vieilles', 'crue', 'gentiment', 'pleuvait', 'mouche', 'osent', 'comptez', 'moyennes', 'jazz', 'davantage', 'pignon', 'souriantes', 'pourboires', 'volume', 'savent', 'z', 'welsch', 'servira', 'jolies', 'vus', 'poussette', 'carcassonnaise', 'voudrais', 'cesar', 'sortons', 'poste', 'mat', 'merite', 'vivante', 'champagne', 'club', 'kamel', 'retournera', 'pancake', 'wel', 'laver', 'retard', 'connexion', 'tiede', 'piquette', 'decouvrir', 'frit', 'patisserie', 'hamamet', 'panneau', 'agneaux', 'yavait', 'deception', 'acceptent', 'finesse', 'tastira', 'lourde', 'ouest', 'justifie', 'obtenu', 'hygiene', 'savez', 'classement', 'russe', 'oups', 'via', 'sensation', 'enfer', 'rock', 'devenue', 'trouvez', 'gum', 'haricot', 'minimaliste', 'culinaires', 'tache', 'couche', 'montrer', 'gastronomiques', 'pleines', 'tente', 'mm', 'critique', 'bouger', 'essaie', 'langoustines', 'horribles', 'pauvres', 'negatif', 'conduit', 'omelettes', 'reposer', 'fauteuils', 'bonsoir', 'autrement', 'chere', 'venait', 'devions', 'vaux', 'legumes', 'blancs', 'quinzaine', 'connaissez', 'conjoint', 'revient', 'vagues', 'restant', 'biscuit', 'pancarte', 'firenze', 'gratuitement', 'clim', 'savions', 'connaissait', 'ressemblent', 'essentiel', 'parties', 'frequentation', 'sono', 'rond', 'langoustine', 'stress', 'questions', 'potes', 'chevrettes', 'chiffre', 'we', 'saluer', 'litre', 'boit', 'cliff', 'regretterez', 'sushi', 'dominique', 'partage', 'gueules', 'courte', 'bidon', 'fans', 'utile', 'rythme', 'comptoir', 'moisi', 'bizarrement', 'bannir', 'eh', 'sos', 'pros', 'recouverte', 'rajasthan', 'clope', 'spacieuse', 'voyait', 'lenteur', 'riches', 'ever', 'amene', 'limites', 'foutage', 'boycotte', 'refait', 'nans', 'glaciale', 'termine', 'sandwiches', 'racole', 'pis', 'restaus', 'surfaces', 'contenant', 'cacher', 'tas', 'manquant', 'ken', 'ss', 'oeuvre', 'oser', 'musiciens', 'casser', 'amener', 'manar', 'hautement', 'constante', 'magnifiquement', 'regrets', 'rattraper', 'dent', 'crescendo', 'magon', 'raisons', 'princesse', 'salami', 'gaufres', 'tombons', 'enchiladas', 'arbres', 'confortablement', 'rush', 'recommandations', 'impec', 'danger', 'entierement', 'escalopes', 'vinaigre', 'diners', 'parfum', 'presse', 'habituel', 'fun', 'prestations', 'contact', 'terne', 'orientales', 'pastis', 'livre', 'agitation', 'reprise', 'sommaire', 'ais', 'alerte', 'nourrir', 'annoncer', 'boites', 'morale', 'souci', 'batterie', 'combien', 'plaisanterie', 'entres', 'dignes', 'manteau', 'repris', 'michelin', 'ile', 'poils', 'passages', 'europe', 'feuille', 'positionnement', 'bureau', 'justes', 'metro', 'r', 'intense', 'police', 'sortes', 'continuez', 'durs', 'commun', 'vitesse', 'saisons', 'parait', 'kevin', 'termes', 'polie', 'danseuses', 'amplitude', 'voleurs', 'choisit', 'irai', 'hot', 'aubergines', 'oiseaux', 'commandez', 'musical', 'changez', 'prenait', 'vincent', 'folie', 'vrac', 'bulle', 'cozy', 'contraintes', 'aout', 'salons', 'applique', 'champignon', 'finale', 'sorties', 'yesser', 'fel', 'cadeau', 'etage', 'parasol', 'profitant', 'intention', 'chute', 'brochet', 'essaient', 'kitch', 'mou', 'minuscules', 'paninis', 'fourni', 'duo', 'cafes', 'surfait', 'retrouvent', 'remplies', 'boules', 'reprocher', 'onion', 'nettoyer', 'creme', 'parmis', 'sauver', 'donald', 'sylvain', 'mangerez', 'travaillent', 'gauffres', 'inmangeables', 'corniche', 'tapis', 'fauteuil', 'pompon', 'tjrs', 'tentant', 'rosette', 'magie', 'paraitre', 'confirmons', 'pardon', 'haja', 'chewing', 'irreprochable', 'maladroit', 'chauffeur', 'obliger', 'buche', 'raw', 'briques', 'ama', 'qd', 'gag', 'approximative', 'distrait', 'attentifs', 'farineux', 'entreprise', 'suggestion', 'comprenant', 'domage', 'zinc', 'lasse', 'voix', 'toits', 'ennasr', 'lever', 'prenant', 'cake', 'confiance', 'ratatouille', 'tablier', 'adorables', 'garantie', 'rossini', 'dirai', 'suspecte', 'im', 'annees', 'reposante', 'fondouk', 'impatients', 'poulpes', 'piscine', 'regal', 'remercie', 'regrettons', 'mc', 'fines', 'croyant', 'bastien', 'flunch', 'vertes', 'vieillotte', 'coquillages', 'rois', 'fuire', 'croyez', 'discount', 'personellement', 'roch', 'q', 'molle', 'patates', 'devais', 'sentant', 'insister', 'engueulade', 'cochon', 'corses', 'chaotique', 'escapade', 'incessant', 'recouverts', 'humains', 'provenance', 'nettoyage', 'satisfaisante', 'ns', 'veuillez', 'couvercle', 'inventive', 'valable', 'amusant', 'accompagnait', 'ramener', 'courtoisie', 'savais', 'obligation', 'regretter', 'festive', 'hamammet', 'improbable', 'charmants', 'soucie', 'judicieux', 'shopping', 'assemblage', 'tenez', 'formation', 'moquent', 'inclusive', 'bijou', 'dresser', 'essentiellement', 'zitouna', 'lotte', 'retournons', 'bonnement', 'cigale', 'bouches', 'changements', 'saignante', 'thomas', 'biens', 'appareil', 'spectaculaire', 'fermez', 'porter', 'explication', 'garer', 'grill', 'organiser', 'permettant', 'pensent', 'gigantesque', 'ridiculement', 'tiens', 'canada', 'gris', 'savoureuses', 'transport', 'herbes', 'vivants', 'plu', 'bordure', 'cuisses', 'farci', 'ferait', 'voyageurs', 'proposition', 'chaine', 'derniere', 'luxueux', 'baroque', 'lel', 'fuis', 'atroce', 'pancakes', 'langage', 'instant', 'paille', 'douter', 'gammarth', 'tit', 'cuiller', 'eli', 'jeux', 'cafards', 'shop', 'frigo', 'nerveuse', 'budgets', 'ressembler', 'accueillie', 'calzone', 'danser', 'bloc', 'g', 'toiles', 'types', 'jouer', 'paquet', 'crottes', 'pouce', 'pressentiment', 'minables', 'encourage', 'congeler', 'insalubre', 'moin', 'payant', 'consistants', 'aimerait', 'choisissons', 'film', 'ailleur', 'muscat', 'festival', 'collants', 'superbement', 'convainc', 'bougies', 'boule', 'impressionnante', 'bars', 'patrimoine', 'rencontres', 'ubuesque', 'soupes', 'tord', 'forts', 'sourires', 'four', 'remplis', 'permanent', 'desirer', 'estivale', 'tte', 'anarchique', 'diverses', 'merveilleusement', 'donnait', 'tiroir', 'recommandable', 'raci', 'permettre', 'relaxant', 'spongieux', 'abondante', 'semoule', 'rognons', 'envi', 'exellent', 'partez', 'ramadhan', 'ras', 'coussins', 'alsacienne', 'couteau', 'formellement', 'jasmin', 'nouvelles', 'uni', 'danse', 'dine', 'redresser', 'pareille', 'snacks', 'mettent', 'stock', 'inexistante', 'accorde', 'mns', 'perssonelles', 'grille', 'lunettes', 'grains', 'enorme', 'mara', 'baignaient', 'pue', 'appero', 'hop', 'cassent', 'maladroits', 'espoir', 'insistance', 'promettant', 'vittel', 'inviter', 'rabat', 'adorons', 're', 'carbonara', 'richesse', 'oriental', 'boulangerie', 'essayons', 'fantastiques', 'flux', 'marre', 'cuisse', 'fournit', 'excellant', 'cherchons', 'jimmy', 'recu', 'moucherons', 'boui', 'set', 'aperitif', 'aimerais', 'baies', 'commencement', 'sac', 'ressortir', 'intrusif', 'croques', 'entrecote', 'seau', 'biwa', 'doutes', 'yummy', 'biloute', 'longs', 'complets', 'maubeuge', 'reprend', 'web', 'transcendant', 'mozza', 'potjevleesch', 'laissons', 'brune', 'pensais', 'mangent', 'exigeant', 'puce', 'dome', 'traditions', 'ressenti', 'bech', 'terrine', 'pique', 'mers', 'senti', 'cheddar', 'compagnon', 'graisse', 'arreter', 'michael', 'dames', 'but', 'boucher', 'kfc', 'tiennent', 'back', 'chaland', 'cold', 'sentis', 'mises', 'andouillettes', 'respecter', 'observer', 'association', 'charcuteries', 'position', 'coquille', 'mienne', 'agressive', 'chablis', 'ramadanesque', 'mdr', 'piege', 'changent', 'tnd', 'interdiction', 'manquaient', 'rencontre', 'buffets', 'meurettes', 'indiquer', 'restez', 'rencontrer', 'mentionner', 'entendait', 'consistant', 'laissait', 'proprietaires', 'desert', 'beaujolais', 'traces', 'recherchions', 'michel', 'royalement', 'panier', 'magrets', 'claire', 'belge', 'ferais', 'descriptif', 'croute', 'grignoter', 'inconnu', 'profitent', 'portait', 'bain', 'enterrement', 'atouts', 'tajine', 'lot', 'qualifier', 'coupon', 'don', 'chariot', 'connaitre', 'ba', 'over', 'awel', 'invisible', 'brise', 'voyager', 'jobi', 'goutte', 'amuser', 'proprete', 'tripes', 'valent', 'chawarma', 'attraper', 'ajoutez', 'sentie', 'chouette', 'rv', 'didier', 'fournir', 'personnelles', 'chico', 'kamounia', 'cadres', 'franchouillard', 'cordial', 'cervelle', 'merou', 'huileuse', 'inefficace', 'repartis', 'up', 'besoins', 'pair', 'harmonie', 'playlist', 'pennes', 'encaisser', 'bolets', 'taches', 'longueur', 'supers', 'aurevoir', 'bou', 'correspondant', 'conseillerai', 'pourraient', 'pesto', 'ment', 'bone', 'perso', 'pensait', 'pains', 'centimes', 'refroidit', 'ennuyeux', 'repartie', 'dynamiser', 'paul', 'poussive', 'ajaccio', 'balader', 'inquiets', 'visitent', 'ados', 'alle', 'constant', 'intimiste', 'croutons', 'ironique', 'abords', 'spritz', 'absent', 'patisseries', 'aprem', 'dinde', 'circulation', 'chambres', 'vend', 'cheeseburger', 'couteaux', 'homardine', 'culturel', 'reputation', 'mangeurs', 'degeu', 'amusaient', 'daurades', 'affligeant', 'conquis', 'finit', 'gogo', 'pres', 'moez', 'objectif', 'carpe', 'excursion', 'maxi', 'valu', 'olive', 'bill', 'savait', 'prometteur', 'rabattus', 'na', 'atterri', 'nomme', 'delicieuses', 'climatisation', 'guides', 'management', 'gouteuses', 'gargotte', 'appelez', 'directe', 'exterieur', 'propositions', 'trace', 'ki', 'agrandi', 'citrons', 'clientele', 'lit', 'costumes', 'noirci', 'offres', 'professionalisme', 'impolie', 'ravioles', 'latte', 'rajoute', 'goulette', 'commandant', 'mare', 'poivrons', 'oliviers', 'wine', 'unanimement', 'mech', 'julie', 'interessant', 'oubli', 'contenter', 'barre', 'jeu', 'saine', 'piquant', 'football', 'dures', 'olivier', 'jouit', 'coller', 'actuellement', 'bieres', 'assure', 'semblerait', 'bordelais', 'farcis', 'pers', 'chiches', 'clafoutis', 'oc', 'landaise', 'neutre', 'libres', 'banales', 'parachever', 'attrappe', 'iftar', 'mcdo', 'mie', 'bemol', 'doigt', 'hours', 'connaissons', 'capuccino', 'ralenti', 'peinture', 'banana', 'alles', 'planches', 'adel', 'apparences', 'have', 'montez', 'just', 'garanti', 'rapides', 'very', 'bienvenus', 'papa', 'ame', 'trentaine', 'fout', 'adolescents', 'apportent', 'positives', 'linguine', 'faille', 'prepare', 'espase', 'importance', 'dressage', 'constate', 'rigolo', 'rhum', 'plaques', 'rempart', 'prefere', 'bouf', 'paroxysme', 'deep', 'house', 'show', 'toulouse', 'expression', 'officiellement', 'bancaire', 'rendent', 'danseurs', 'illustrer', 'nature', 'acteurs', 'billet', 'cheveu', 'offense', 'netoyer', 'payantes', 'motivation', 'fuyezzzz', 'nest', 'engueulades', 'tunisoises', 'passante', 'chorba', 'joindre', 'artiste', 'caumartin', 'camembert', 'sentez', 'aborder', 'conflits', 'quiche', 'ettahrir', 'restreint', 'ouverts', 'masque', 'essuyer', 'cafard', 'noie', 'potatoes', 'parc', 'rendons', 'satisfaction', 'profonde', 'parts', 'recherchez', 'ramequin', 'voie', 'titres', 'aucuns', 'perdue', 'maman', 'blonde', 'appris', 'malchance', 'plaisance', 'fritures', 'phare', 'malouf', 'logique', 'semi', 'rdc', 'innommable', 'champs', 'boulettes', 'deguelasse', 'ends', 'lents', 'made', 'ronde', 'coups', 'hazard', 'tournedos', 'patients', 'balai', 'gracieusement', 'advisors', 'market', 'lisant', 'xd', 'cook', 'partent', 'gouteuse', 'ricard', 'bombe', 'egalement', 'bleus', 'moelleux', 'communiquer', 'sensationnel', 'trouvent', 'naze', 'manifeste', 'reviser', 'allais', 'candidat', 'engager', 'vulgaires', 'bordeaux', 'sangria', 'alpaguer', 'region', 'mettte', 'promesse', 'moucheron', 'gr', 'strasbourg', 'splendeur', 'articles', 'ascenseur', 'pietra', 'whisky', 'sauvage', 'reclamer', 'groupon', 'rap', 'cuisto', 'blatte', 'grain', 'inde', 'cent', 'taverne', 'ordinaires', 'glauque', 'av', 'google', 'occasions', 'parlerai', 'encadrement', 'influence', 'patte', 'prestigieux', 'correspondent', 'casserole', 'montons', 'gonfler', 'bandits', 'pourra', 'salwa', 'impatiente', 'relief', 'milk', 'halloween', 'fissae', 'proposait', 'contente', 'forme', 'execrable', 'obtenez', 'shake', 'of', 'deguster', 'croit', 'injure', 'bougie', 'turn', 'venues', 'infame', 'goute', 'johnny', 'dispendieux', 'vit', 'caissier', 'bosse', 'gargoulette', 'suspect', 'noisette', 'panure', 'administration', 'minime', 'malheuresement', 'quai', 'attrait', 'frequente', 'auquel', 'unelecfe', 'pareils', 'demandait', 'augmenter', 'ouvrent', 'villa', 'portable', 'relever', 'bosser', 'constatons', 'piste', 'dccrf', 'assaut', 'ke', 'jouie', 'avertis', 'aimait', 'fatal', 'fatigue', 'midis', 'claque', 'portent', 'souviens', 'lisent', 'mexicain', 'culture', 'grandiose', 'entrain', 'refroidi', 'souri', 'varie', 'vacarme', 'sapeur', 'turque', 'gauches', 'habitudes', 'novice', 'professionelle', 'agent', 'croise', 'joint', 'discutent', 'lidl', 'sketch', 'plate', 'seiche', 'vip', 'hauteurs', 'vas', 'authentiques', 'grincheux', 'pressent', 'plaire', 'sachez', 'explorer', 'barquette', 'mensongers', 'hahaha', 'artisanat', 'dattes', 'affreuse', 'voudrait', 'attentive', 'specialites', 'attendus', 'avc', 'entendent', 'allo', 'identique', 'retourneront', 'nommerai', 'attarine', 'crains', 'light', 'mezza', 'respectable', 'disputes', 'tv', 'connus', 'paysage', 'tot', 'sauvages', 'absolue', 'inoubliables', 'incomparable', 'decors', 'mba3ed', 'parasols', 'extras', 'away', 'envoyer', 'soif', 'tristes', 'remaquillant', 'bancales', 'disait', 'balcon', 'devrais', 'plages', 'vive', 'renverser', 'barques', 'vs', 'digestifs', 'blassa', 'donuts', 'catastrophiquement', 'is', 'restreinte', 'plusieur', 'wow', 'plainte', 'fer', 'tre', 'amusants', 'macarons', 'compositions', 'ingredients', 'poulets', 'permettrait', 'hammammet', 'carcassonnais', 'digestif', 'diem', 'farineuse', 'rideaux', 'visage', 'alcools', 'embobiner', 'supporter', 'racolle', 'safe', 'xl', 'accommodant', 'piquante', 'approche', 'rance', 'degueu', 'recrutement', 'originales', 'prie', 'basic', 'insolence', 'ennemi', 'avouer', 'souhaitais', 'split', 'demoiselle', 'huileux', 'ira', 'adrien', 'rit', 'amer', 'casting', 'remettons', 'rings', 'tenues', 'sortez', 'bip', 'toulousain', 'dissimuler', 'secondes', 'discours', 'brusque', 'americain', 'fous', 'big', 'varier', 'tis', 'avertir', 'envahie', 'matchs', 'ultime', 'allee', 'paisible', 'figure', 'doage', 'adorions', 'signifie', 'presentation', 'mcdonald', 'mesures', 'gardiane', 'agreablement', 'conversation', 'incomplet', 'trops', 'acces', 'partaient', 'savant', 'so', 'clientes', 'ferid', 'remonter', 'gacher', 'tenant', 'beach', 'fasse', 'confiants', 'gage', 'frioulaise', 'profit', 'pb', 'accoste', 'valide', 'imbattables', 'peintre', 'ecoute', 'feria', 'calcule', 'rentrons', 'lourds', 'lis', 'champion', 'comestibles', 'temp', 'valentin', 'exploit', 'semblant', 'special', 'blagues', 'troupe', 'renouveler', 'prendrai', 'mien', 'adulte', 'normande', 'reparti', 'majestueux', 'beignet', 'normaux', 'aimons', 'hollandaise', 'indiennes', 'croquette', 'serve', 'arrache', 'aucunement', 'vache', 'central', 'foutent', 'citer', 'revisiter', 'ignore', 'tentatives', 'depart', 'sicilienne', 'houma', 'enguelade', 'hall', 'deviner', 'aeration', 'vapeur', 'trattoria', 'vantant', 'plateaux', 'rentrant', 'rechauffe', 'tendres', 'voyez', 'abandonne', 'abandon', 'lisses', 'k', 'madfouna', 'arrives', 'sevice', 'hesitez', 'incapables', 'labas', 'rustique', 'jetant', 'distinguer', 'pourrais', 'lune', 'diriger', 'curieux', 'syncro', 'simpa', 'terminent', 'spectacles', 'verts', 'bourghiba', 'decouvert', 'offertes', 'masse', 'engueule', 'chay', 'arrogance', 'pourvu', 'chapon', 'bousculer', 'moque', 'crabe', 'chaussures', 'inconnue', 'zen', 'masquer', 'agresse', 'my', 'imaginez', 'for', 'disposant', 'alliant', 'night', 'recommanderai', 'imagination', 'chouf', 'annoncent', 'franquette', 'impensable', 'gallette', 'portais', 'jonathan', 'nb', 'louis', 'dites', 'attentions', 'suivie', 'engageant', 'kafteji', 'extremement', 'tarf', 'cous', 'ardoises', 'macchiato', 'presqu', 'bucco', 'visuellement', 'barberous', 'gorgonzola', 'partant', 'mettant', 'choquer', 'faussement', 'delicious', 'sousse', 'visa', 'mignonne', 'graillon', 'jambes', 'oasis', 'essayant', 'affichent', 'cleints', 'ouste', 'devaient', 'bnin', 'finissons', 'interrogations', 'couillons', 'irlandais', 'triple', 'livres', 'traversent', 'rabbit', 'trio', 'reflechir', 'abjecte', 'macaron', 'comique', 'canettes', 'ressortons', 'effectif', 'glacier', 'cinquante', 'bouchot', 'finie', 'blanquette', 'tino', 'litres', 'tartiner', 'poussent', 'yaourt', 'aquatic', 'abondance', 'persil', 'naans', 'concourt', 'lentement', 'insultes', 'coupons', 'loue', 'gauffre', 'arnaquent', 'convaincre', 'fleuron', 'mins', 'certe', 'guerres', 'refaite', 'connaissions', 'assoit', 'coule', 'alerter', 'britannique', 'aubergine', 'familier', 'chameau', 'pseudos', 'reponds', 'hammametois', 'anglaise', 'decouverte', 'ver', 'distance', 'keep', 'franchi', 'activer', 'ris', 'madeleine', 'fabrication', 'pif', 'raconter', 'cap', 'sentaient', 'vocabulaire', 'ferment', 'basses', 'magasins', 'pourrions', 'croquer', 'ramasse', 'chinois', 'trompent', 'jouent', 'inefficaces', 'neanmoins', 'aventurer', 'comprennent', 'gratuits', 'ferez', 'lampes', 'traverser', 'professionnelles', 'convive', 'collantes', 'banquette', 'couloir', 'voitures', 'escargot', 'oublis', 'jumelle', 'accueillantes', 'probleme', 'victimes', 'class', 'recouvert', 'oiseuses', 'canut', 'beignets', 'regional', 'bulgarie', 'dutout', 'perte', 'inspiration', 'jolis', 'ravie', 'tjr', 'terres', 'poubelle', 'connaisse', 'verdict', 'sept', 'javel', 'langue', 'baratin', 'louper', 'dramatique', 'troop', 'black', 'bottes', 'lapin', 'payante', 'vendu', 'centaines', 'recevions', 'visitez', 'voulons', 'cassoullet', 'vynders', 'disputer', 'ma9loub', 'cadeaux', 'exorbitante', 'vendeurs', 'international', 'seveur', 'kif', 'dizaines', 'condorre', 'ventillateur', 'ravies', 'attrapes', 'pti', 'artistique', 'renseigner', 'kol', 'emmener', 'courgettes', 'choisie', 'code', 'informer', 'apprend', 'kitsch', 'mettra', 'habituelle', 'parcourir', 'rassasiant', 'murailles', 'compense', 'infini', 'traditionnelles', 'recherches', 'souhaiter', 'radiateurs', 'lavabo', 'attenter', 'invitation', 'malgres', 'copines', 'concurrents', 'redemande', 'chanson', 'rhume', 'principales', 'plomb', 'raisonable', 'croc', 'toujour', 'tasses', 'daubesque', 'critiquer', 'billets', 'assurent', 'rapports', 'poutine', 'travaillant', 'salut', 'monastir', 'rochers', 'chasse', 'refusent', 'cauchemard', 'napolitaine', 'tempura', 'youtube', 'occidentaux', 'majiya', 'street', 'allure', 'cruellement', 'catastrophiques', 'm3aref', 'commerciaux', 'mix', 'tendue', 'onglet', 'amateurisme', 'bancale', 'naturel', 'patate', 'chauffe', 'ricotta', 'caoutchouteux', 'denya', 'suggestions', 'palme', 'sus', 'anti', 'lugubre', 'paquebots', 'adorer', 'fatale', 'perle', 'testez', 'rabateuse', 'voler', 'regardent', 'contexte', 'kefta', 'bch', 'indigestes', 'tromperie', 'couvre', 'hard', 'commencerais', 'ventant', 'discutable', 'baignent', 'entiere', 'insecte', 'ekher', 'dominant', 'marc', 'lourdement', 'bronzage', 'flan', 'picard', 'mentir', 'reluquer', 'pervers', 'pa', 'prenaient', 'bistrots', 'dogs', 'apparente', 'accoster', 'venais', 'nawel', 'feter', 'kamia', 'batisse', 'truffes', 'nonchalants', 'celtia', 'principe', 'entendons', 'dater', 'sortaient', 'conversations', 'abstenir', 'pouvaient', 'importantes', 'immeuble', 'gagner', 'manifestement', 'trompeuses', 'innovation', 'gamines', 'john', 'convenir', 'mozarella', 'tops', 'vire', 'consistante', 'convaincus', 'adjacente', 'noisettes', 'ariana', 'avantages', 'marcher', 'marrant', 'chicore', 'revenue', 'regale', 'avenants', 'cerises', 'difficiles', 'complique', 'perdent', 'anniversaires', 'herbe', 'burratta', 'voiturier', 'romdhan', 'encre', 'guider', 'cirque', 'pan', 'dinant', 'sicilien', 'orage', 'corentin', 'celton', 'gobelet', 'mounir', 'issue', 'artifice', 'conseillerais', 'aazara', 'andalous', 'tableaux', 'vente', 'conseilles', 'inutiles', 'monaco', 'rillettes', 'eme', 'said', 'anouar', 'seif', 'oeuil', 'benediction', 'rabattre', 'fusent', 'attirent', 'saliver', 'chope', 'grenadine', 'avenante', 'decongeles', 'smoothie', 'explicite', 'mangeais', 'x', 'entrees', 'genial', 'discrets', 'repense', 'hout', 'culot', 'abstraction', 'facade', 'valerie', 'ruiner', 'piur', 'parisiennes', 'plas', 'apprendre', 'afficher', 'tagliatelle', 'opter', 'rabet', 'sueur', 'grammes', 'japonaise', 'carreaux', 'longe', 'chanteuse', 'souligner', 'partons', 'tdn', 'sheherazade', 'tiedes', 'pittoresques', 'parlr', 'rebuter', 'risottos', 'nerveux', 'quils', 'waw', 'relation', 'mettrai', 'enchanteur', 'ambassadeur', 'degustation', 'stylo', 'cauchemars', 'identiques', 'somptueuse', 'infiniment', 'googleiser', 'vain', 'demandaient', 'savoyarde', 'pellegrino', 'tartine', 'appellent', 'domine', 'revision', 'casse', 'provenant', 'distingue', 'fautes', 'men', 'farandole', 'pots', 'memes', 'picon', 'bled', 'partenaire', 'oubliant', 'hauts', 'coktails', 'sophistiques', 'monte', 'exceptionnelles', 'presentee', 'accent', 'meuilleur', 'pont', 'pierres', 'empoisonnement', 'asiatiques', 'banals', 'arrivait', 'engeances', 'imposent', 'infernales', 'orthographe', 'pauses', 'stage', 'completement', 'prob', 'compare', 'robert', 'infusion', 'demain', 'baisser', 'remarquables', 'de10', 'agressifs', 'guerre', 'imposa', 'taxis', 'verifier', 'kaaed', 'enceinte', 'sourd', 'rapporter', 'remis', 'aupres', 'importants', 'page', 'appels', 'aguichante', 'hahahah', 'flore', 'gesier', 'tooop', 'lisais', 'merveilles', 'appellation', 'repartons', 'voudraient', 'wesst', 'wallew', 'ginette', 'manifique', 'laves', 'interet', 'variable', 'rade', 'croquante', 'rentable', 'exacte', 'dollars', 'imangeables', 'fringale', 'lassiette', 'contemporaine', 'visitant', 'copieusement', 'asseyons', 'bucket', 'provenait', 'urine', 'corporation', 'actif', 'exemplaire', 'pave', 'gloopy', 'grincheuse', 'rouler', 'mayo', 'soeur', 'racistes', 'version', 'chilli', 'dsl', 'employes', 'reine', 'abuser', 'portefeuille', 'revenions', 'anarque', 'cellophane', 'bein', 'prochainement', 'comportant', 'adepte', 'achat', 'communication', 'kel', 'kronenbour', 'explosion', 'resortit', 'nordiste', 'accroche', 'puanteur', 'assaisonnements', 'restais', 'difficilement', 'potjevlesh', 'congrues', 'conjure', 'hallucinant', 'game', 'trs', 'existait', 'mme', 'grimace', 'ressent', 'boulette', 'automne', 'bouillies', 'conservateur', 'chansons', 'soucier', 'mafihech', 'nemchilou', 'admirant', 'cuisait', 'chichas', 'froideur', 'endives', 'retenue', 'yeser', 'dingue', 'calamares', 'assortiments', 'profiteroles', 'balancer', 'jeunesse', 'vint', 'red', 'vomi', 'bureaux', 'antipathie', 'insolent', 'sorbets', 'rendement', 'regarderai', 'plaisante', 'honorable', 'enthousiaste', 'imposant', 'installez', 'panneaux', 'tambourin', 'montant', 'remplacer', 'permanence', 'kammounia', 'portant', 'seigneur', 'theatre', 'exigent', 'wolf', 'tartelette', 'apercevez', 'suffire', 'tire', 'di', 'vintage', 'grilles', 'utilise', 'dns', 'parceque', 'uniques', 'partiez', 'perles', 'loins', 'venions', 'gluten', 'discussion', 'arrivaient', 'sodexo', 'retrait', 'criminel', 'patronnes', 'job', 'affable', 'accrocher', 'gogos', 'direz', 'conduits', 'pluvieux', 'pointes', 'solo', 'soft', 'contraste', 'montagne', 'signale', 'gentilment', 'basmati', 'gouttes', 'richement', 'nordistes', 'enthousiasme', 'nada', 'creuse', 'pistaches', 'negatifs', 'homards', 'vraies', 'diabolo', 'miroiter', 'ouvertes', 'suivies', 'tutoie', 'proprietaire', 'ac', 'casino', 'aimant', 'correspondaient', 'exquises', 'trouveront', 'renseigne', 'cheesecakes', 'aguicheuse', 'punch', 'sfirrrr', 'recommencer', 'patiente', 'magasin', 'hesitation', 'hurlent', 'raffinee', 'enrichir', 'drole', 'vocation', 'jemla', 'fortes', 'relancer', 'letus', 'mecque', 'attende', 'langues', 'oulala', 'consistance', 'short', 'lieues', 'capitaine', 'mezyena', 'montrant', 'notion', 'supp', 'souffler', 'folle', 'inspire', 'clovisses', 'multitude', 'assurance', 'macon', 'epinards', 'regle', 'pentes', 'accident', 'distant', 'virgin', 'aliment', 'madina', 'rp', 'rate', 'brocante', 'passes', 'voleur', 'ruelles', 'bih', 'exhorbitant', 'complexe', 'manansa7', 'copains', 'debarrasse', 'brouillon', 'square', 'promo', 'pratiquer', 'arretons', 'fuit', 'recours', 'demandent', 'cassoulets', 'blesse', 'canisses', 'sindbzd', 'chorizo', 'sophie', 'dires', 'partions', 'sevise', 'tros', 'take', 'surprenante', 'chill', 'foi', 'troquet', 'irrespectueuses', 'carbo', 'indication', 'accueillies', 'supplement', 'truffe', 'veritable', 'exceptionnellement', 'celebrer', 'passions', 'previens', 'roses', 'belgique', 'dimanches', 'collegues', 'kitchen', 'machiato', 'limande', 'oublierai', 'occidentale', 'farineuses', 'demeurant', 'chwaya', 'ignorent', 'caoutchouteuses', 'macaroni', 'old', 'actuelle', 'churros', 'sang', 'palace', 'respire', 'noel', 'aiaccinu', 'gloire', 'menbres', 'tampon', 'band', 'fajitas', 'solubles', 'hache', 'divines', 'merveilleuses', 'fournis', 'heineken', 'arrondissement', 'jaunes', 'simplifier', 'culminant', 'bouiboui', 'bus', 'bijoux', 'conscience', 'menant', 'demane', 'sicile', 'vraisemblablement', 'scrutant', 'etchebes', 'envahissant', 'fiche', 'forfait', 'phi', 'courses', 'moulineaux', 'pecheur', 'bacs', 'gestes', 'vetements', 'minimale', 'bolognese', 'simpliste', 'concours', 'transferts', 'plaints', 'insuffisantes', 'insuffisante', 'sea', 'thermidor', 'varies', 'tournent', 'lasagnia', 'rejoints', 'barbe', 'croyait', 'trajet', 'pitbull', 'repu', 'spag', 'maure', 'bagages', 'recuit', 'affreusement', 'catastrophes', 'astronomique', 'ameur', 'grotesque', 'abrite', 'paellas', 'orgasme', 'sorry', 'berner', 'tambouille', 'cou', 'indigestion', 'audieux', 'larges', 'dirigeons', 'orgue', 'trouvaille', 'new', 'combinaison', 'akther', 'reconvertir', 'soucieux', 'positivement', 'gourmandes', 'beigne', 'trouves', 'gentilles', 'voilier', 'agrumes', 'hospitalier', 'o', 'sites', 'assister', 'tentative', 'ravissant', 'vendue', 'enculade', 'franchie', 'passables', 'permettait', 'rossi', 'alsace', 'goutez', 'aventure', 'allonger', 'individuelle', 'autoriser', 'population', 'joueur', 'lueur', 'affirme', 'permettra', 'islamiste', 'londres', 'promotion', 'village', 'remplacement', 'frai', 'entretenue', 'ongles', 'attractive', 'rajouterons', 'gracieux', 'basant', 'laba', 'irrespect', 'auvent', 'appartement', 'appliquer', 'heureuse', 'cinquantaine', 'postale', 'dinner', 'suivants', 'brushetta', 'pesante', 'veillez', 'ristourne', 'chant', 'nougaro', 'classic', 'francaise', 'boss', 'prochains', 'forcer', 'passion', 'remettrais', 'attraction', 'cherchera', 'exelente', 'cuise', 'win', 'trouvais', 'appliquent', 'agua', 'tacher', 'praline', 'cabillaud', 'remercier', 'lecture', 'homonyme', 'sabe', 'mouton', 'grillade', 'provient', 'this', 'variee', 'dates', 'permettent', 'facebook', 'avion', 'opera', 'banque', 'sentions', 'navet', 'cosmopolite', 'persillade', 'sonnerie', 'arbi', 'radins', 'surgelees', 'pamplemousse', 'torbia', 'sandwicheries', 'attires', 'suive', 'hautains', 'healthy', 'desorganisees', 'formel', 'insignifiant', 'cracher', 'una', 'augmentation', 'navrante', 'estafa', 'garnitures', 'securite', 'dals', 'waterzooi', 'cannette', 'h00', 'nourritures', 'friouilaise', 'neige', 'ts', 'commandait', 'sandwitch', 'harrissa', 'tatare', 'millefeuilles', 'mangeur', 'mondiale', 'tend', 'professionel', 'constitue', 'trouvions', 'surgeler', 'marquera', 'plonge', 'administrative', 'accommode', 'sentais', 'repassera', 'comida', 'noires', 'diversifier', 'chois', 'genou', 'leclers', 'tawa', 'fiable', 'trucs', 'devine', 'feutres', 'crache', 'roquette', 'laitues', 'conscient', 'calcul', 'belges', 'miettes', 'roulant', 'favorable', 'franco', 'zola', 'germinal', 'grenailles', 'tardent', 'linguines', 'crasseux', 'similaires', 'fresca', 'assietes', 'coloriage', 'professio', 'devons', 'raclette', 'arrivage', 'constance', 'aperol', 'kamya', 'habitant', 'macdo', 'attirants', 'tonnerre', 'similaire', 'grandeur', 'profusion', 'comestible', 'rallonge', 'pile', 'drame', 'humide', 'pleinement', 'mesera', 'expeditif', 'verrez', 'placements', 'motive', 'acceuillir', 'potage', 'visible', 'repenser', 'gamin', 'chalant', 'sabrina', 'essuie', 'safran', 'agradable', 'paroles', 'bonus', 'tikka', 'suivis', 'coure', 'ode', 'consommable', 'torture', 'distributeur', 'chantier', 'fouilli', 'quotidiennement', 'sonore', 'pote', 'kemia', 'deranger', 'nullllllllllllllllllllll', 'cyrano', 'heyyel', 'ressemblaient', 'observation', 'concierge', 'manteaux', 'hue', 'dents', 'champ', 'zeitouna', 'plante', 'chiant', 'gargantuesque', 'dall', 'reparties', 'paire', 'favoris', 'due', 'nullisime', 'olfa', 'never', 'insat', 'try', 'choquante', 'panacotta', 'cerveza', 'cabaret', 'baignait', 'subtilement', 'souhaitent', 'ressort', 'ventilation', 'fih', 'km', 'eric', 'calmar', 'brownie', 'vendent', 'mas', 'co', 'town', 'avocats', 'promotions', 'piment', 'rockets', 'detour', 'refire', 'apaiser', 'archi', 'explicitement', 'osso', 'forcement', 'revienne', 'revais', 'hhh', 'chevres', 'perd', 'deconseiller', 'aspiration', 'criant', 'vice', 'affirmer', 'yecer', 'manaar', 'aborde', 'lebouris', 'mielleux', 'doutait', 'feux', 'instructions', 'aspects', 'occidental', 'manges', 'retape', 'mezzanine', 'op', 'projet', 'accompagnant', 'bucolique', 'servaient', 'quais', 'mouvement', 'rude', 'parois', 'souterrain', 'mecs', 'gazon', 'ahsen', 'renom', 'hausses', 'canicule', 'etudier', 'monuments', 'chauffer', 'heu', 'reproches', 'apprecie', 'comprenons', 'rajastan', 'acceuillants', 'rendant', 'rapelle', 'sultan', 'asperges', 'severin', 'bredouille', 'bob', 'poche', 'fallut', 'sandiwch', 'enti', 'acceuile', 'vaudrait', 'insultait', 'chappati', 'inconsistant', 'aimais', 'bull', 'poussee', 'mushroom', 'touts', 'seches', 'journal', 'nourrirait', 'tipique', 'potiron', 'eclairee', 'raccoleur', 'obligatoirement', 'kraft', 'ramenait', 'schweppes', 'croutes', 'cheffe', 'discussions', 'excelent', 'ritz', 'abusif', 'baladent', 'mals', 'chocolate', 'entrons', 'chalereux', 'panel', 'promesses', 'videur', 'marketing', 'bio', 'tenait', 'estomacs', 'restera', 'mug', 'interminables', 'bonbons', 'escape', 'sejour', 'potjevleesh', 'omis', 'gustative', 'entracte', 'smirnoff', 'commende', 'pergola', 'restaient', 'coquillettes', 'home', 'turquoise', 'fleur', 'racontez', 'lord', 'plaisirs', 'futur', 'hotels', 'aioli', 'corps', 'biensur', 'atalante', 'maring', 'collees', 'millimes', 'passerons', 'creu', 'rires', 'restait', 'thunder', 'guy', 'arabesque', 'immenses', 'babychair', 'aandhom', 'monument', 'restriction', 'bizzard', 'mangions', 'versailles', 'payement', 'gardienne', 'escale', 'effervescence', 'parme', 'cherchiez', 'lustres', 'scampis', 'ballon', 'cotes', 'commercantes', 'boof', 'inimaginable', 'industrie', 'speculoos', 'allergique', 'ressortis', 'cafete', 'kronembourg', 'munie', 'ballet', 'ato', 'recruter', 'matins', 'alluscinant', 'nkolkom', 'kifeh', 'vendredis', 'tayara', 'choisissant', 'cht', 'profites', 'bin', 'jaime', 'exige', 'ado', 'prouvant', 'flammekueches', 'brusquement', 'importait', 'nabeul', 'voisines', 'cerneau', 'poussant', 'life', 'insistent', 'trouvera', 'intercepte', 'osez', 'balsamique', 'photographie', 'concentrer', 'souhaitant', 'commandions', 'wala', 'habbet', 'aiguille', 'conditions', 'hautmont', 'poisseuse', 'poches', 'jouait', 'trabrib', 'irish', 'fama', 'rouille', 'sachiez', 'bling', 'brasser', 'joyeux', 'manquez', 'vodka', 'menue', 'coupelle', 'ouais', 'aceuille', 'maintenue', 'renouvellerai', 'deuxieme', 'aimablement', 'frappucino', 'amicale', 'conduite', 'cafette', 'sports', 'chemisier', 'nouvel', 'effondre', 'again', 'time', 'routard', 'domaine', 'inadmissibles', 'danseuse', 'huit', 'oreo', 'intervenir', 'genres', 'business', 'grenouilles', 'dn', 'judith', 'tensions', 'indomptable', 'humaine', 'retirez', 'craignant', 'assaisonner', 'wax', 'fameuses', 'ha', 'coran', 'telecharge', 'gaffe', 'brasse', 'acceuille', 'suivantes', 'mit', 'rapatriement', 'questionner', 'douceur', 'repart', 'civilisation', 'cite', 'coulis', 'franchir', 'faibles', 'parlaient', 'surfaite', 'journee', 'shirt', 'voiliers', 'chardonnay', 'navette', 'inhabituel', 'convenables', 'etroit', 'dy', 'ledit', 'tripoter', 'joies', 'agence', 'surbooke', 'fevrier', 'quartiers', 'enthousiasmant', 'pourrai', 'doutiez', 'tutoyer', 'surcroit', 'agirait', 'condescendants', 'comprise', 'milkshakes', 'digeste', 'originaire', 'vero', 'jusqua', 'saumons', 'farcies', 'anchois', 'attendaient', 'foutiste', 'prendrais', 'drinks', 'ivre', 'amande', 'coupure', 'tortues', 'anonyme', 'bruncher', 'retrouvez', 'epluchure', 'compacte', 'country', 'envahi', 'couvrir', 'offrez', 'douzaine', 'chilis', 'voyageur', 'bina', 'aigri', 'impatience', 'pus', 'parlon', 'correction', 'milanaises', 'meurt', 'tourist', 'trap', 'photographier', 'comptent', 'rabaisse', 'adjudication', 'wissem', 'chaines', 'rechaufee', 'reunion', 'marginale', 'maintient', 'naturellement', 'majihah', 'zones', 'vainement', 'merlu', 'pou', 'remplissage', 'reserve', 'bistros', 'maleureusement', 'bienveillance', 'ambience', 'choco', 'ennuie', 'joujma', 'terrace', 'courtoise', 'pressing', 'arrete', 'prohibitif', 'revisites', 'informant', 'kaki', 'servuce', 'grouille', 'not', 'android', 'inconfortable', 'tbone', 'couac', 'bombay', 'atmosphere', 'cata', 'crispy', 'sami', 'gerant', 'bardo', 'lkol', 'occasionnels', 'humaines', 'croustade', 'connues', 'douteuses', 'crient', 'voyages', 'even', 'loi', 'surveiller', 'achever', 'taux', 'abusivement', 'hasards', 'tumulte', 'belkom', 'decevant', 'temchiw', 'snob', 'reponse', 'rousse', 'contester', 'pff', 'commandees', 'habituelles', 'soutenu', 'vif', 'naturelles', 'zerooo', 'cognac', 'ressource', 'croient', 'box', 'coutait', 'agite', 'advidor', 'envoie', 'envahit', 'accueillit', 'aude', 'steacks', 'girafe', 'julienne', 'lites', 'exotique', 'minima', 'acquis', 'kirs', 'fortune', 'utilisant', 'barbarie', 'chaloureux', 'villes', 'embiance', 'deal', 'selian', 'poule', 'briks', 'pin', 'tatie', 'maintenir', 'visages', 'casbah', 'ghazella', 'artificielle', 'tagine', 'deviennent', 'manques', 'times', 'ouay', 'naturelle', 'trompaient', 'rejoindre', 'provoquant', 'raides', 'marinieres', 'pantalon', 'jambons', 'plongeante', 'adorent', 'rechauffee', 'karima', 'drague', 'appetit', 'macaronis', 'toasts', 'baptise', 'casquette', 'machune', 'recouvertes', 'mondial', 'spot', 'chichis', 'malheureuse', 'oeillade', 'resterions', 'nonchalant', 'tourbillon', 'tintin', 'divins', 'marseillais', 'differents', 'pirate', 'mont', 'voulai', 'recommended', 'bourgogne', 'targuer', 'personnne', 'quin', 'alterne', 'you', 'manches', 'probable', 'comprenez', 'exigez', 'blasa', 'vraiement', 'nuance', 'volailles', 'placement', 'mords', 'crisse', 'construit', 'gardaient', 'boulevard', 'managers', 'rodou', 'ringard', 'airs', 'partait', 'clore', 'kilo', 'racoleurs', 'lys', 'strips', 'climatiseur', 'relatives', 'labes', 'hote', 'devenus', 'battre', 'patiemment', 'chanteur', 'goguenard', 'consulte', 'glorieux', 'expliquand', 'boutargue', 'raconte', 'collaborateurs', 'propage', 'degradation', 'fail', 'resvation', 'ouah', 'gagnez', 'nigauds', 'burrito', 'combler', 'fabuleuse', 'alarme', 'miette', 'biiiiig', 'texture', 'manifestation', 'vieil', 'signalons', 'nicotine', 'unpeu', 'definition', 'ambiant', 'jure', 'dirige', 'baladions', 'boir', 'resultat', 'scrupules', 'suffira', 'hausse', 'inconvenient', 'maussade', 'retournai', 'aluminium', 'rations', 'composer', 'iront', 'touchent', 'exiger', 'approchons', 'bouquet', 'chimique', 'clef', 'repassons', 'traitent', 'babies', 'ets', 'griller', 'saloua', 'telles', 'recommende', 'cavalerie', 'obligations', 'wlh', 'filer', 'comportait', 'fondante', 'rhiour', 'soigneusement', 'portefeuilles', 'hippopotamus', 'dog', 'raie', 'fell', 'caoutchouteuse', 'ressentit', 'meurs', 'embrouille', 'fausses', 'reconfirmer', 'espagnole', 'rabateurs', 'atterrir', 'quantite', 'justifier', 'caoutchouc', 'poudre', 'jouir', 'internautes', 'play', 'instinctif', 'inspection', 'lutte', 'bains', 'assurant', 'run', 'meubles', 'flooop', 'crier', 'particuliere', 'sa7a', 'inattentifs', 'divine', 'reconnaissable', 'racollage', 'peligrino', 'existance', 'circuit', 'dejeune', 'bols', 'taper', 'carthage', 'farine', 'cetaine', 'encas', 'flaner', 'pe', 'telephone', 'allie', 'ponctuer', 'hotesse', 'significative', 'sofa', 'stressant', 'compose', 'oval', 'garderons', 'factures', 'pigalle', 'zt', 'legerement', 'souhaiterai', 'encombrante', 'taxe', 'foutre', 'soufflant', 'laiser', 'limiter', 'kiwi', 'pourriez', 'mafama', 'permettront', 'leeeent', 'apli', 'economisez', 'souffrances', 'traduire', 'drop', 'douche', 'beauf', 't7ottouhom', 'mestir', 'gourmet', 'gonflette', 'rabi', 'oublient', 'ili', 'ventilateurs', 'chanceux', 'regardais', 'compilations', 'donnons', 'pad', 'programmation', 'info', 'aidant', 'verou', 'souhaitons', 'nkamel', 'rabattu', 'severement', 'pitoyables', 'potentiellement', 'embetent', 'mil', 'urbain', 'grognons', 'le5er', 'slata', 'eat', 'effectuer', 'palourdes', 'td', 'dira', 'tome', 'stana', 'hacha', 'scrupuleux', 'na3met', 'like', 'seins', 'sketche', 'revue', 'serge', 'emmer', 'blinder', 'third', 'jelly', 'haka', 'recemment', 'dormait', 'looked', 'still', 'was', 'lumineuse', 'haha', 'tissus', 'culte', 'accompagnent', 'lente', 'dente', 'intactes', 'olympique', 'neptune', 'pluss', 'decus', 'graines', 'graine', 'came', 'test', 'circuler', 'platanes', 'rassies', 'lyes', 'bordel', 'hautes', 'labah', 'voiles', 'brille', 'gustativement', 'sentent', 'savaient', 'refusez', 'pino', 'extase', 'sancerre', 'surfent', 'chipirones', 'tro', 'arnaqueur', 'armoire', 'envies', 'remonte', 'accueuil', 'gps', 'sublimes', 'dish', 'cassonade', 'reheat', 'colonel', 'at', 'aire', 'arrived', 'genereux', 'cassonnade', 'bolonaise', 'badoit', 'passait', 'nostalgique', 'accueils', 'aille', 'aube', 'indescriptible', 'infernale', 'irions', 'blacklister', 'traite', 'dhrif', 'pralines', 'decidons', 'horraires', 'bossez', 'artisti', 'chanter', 'bye', 'serveures', 'cailloux', 'danses', 'chanteurs', 'centime', 'rassurent', 'servait', 'lemdina', 'milles', 'consiste', 'karmeliet', 'chair', 'rompre', 'attendiez', 'exprime', 'surnombre', 'avantageuse', 'gai', 'diar', 'renvoie', 'bulots', 'reconnaissance', 'proscrire', 'meritent', 'basket', 'hello', 'vieilliote', 'rendra', 'grans', 'bientot', 'habitues', 'indiquent', 'tabassage', 'composition', 'betail', 'redtaurant', 'lustre', 'gratos', 'reglo', 'king', 'forces', 'hostiles', 'recherchait', 'onces', 'succession', 'quitte', 'excellentissime', 'rascasse', 'mel', 'moustiques', 'li', 'vongole', 'chlore', 'politique', 'cherchais', 'avahnt', 'moqueurs', 'restauant', 'donnerais', 'juge', 'cash', 'lus', 'h24', 'riad', 'opportun', 'zarga', 'payants', 'mexicains', 'stipuler', 'stream', 'poison', 'digestion', 'pit', 'amerique', 'manquerons', 'brunsh', 'boycotter', 'mexicaines', 'rattrapait', 'brunchs', 'serrez', 'section', 'varient', 'alpague', 'alias', 'preparer', 'cochonnaille', 'agripper', 'caveau', 'chauffee', 'penserai', 'assiete', 'flottait', 'paquets', 'moisissure', 'gazeuses', 'anciennement', 'mince', 'muscadet', 'cacao', 'paradice', 'jovial', 'apprenne', 'molten', 'australiens', 'presence', 'mcdonalds', 'tans', 'palazzo', 'epices', 'bruyants', 'qlq', 'rattrapage', 'exacrable', 'usage', 'carbonnades', 'creuses', 'soupire', 'genereuses', 'extremely', 'suffisantes', 'redonne', 'nousvretiens', 'pages', 'approches', 'populaires', 'affiches', 'populations', 'riesling', 'vosine', 'tardives', 'naturels', 'cornet', 'autoritaire', 'descendant', 'tristesse', 'continuent', 'hiphop', 'protection', 'disputent', 'action', 'riverains', 'irrespectueuse', 'spiritueux', 'fric', 'proprement', 'quartres', 'attache', 'tentez', 'saut', 'detestables', 'encornets', 'porterez', 'perpendiculaire', 'poster', 'navons', 'overdose', 'egale', 'commenter', 'meh', 'rayons', 'perverses', 'that', 'dormi', 'layon', 'here', 'coordination', 'malpolie', 'piaf', 'numero', 'naissance', 'corbeilles', 'macdonald', 'subtil', 'turbot', 'visuel', 'absolumment', 'attrayants', 'benna', 'battante', 'piquantes', 'nostalgiques', 'arrangeant', 'compliments', 'raymond', 'welchs', 'convaincue', 'toucher', 'nettoyant', 'carbonate', 'humble', 'boukornine', 'rejoint', 'lacceuil', 'taher', 'polo', 'royales', 'impatientait', 'dises', 'msaker', 'marocain', 'embassy', 'suivit', 'retraite', 'collegue', 'dynamiques', 'afrique', 'saute', 'recul', 'sehr', 'goulot', 'decent', 'avisw', 'inexistantes', 'vinrent', 'fleurir', 'pdt', 'figues', 'ennaser', 'posts', 'perche', 'transmettre', 'accro', 'keine', 'sinn', 'pars', 'plane', 'wselna', 'l9ineh', 'exeption', 'dixit', 'admissible', 'obstacle', 'scrupuleuse', 'feront', 'avarie', 'partagez', 'vitre', 'with', 'encaissement', 'chemises', 'rakcha', 'marie', 'tbarkallah', 'cornichons', 'exelent', 'exposition', 'subir', 'transversale', 'porto', 'sashimis', 'bucoliques', 'messieurs', 'apprenons', 'burguer', 'tps', 'asaisonnement', 'racorni', 'chalheureux', 'mous', 'emptyish', 'cheasecacke', 'coubertin', 'condescendant', 'slim', 'chics', 'fraichir', 'wakahaw', 'historiques', 'bocal', 'capter', 'enlevez', 'kifkif', 'apprennent', 'refroidis', 'files', 'justifiant', 'remplit', 'dysfonctionnements', 'rendait', 'compagnons', 'vende', 'ognions', 'list', 'm3a', 'djeld', 'gammes', 'affales', 'informations', 'njiblek', 'sors', 'retournes', 'wa7dek', 'huitres', 'interrompe', 'hurler', 'costume', 'poivres', 'disque', 'diminution', 'flash', 'membre', 'ossa', 'doodle', 'tpe', 'foto', 'carvbonnara', 'borne', 'khalit', 'what', 'rattrape', 'anbiance', 'imaginaires', 'labyrinthe', 'admettre', 'mignonnes', 'korma', 'naif', 'production', 'douloureuse', 'alimentation', 'ema', 'promenant', 'fumaient', 'christophe', 'vider', 'nie', 'camouflent', 'ambiances', 'insultent', 'achalandage', 'blues', 'incomprehensible', 'ravira', 'affiligeant', 'enjoy', 'ferai', 'menteuse', 'potentiels', 'outrer', 'avances', 'faillit', 'lunette', 'boritos', 'pepperoni', 'apaisant', 'remarquablement', 'comis', 'vacance', 'chtis', 'masala', 'idee', 'cumin', 'charles', 'acceuilli', 'dynamisme', 'gardez', 'verdure', 'anne', 'trouvait', 'quebec', 'repars', 'souciait', 'arroser', 'descendante', 'cristalline', 'lumiere', 'varietes', 'sonde', 'break', 'physionomistes', 'animations', 'cube', 'figue', 'sommelier', 'profitons', 'singe', 'regalerai', 'souhaitaient', 'philosophie', 'timi', 'raffole', 'africain', 'renovation', 'amairicaine', 'traduite', 'honteuse', 'fichent', 'attaquer', 'pelouse', 'pancartes', 'valise', 'cordeau', 'thohka', 'spinaci', 'constructives', 'parad', 'surcuits', 'tirons', 'zinger', 'similicuir', 'happer', 'mchina', 'rhin', 'range', 'kaicer', 'manquons', 'descendus', 'lard', 'vivantes', 'maigre', 'tortelli', 'vrombir', 'oublions', 'suffisent', 'insiiiiste', 'way', 'incite', 'koucha', 'indisponible', 'fessus', 'xddddd', 'wri9tine', 'caoutchoucs', 'comprendrez', 'artificielles', 'noureddine', 'moquaient', 'augmentaient', 'rappelant', 'resservant', 'bouffer', 'gagnerait', 'ramzi', 'retours', 'commerciales', 'scolaires', 'pagaille', 'incomplets', 'ennuyer', 'recoin', 'presques', 'gnocchis', 'tetris', 'saoulante', 'possibles', 'artisanal', 'parton', 'tapenade', 'grenoble', 'berk', 'barbecue', 'valser', 'suites', 'maalma', 'brozait', 'yjini', 'stanit', 'shisha', 'zebla', 'sghar', 'souiller', 'brutale', 'relaxation', 'proportions', 'dimension', 'repartait', 'exclure', 'behi', 'panique', 'see', 'donnerai', 'nette', 'lendroit', 'consultaient', 'calmement', 'honorables', 'contentement', 'boudhina', 'jardins', 'baignants', 'innovations', 'surplace', 'saignants', 'excuser', 'treize', 'insiste', 'maitres', 'samir', 'sourit', 'tetes', 'tirent', 'andhom', 'gardons', 'york', 'underchange', 'turk', 'pensaient', 'solitaire', 'teste', 'absolumt', 'collation', 'hypercentre', 'identifiable', 'deguste', 'pleurer', 'claires', 'million', 'soustraire', 'regrettable', 'language', 'pannini', 'trafic', 'sui', 'white', 'incompetents', 'rentabiliser', 'mangeaient', 'flair', 'conclure', 'racket', 'maneni', 'courtoisement', 'movida', 'manipulation', 'pognon', 'robustat', 'artisanale', 'aleur', 'arnaqueux', 'insolente', 'choc', 'turquie', 'africaine', 'gouttez', 'couscoous', 'hammamat', 'accents', 'sceptique', 'chemise', 'tip', 'v', 'kilos', 'crade', 'record', 'biz', 'mail', 'inspirer', 'esplanade', 'relax', 'offrait', 'excelle', 'florian', 'aimerions', 'auchan', 'ressortie', 'brika', 'mangr', 'saura', 'opte', 'grassouillettes', 'people', 'pricipaux', 'adam', 'kerkennaise', 'poses', 'inscrite', 'verrines', 'charmantes', 'datait', 'revenez', 'urgent', 'devise', 'couilles', 'consultions', 'parter', 'transfert', 'ravioli', 'appellations', 'mangeables', 'dima', 'frapper', 'matemchiwechhhhh', 'avoisinant', 'nus', 'mesquines', 'piano', 'hummmm', 'snobe', 'maid', 'sinistre', 'troo', 'brut', 'prestigieuse', 'natures', 'attrapent', 'marine', 'bienveillant', 'specialite', 'attribue', 'ordres', 'etranger', 'culinairement', 'reel', 'troooop', 'bierres', 'grosseur', 'sympatiques', 'surveille', 'serveux', 'grattons', 'aqueuse', 'beys', 'passation', 'ey', 'differentes', 'awful', 'solitude', 'khayam', 'fours', 'scrutent', 'gadour', 'finances', 'presser', 'passerai', 'orangers', 'polyglotte', 'viennois', 'gardes', 'mouvements', 'excellemment', 'parent', 'luxueuse', 'franchise', 'arrivions', 'acides', 'gaulle', 'clin', 'tournage', 'promotionnelles', 'falloir', 'folklore', 'ravir', 'hammametoise', 'infimes', 'zriga', 'gluant', 'constructive', 'piments', 'gallois', 'yassmine', 'machines', 'pouvant', 'sortait', 'instance', 'lyoum', 'existence', 'traditionel', 'tuer', 'temoignent', 'edt', 'ajoutent', 'quete', 'salue', 'fadement', 'kasba', 'visiteur', 'voldemort', 'poursuit', 'rassurant', 'facturation', 'imbus', 'audieu', 'parchemin', 'manquais', 'distantes', 'destinataire', 'gain', 'ascension', 'amadouer', 'radieux', 'marbre', 'schwarzenegger', 'abus', 'noirs', 'ressentent', 'ahurissants', 'etablise', 'ouaaaa', 'pompe', 'marry', 'quiconque', 'dab', 'burrata', 'oula', 'maux', 'dicton', 'different', 'meals', 'slice', 'cetais', 'variables', 'punis', 'retenons', 'autochtones', 'se3a', 'frappe', 'reduit', 'caisses', 'battus', 'cocas', 'relaxante', 'valeurs', 'oja', 'retire', 'bouza', 'selection', 'fatiguant', 'intervalle', 'gratuites', 'zembra', 'ambaince', 'franc', 'physiquement', 'caillou', 'artichauts', 'masculine', 'altercations', 'recaler', 'tn', 'vigilant', 'sacs', 'chuchotements', 'golfeur', 'enclin', 'app', 'zembretta', 'reve', 'berceau', 'mortuaire', 'rassemble', 'halal', 'oscillante', 'discression', 'debat', 'tenanciers', 'branches', 'pri', 'chlaka', 'squelettiques', 'gants', 'remet', 'desagreables', 'lella', 'malla', 'rooftop', 'abusifs', 'invectiver', 'balles', 'intelligemment', 'notera', 'jete', 'massala', 'veste', 'soldat', 'decembre', 'plaisanteries', 'mutique', 'enchantement', 'lbandiya', 'satisfactions', 'faufiler', 'toise', 'renvoi', 'jetait', 'monts', 'entassent', 'moquette', 'yo7kmou', 'interaction', 'tobe', 'convenances', 'retournerions', 'tsirelna', 'ouf', 'espagnol', 'arrivais', 'extravagant', 'rabattons', 'placeuse', 'raffine', 'ouverz', 'flambants', 'entendez', 'apparue', 'decider', 'connaissances', 'agresser', 'nchoufoulkom', 'plantes', 'municipal', 'reprennent', 'banquet', 'influe', 'primaire', 'aromatique', 'mensonge', 'injoignable', 'lien', 'ancestrale', 'inaccessible', 'damner', 'rustre', 'wonderbox', 'mohammed', 'nonchalance', 'ma3neha', 'hazar', 'raccroche', 'bagarre', 'combles', 'leflous', 'tisane', 'joyau', 'silence', 'racolleuse', 'atroces', 'agora', 'dirons', 'cassolettes', 'oseriez', 'reflette', 'tenante', 'beb', 'taw', 'bouter', 'bassins', 'recommandaient', 'zargua', 'gang', 'diffamera', 'attirait', 'nois', 'arnaques', 'aldi', 'chiche', 'flottantes', 'aquarium', 'penchait', 'rectifier', 'hurlant', 'mea', 'pq', 'semblais', 'us', 'tact', 'regarderais', 'harengs', 'emballent', 'recuire', 'estimations', 'distribution', 'mraw7in', 's2elna', 'okhryn', 'pressions', 'transcendante', 'courrez', 'culpa', 'siege', 'cleff', 'rassie', 'arc', 'prions', 'punition', 'retenu', 'decue', 'subtiles', 'humus', 'revenchard', 'exigeante', 'pcq', 'marquant', 'truite', 'roubais', 'enregistreuse', 'desolant', 'courreurs', 'chevettes', 'judicieusement', 'handicap', 'jina', 'bail', 'consciente', 'vacillant', 'trompez', 'performance', 'regardez', 'clochards', 'coq', 'pitbul', 'chemins', 'niaise', 'laissera', 'breton', 'relance', 'craquait', 'paroi', 'plaie', 'recuites', 'homologue', 'oup', 'interdite', 'correspondants', 'sauras', 'constatation', 'hereusement', 'anisette', 'prestige', 'minimal', 'registre', 'visu', 'tourista', 'disaient', 'gaspillage', 'recommencera', 'boulangeries', 'diront', 'esso', 'contrebande', 'gewurtz', 'matelots', 'ru', 'dresse', 'femelles', 'albatros', 'rabattage', 'nen', 'providence', 'interrieur', 'marcellin', 'verrue', 'effrayant', 'paierais', 'rembarre', 'yenja7', 'putain', 'renvoier', 'beylical', 'recuite', 'essais', 'gribiche', 'ri9', 'frigidaires', 'pupitre', 'pout', 'deplaisant', 'admiration', 'chilling', 'planque', 'strabourg', 'communs', 'imperturbable', 'fiasco', 'relookage', 'tournee', 'incident', 'spacieuses', 'demeures', 'serveuve', 'titanic', 'lily', 'quarts', 'preciser', 'arabo', 'fabriquer', 'congel', 'flamiches', 'musulmane', 'inversement', 'visqueuse', 'fad', 'concurrentiel', 'mennou', 'indiquant', 'traitance', 'trente', 'bandolino', 'team', 'capone', 'utilisent', 'teigneuse', 'lirai', 'portee', 'cotta', 'essayait', 'panna', 'paraport', 'entendement', 'corroborent', 'averse', 'donalds', 'foyer', 'casiment', 'bouse', 'monstrueux', 'caprese', 'posez', 'croisent', 'humiliante', 'interpellons', 'desagraeble', 'martinis', 'poetjvelch', 'humbles', 'fessiers', 'aus', 'napolitains', 'profil', 'renaud', 'convenait', 'gates', 'complex', 'joile', 'trinidad', 'coco', 'emsemble', 'maladresses', 'wave', 'cuivres', 'gardien', 'lesm', 'lavent', 'ddpp', 'excecrables', 'bedhema', 'grouillaient', 'gaufrier', 'transpiration', 'evian', 'paysanne', 'vieu', 'rajoutez', 'rivierre', 'mozarrella', 'adresser', 'assida', 'ressente', 'battaient', 'vouions', 'reglement', 'lecteur', 'bouilli', 'globale', 'autaine', 'clopes', 'palet', 'androit', 'gouvernement', 'mettons', 'grossiste', 'dragon', 'apportant', 'etl', 'compassera', 'partagent', 'feriez', 'dubitatifs', 'confidentiel', 'disputant', 'toro', 'alu', 'schs', 'cheddars', 'communal', 'goutions', 'brules', 'perime', 'directrice', 'triadvisor', 'addams', 'catalane', 'ostensiblement', 'pepsi', 'retenez', 'marroil', 'marguerite', 'innaceptables', 'perturbait', 'modifier', 'decart', 'debile', 'americano', 'carats', 'cafet', 'sansfruits', 'grignotage', 'sers', 'floral', 'parade', 'darangais', 'gypsy', 'loggia', 'kings', 'marmonner', 'toaster', 'lazagnes', 'rongeurs', 'ohhh', 'rechauffer', 'consternant', 'mickael', 'floues', 'furoncle', 'coleur', 'aiguillettes', 'masquerading', 'race', 'indian', 'identical', 'medaillon', 'emmenent', 'qualitatifs', 'fuiez', 'machin', 'despite', 'internaute', 'having', 'incorrect', 'ordered', 'jalfrezi', 'cheap', 'moindres', 'occurrence', 'nv', 'anis', 'renverse', 'dgccrf', 'absents', 'sommeliers', 'cuir', 'ritrovo', 'tomato', 'nourrit', 'popcorn', 'ramolli', 'seen', 'repaire', 'degli', 'impromptu', 'ouii', 'extrait', 'nems', 'its', 'regulierement', 'dinions', 'revues', 'medievale', 'approchait', 'chalence', 'perhaps', 'calcaire', 'fragments', 'stade', 'mlle', 'meat', 'baladant', 'label', 'officiel', 'tired', 'levure', 'doutions', 'leurre', 'hidden', 'camping', 'existaient', 'voulus', 'under', 'galerie', 'ahhhhhh', 'quantitatif', 'farce', 'prochaines', 'behya', 'gueuler', 'merdiques', 'tapissant', 'same', 'nationale', 'conseillent', 'vidais', 'istanbul', 'higyene', 'baladeuses', 'exemples', 'encaisse', 'teeshirt', 'dessers', 'hypocrite', 'little', 'avan', 'roman', 'escrocs', 'loutre', 'habituels', 'rupestre', 'degouline', 'mafia', 'rn', 'accompagnaient', 'quittons', 'strictement', 'stupide', 'fumeux', 'gu', 'moquerie', 'cheesburger', 'enverrais', 'baffe', 'italy', 'absolu', 'prepares', 'enormes', 'cadr3', 'bouff', 'voyageons', 'attrappes', 'hollandaises', 'restaurations', 'paiella', 'exellence', 'retiendrais', 'jambe', 'degeulasses', 'concluant', 'penses', 'acceptons', 'idioties', 'insupportent', 'tiers', 'makheureusement', 'organisations', 'echalotte', 'fuyant', 'inaction', 'relatif', 'pretentions', 'abuse', 'a9al', 'permette', 'frioulais', 'insultants', 'disais', 'three', 'charbons', 'treeeeeees', 'aurelia', 'colin', 'jeremy', 'vase', 'plaisait', 'combats', 'restauraunt', 'facebok', 'rayon', 'carcass', 'choux', 'accompli', 'bowls', 'extraterrestre', 'grince', 'kasteel', 'immuable', 'consolation', 'louanges', 'slop', 'minicieux', 'chaussure', 'mmmmmm', 'tirer', 'scarole', 'roti', 'balais', 'decevable', 'rassi', 'directifs', 'trait', 'aboyeur', 'certifier', 'dilatante', 'esclaves', 'walt', 'disney', 'composantes', 'balancent', 'atteri', 'estival', 'existent', 'aggressive', 'intraitable', 'contribuer', 'berlusconi', 'affairent', 'open', 'ardents', 'sabayon', 'instable', 'refroidir', 'diffusait', 'sevit', 'peau', 'navires', 'rive', 'parfais', 'surgele', 'provinciaux', 'fourneau', 'japon', 'artisan', 'deplorer', 'cannettes', 'rabbateur', 'controle', 'baeckhoffe', 'sweat', 'choquant', 'odieusement', 'moyennant', 'tabasco', 'ressortent', 'value', 'poivrots', 'calamiteux', 'emballante', 'accrochez', 'insalubres', 'beurck', 'muets', 'paelle', 'paierez', 'cappuccinos', 'nomment', 'consommez', 'ressentons', 'gonfle', 'repasse', 'betes', 'cantines', 'rallonger', 'abriter', 'barquettes', 'kitsh', 'doyen', 'amusante', 'incendie', 'apparu', 'tartares', 'fortiche', 'desservant', 'vref', 'ajoutait', 'bias', 'radin', 'volontaire', 'signature', 'pieger', 'suinte', 'mst', 'protege', 'nuuuuuul', 'clip', 'coocked', 'cessent', 'previennent', 'marchait', 'appelait', 'syndrome', 'mchyna', 'chf', 'nique', 'dnt', 'epouse', 'pince', 'umbelieveble', 'taff', 'affichait', 'accablant', 'vieillesse', 'vilipender', 's3yb', 'carotte', 'incluant', 'amatrice', 'cactus', 'incipides', 'recommanderont', 'artillerie', 'adition', 'reparte', 'blanchiment', 'araignee', 'mkhallet', 'pmu', 'exesssivement', 'impersonelle', 'croisant', 'traitera', 'menteurs', 'rence', 'miniatures', 'dia', 'mega', 'durcie', 'johanne', 'espagne', 'prs', 'refroidie', 'bloquant', 'sana', 'chewingum', 'they', 'foutaise', 'icetea', 'anorexique', 'libanese', 'rotana', 'net', 'incarne', 'xhemin', 'indigestions', 'tordre', 'demandais', 'louange', 'caves', 'courrent', 'sauter', 'conteste', 'rudimentaire', 'fastes', 'fuite', 'calssiques', 'caparcio', 'indigestent', 'etoiles', 'bondee', 'deborder', 'allaient', 'consternation', 'snit', 'reportage', 'melangees', 'anorexiques', 'dangereusement', 'estime', 'fioritures', 'signalant', 'rabatu', 'chapeaux', 'chauffantes', 'croiser', 'cheville', 'accessibles', 'crainte', 'repoussante', 'arriere', 'irrespirable', 'transpire', 'douteu', 'ramenant', 'buzz', 'altercation', 'autographes', 'piques', 'roues', 'variante', 'margarita', 'pannier', 'dolce', 'inabordables', 'allemand', 'vita', 'majeurs', 'outil', 'mangeront', 'nejib', 'mena7kich', 'ill', 'profesionalisme', 'promenait', 'parcouru', 'sonnette', 'aveugles', 'initial', 'brute', 'bearnaise', 'borgne', 'confier', 'monceau', 'relatant', 'attribution', 'carvla', 'ordonne', 'acharne', 'h30', 'exprimer', 'patibulaire', 'affichage', 'brie', 'pensants', 'sournois', 'convenablement', 'images', 'bing', 'terrases', 'lecl', 'carref', 'repasserai', 'marchandise', 'prosciutto', 'prodige', 'he', 'croyais', 'electriques', 'ameliorant', 'apathiques', 'soufflet', 'entretien', 'marnier', 'brioche', 'assorti', 'internationales', 'tal9aw', 'rigueur', 'insuffisant', 'interesse', 'exhorbitants', 'catstrophique', 'avenir', 'librement', 'differente', 'baignade', 'crues', 'antipatique', 'vieillote', 'calculatrice', 'recommend', 'meeting', 'repos', 'your', 'rumsteak', 'chaux', 'chillis', 'puttanesca', 'devrai', 'maghreb', 'automatiquement', 'kurubis', 'optez', 'localement', 'park', 'referme', 'mlewi', 'paradisiaque', 'essence', 'seguin', 'confits', 'gaspacho', 'sparklers', 'bousaid', 'savons', 'rumsteck', 'snobisme', 'regionaux', 'amine', 'sportifs', 'reprenez', 'breakfast', 'inhabituelle', 'margaux', 'real', 'raide', 'figurant', 'rappel', 'lacunes', 'glamour', 'qualiter', 'rapiditer', 'inchallah', 'chandelle', 'nasr', 'bcbg', 'bemole', 'modernes', 'partiellement', 'eleves', 'prevoir', 'pressant', 'apprecier', 'vai', 'depend', 'canal', 'tjs', 'cailles', 'profiterez', 'tape', 'variete', 'sures', 'honnetement', 'loups', 'chateaubriand', 'lamelle', 'performant', 'plaisantins', 'gaddour', 'manifiques', 'vites', 'jazzy', 'stationner', 'bat', 'carde', 'symphatique', 'mendiants', 'techno', 'retrouvailles', 'nombres', 'sentido', 'side', 'visuelle', 'poursuivre', 'extension', 'alger', 'combiner', 'assiste', 'radouci', 'ferries', 'respectables', 'bruits', 'stand', 'encombrement', 'speculos', 'croustillante', 'global', 'baba', 'officie', 'linguini', 'mehech', 'arbre', 'ta3mel', 'acoustique', 'uvre', 'majoration', 'minimes', 'ptits', 'please', 'yezina', 'equipes', 'souvenez', 'bolo', 'fac', 'variantes', 'mezyen', 'turcs', 'sympatrique', 'consistait', 'contacter', 'frappuccino', 'envisager', 'confondre', 'ivoirienne', 'avantageux', 'visitais', 'hamburguers', 'nostalgie', 'concurrencer', 'artifices', 'medhina', 'waouh', 'intelligence', 'flamiche', 'calmer', 'mere', 'boufe', 'their', 'matures', 'factory', 'cv', 'ouallah', 'swing', 'entretenues', 'toppppp', 'wings', 'comparant', 'courir', 'giuseppe', 'sore9', 'nouilles', 'barchaa', 'elli', 'assume', 'arem', 'karim', 'accuiellant', 'welshs', 'khater', 'millefeuille', 'matches', 'moelle', 'insolite', 'variees', 'pecheurs', 'cannelloni', 'aban', 'monoprix', 'tet3aba', 'quotidien', 'anges', 'joe', 'majdi', 'tagliatelli', 'sis', 'article', 'bnen', 'kima', 'devenir', 'gache', 'hautins', 'heyla', 'clovis', 'symbole', 'plaisantent', 'issu', 'courez', 'contemporain', 'obligeant', 'contenait', 'melange', 'mmmm', 'respectivement', 'green', 'constamment', 'reconnaitre', 'jet', 'few', 'compliment', 'spaguettis', 'localiser', 'favori', 'jadis', 'coutant', 'organise', 'peuple', 'aceuil', 'jetais', 'sourrillant', 'orientaux', 'sue', 'kook', 'catre', 'aqueillant', 'ambitieux', 'ojas', 'spagetti', 'chauffeurs', 'restautant', 'dinerais', 'sensiblement', 'retaurant', 'grimper', 'cade', 'leger', 'weekends', 'mytique', 'pc', 'preferant', 'endroi', 'yaourts', 'moutons', 'foudre', 'cafeteria', 'arrivee', 'mmm', 'concurrent', 'descendu', 'antique', 'exclusivement', 'finition', 'quarante', 'foire', 'divertissement', 'ouvrez', 'impeccablement', 'wake', 'vieillir', 'encourager', 'ressautant', 'lounges', 'inclut', 'osmose', 'ahmed', 'gamarth', 'entendais', 'fleuri', 'encouragements', 'dance', 'pourris', 'buffala', 'centenaire', 'select', 'bleues', 'pension', 'donnaient', 'progressivement', 'hlow', 'cossu', 'certitude', 'dorades', 'atteinte', 'succlents', 'pkats', 'aouina', 'conduisent', 'ttes', 'lauriers', 'parfaire', 'secrets', 'clientelle', 'carlton', 'raisonables', 'basilique', 'loisirs', 'chaleureu', 'fai', 'romantiques', 'chefs', 'regroupe', 'difference', 'foncez', 'rayer', 'restaura', 'pie', 'tounsi', 'caen', 'atteste', 'gestionnaires', 'possede', 'qualifiers', 'normand', 'reussies', 'grotte', 'vivais', 'rouleaux', 'massacre', 'mohamed', 'antipastis', 'exigue', 'fillet', 'ministre', 'antipasti', 'ouvrant', 'professeur', 'zed', 'one', 'egal', 'carrement', 'pente', 'aymen', 'approchez', 'irritante', 'tapent', 'humburgers', 'emmmh', 'investit', 'xx', 'clasique', 'programme', 'rinces', 'arrivages', 'ezzahra', 'pasteur', 'craquant', 'lingette', 'coloniale', 'poteau', 'vachement', 'fete', 'perceptible', 'exploser', 'lumineux', 'surprenantes', 'lignes', 'initiale', 'pieces', 'excessive', 'bercer', 'emporte', 'briand', 'sabri', 'city', 'samedis', 'tentation', 'oriente', 'multiprises', 'utilisateurs', 'fumez', 'ramenez', 'diffusent', 'sport', 'tutoiement', 'nikel', 'encombrant', 'nattes', 'fritte', 'joyeuse', 'univers', 'pailles', 'introuvable', 'personelles', 'tomberez', 'dla', 'normandie', 'qq', 'exeptionnel', 'exponentielle', 'miracle', 'endoit', 'philou', 'luis', 'marvin', 'domicile', 'nourrriture', 'album', 'lux', 'conformes', 'ambiante', 'decidement', 'arranger', 'frimeurs', 'biscuits', 'yasser', 'entasse', 'sages', 'cheescake', 'evitons', 'vents', 'bbq', 'inspirant', 'nn', 'hammanet', 'campagne', 'enplus', 'neplus', 'foix', 'capucin', 'bavarder', 'ala', 'traditionelle', 'additions', 'bouquiner', 'richard', 'retreint', 'fourrage', 'samsa', 'yetsoumem', 'tnedilhom', 'ijewbouk', 'm3abya', 'nettoie', 'coutume', 'melba', 'maritime', 'salad', 'mauresque', 'manquerai', 'nordique', 'secret', 'nullissime', 'choisies', 'parterre', 'dormir', 'panache', 'nes', 'buvette', 'revu', 'contrebas', 'bean', 'tablettes', 'apaisante', 'protestations', 'aimerez', 'limonades', 'fenetres', 'gares', 'descend', 'blagueur', 'repose', 'complexes', 'coquet', 'puait', 'aventuront', 'guitariste', 'baladez', 'estaminet', 'lesquels', 'exceptional', 'fronde', 'accidentellement', 'entourage', 'commerciale', 'fondre', 'quotidienne', 'croquants', 'citronnades', 'inconvenant', 'topissime', 'carre', 'bn', 'raccole', 'crayons', 'emprunter', 'formes', 'cran', 'richesses', 'male', 'mission', 'bizarres', 'osais', 'fosse', 'mtaa', 'saisissant', 'walid', 'modique', 'vieilli', 'solide', 'compenser', 'gages', 'animaux', 'sentiers', 'bonhomme', 'trooop', 'stuff', 'former', 'montagnes', 'recommender', 'accommodants', 'aider', 'tissu', 'rigole', 'respectives', 'hein', 'naviguer', 'flandres', 'innombrables', 'annonciateur', 'framboise', 'arretez', 'sudistes', 'brike', 'plais', 'hlowa', 'confiture', 'off', 'chaudement', 'seb', 'puddings', 'josef', 'donneront', 'miraculeusement', 'akahaw', 'mch', 'semblable', 'hummm', 'hivernale', 'superficiel', 'tue', 'nemchi', 'ouvriers', 'free', 'contempler', 'potable', 'achats', 'romantisme', 'formidables', 'licence', 'violents', 'chnord', 'soigner', 'coste', 'patissiers', 'patrick', 'grenouille', 'armer', 'assieste', 'sociale', 'mecanicien', 'taquin', 'vise', 'beautiful', 'chichement', 'conversion', 'buvait', 'luca', 'augmentent', 'desuet', 'endorit', 'louez', 'antonio', 'librairie', 'vignoble', 'retardataires', 'vaillant', 'livreurs', 'appaisante', 'rangee', 'borzguene', 'carppaccio', 'vomisse', 'nullement', 'franchit', 'professionnalime', 'valais', 'rappellent', 'cuivre', 'tactile', 'interrompant', 'pinky', 'convertie', 'abolument', 'pitt', 'terrase', 'cuisent', 'eljeld', 'eaux', 'commandent', 'retiens', 'torrito', 'mohiedinne', 'exercer', 'dedale', 'foundouk', 'incidents', 'maire', 'emiette', 'vieillit', 'frabchement', 'santorin', 'guel', 'souple', 'littoral', 'appellerai', 'adonnant', 'decouvrent', 'preparee', 'contrastes', 'renversante', 'quietude', 'isolation', 'fleuries', 'retenant', 'occasionels', 'athmosphre', 'enfilade', 'courantes', 'thermique', 'deplacement', 'splendides', 'mascarpone', 'attable', 'fot', 'rechercher', 'trouveriez', 'colisee', 'impacter', 'avaries', 'attarde', 'mama', 'decro', 'baraque', 'abolumenet', 'sindbad', 'exigeants', 'snober', 'courtes', 'rangent', 'resataurant', 'lasagna', 'simbad', 'emplacment', 'tempuras', 'meditation', 'esperes', 'influences', 'finissant', 'fortification', 'personnnel', 'lieus', 'conduiront', 'embrasser', 'marchander', 'mapporter', 'ancestral', 'kadid', 'recomptant', 'resumer', 'rabattant', 'vacheries', 'rembourser', 'usa', 'verra', 'chemun', 'boon', 'sculptures', 'rever', 'oublirai', 'accessoires', 'marinees', 'fuyezzz', 'pures', 'bay', 'guolf', 'afflux', 'grec', 'pretextant', 'panaromique', 'mechmoum', 'attenant', 'paysages', 'muscats', 'rechaud', 'deuz', 'museau', 'hostile', 'duservice', 'eglise', 'wi', 'rajout', 'enfermer', 'dominent', 'discutions', 'avare', 'ottoman', 'subimes', 'impecables', 'reviennent', 'constaterai', 'enjoint', 'haithem', 'kerkenese', 'aile', 'adieu', 'huiles', 'homologues', 'demeurent', 'saisir', 'innoubliable', 'grimaud', 'jukebox', 'gravir', 'parquet', 'relevait', 'cafee', 'ostentatoire', 'surplombez', 'nouritture', 'accoutumer', 'pitoresc', 'mariniere', 'pointu', 'flechisse', 'biensure', 'hatem', 'enlish', 'jouais', 'ruinerez', 'baeucoup', 'obtenons', 'grim', 'soleils', 'lorraine', 'reservant', 'milanais', 'skander', 'revus', 'romentic', 'caffe', 'bistronomiques', 'shakes', 'logo', 'crave', 'rapproche', 'entoure', 'am', 'paninni', 'scintillante', 'booof', 'europeen', 'vaches', 'prmier', 'bruel', 'solei', 'quosi', 'kerkena', 'tuba', 'traduit', 'hammamt', 'promontoire', 'ambulant', 'voter', 'datant', 'accepteront', 'sreack', 'supeer', 'rougir', 'bases', 'allumettes', 'respirations', 'orgeat', 'orages', 'orginales', 'berce', 'tj', 'corrzcts', 'trouverai', 'intellectuels', 'pisser', 'poulaire', 'vou', 'usd', 'agisse', 'atteignent', 'ju', 'nabli', 'excell3nt', 'confondent', 'venger', 'hideuses', 'spirit', 'chairs', 'proviennent', 'media', 'muraille', 'droits', 'pass', 'manipulatrice', 'envois', 'interieure', 'peritif', 'connaissaient', 'toaste', 'motown', 'pardonne', 'buvant', 'makrouts', 'sool', 'couchant', 'muisque', 'vouos', 'essuyant', 'repatris', 'surprend', 'barbarousse', 'visualisation', 'battant', 'gandes', 'gastriques', 'mehchi', 'douleurs', 'constuite', 'esclandre', 'bass', 'gbp', 'jamun', 'gulab', 'subi', 'collier', 'strip', 'couth', 'techniques', 'emailing', 'vouliez', 'programa', 'distinction', 'soupapes', 'ish', 'chargent', 'gagnant', 'abricots', 'klaxons', 'mitoyen', 'appuyer', 'authentiquement', 'notice', 'malibu', 'sparkler', 'compromise', 'legal', 'sauront', 'artistiques', 'politiques', 'taieb', 'joins', 'bw', 'rot', 'senteurs', 'got', 'violon', 'mitic', 'gant', 'desssert', 'minaret', 'neau', 'belhassen', 'ag', 'prendra', 'atlas', 'chame', 'montantes', 'costo', 'jemaa', 'anythig', 'carnivores', 'procession', 'viennet', 'malt', 'single', 'hammameth', 'atelier', 'cascades', 'contraires', 'dispositions', 'statue', 'appreciables', 'enchante', 'marquante', 'amendes', 'roof', 'veillent', 'borj', 'transparence', 'ricota', 'ford', 'hesiter', 'minestrone', 'atteindre', 'extravagance', 'debute', 'engage', 'ave', 'barberouse', 'pacino', 'crasseuses', 'replis', 'commettre', 'mente', 'kelibia', 'sembler', 'passerait', 'rebof', 'promenaient', 'ii', 'empreigne', 'surtous', 'faune', 'contes', 'challenge', 'eftar', 'loisir', 'conviival', 'escaladant', 'hmmamet', 'labri', 'auvergnate', 'envahissante', 'sain', 'auvergnat', 'fondues', 'come', 'rituel', 'syrah', 'saboter', 'voudrions', 'beylicale', 'corrida', 'lollll', 'riquiqui', 'otantique', 'taquet', 'jouissant', 'embaras', 'smiley', 'empilement', 'regler', 'chribtek', 'draguer', 'explicative', 'cannes', 'jarter', 'agrandissement', 'rentables', 'burguers', 'impressiion', 'descendue', 'ma9rouna', 'accueilleront', 'axel', 'qualitativement', 'blanchis', 'rechigner', 'sservice', 'passerez', 'pushy', 'unesco', 'malheursement', 'rendions', 'voisinage', 'certainemenent', 'habtant', 'preferable', 'sommeil', 'accuse', 'pandant', 'prsonnel', 'romantic', 'epoque', 'propietaire', 'mascarade', 'transporter', 'y7asnou', 'divan', 'induites', 'edroit', 'fourreau', 'coutera', 'duplex', 'baset', 'staffs', 'konefa', 'borde', 'rocher', 'o5ra', 'baigneurs', 'calrte', 'respirer', 'embruns', 'oserait', 'hamammat', 'ba3ed', 'charmes', 'maginifique', 'nestanew', 'b9ina', 'pouir', 'imposante', 'profiteurs', 'sables', 'dune', 'regulierment', 'yal3bou', 's4ayrat', 'ya3tihom', 'renaissance', 'going', 'goyesque', 'raves', 'objets', 'm3ak', 'perriers', 'petillante', 'ta7ki', 'tesma3', 'raport', 'eleve', 'moral', 'foyers', 'recevait', 'cordon', 'innover', 'bassinait', 'cinema', 'apetisaant', 'rt', 'notant', 'marinades', 'accessoire', 'empfehlen', 'zu', 'nicht', 'ausgenutzt', 'degoutante', 'beschrieben', 'oben', 'obligent', 'ennui', 'anneth', 'exigeantes', 'rince', 'recimmanderai', 'essayerons', 'libanaise', 'adoption', 'decarlo', 'lr', 'perdez', 'wie', 'faiblesse', 'cakes', 'saisi', 'ffffffffff', 'maos', 'surcout', 'ded', 'puants', 'disparaitra', 'kalt', 'expliquait', 'faisan', 'dancefloor', 'gmbr', 'qaund', 'qques', 'tailles', 'unfreundliche', 'heizung', 'coulant', 'mitarbeiter', 'diffuse', 'thelou', 'gesehen', 'leben', 'ich', 'habe', 'katastrophale', 'toop', 'eine', 'ndhif', 'einzig', 'dann', 'sandwish', 'wird', 'das', 'lage', 'die', 'papoter', 'reaugmentent', 'ist', 'collection', 's7an', 'couleuvreau', 'avale', 'abzocke', 'touristen', 'einfach', 'preise', 'wucher', 'englisch', 'spricht', 'prenais', 'aman', 'agacent', 'imposture', 'asap', 'quite', 'stable', 'commercants', 'nuuuuuuul', 'formelle', 'robots', 'causy', 'trilogie', 'tissage', 'ze', 'mauvait', 'repartant', 'pateux', 'pourcet', 'poivrer', 'tequila', 'ormis', 'jospeh', 'plusque', 'boff', 'bavarde', 'sons', 'regardes', 'discutables', 'ideale', 'cubi', 'posait', 'souplesse', 'kabeb', 'ezzitouna', 'malheure', 'presenter', 'zigue', 'fourguer', 'endormir', 'billy', 'lacune', 'fonctionnent', 'treeees', 'aoueda', 'croustillantes', 'parangon', 'organiste', 'vergogne', 'repoussant', 'embarrassant', 'grognon', 'grizzly', 'confusion', 'fake', 'minis', 'hassilou', 'resteinte', 'spahettis', 'disco', 'vetuster', 'pendent', 'quenellle', 'abasolument', 'angoissante', 'adana', 'fissaa', 'poireaux', 'routiers', 'depasser', 'billard', 'vrmt', 'sex', 'sevir', 'abatagge', 'plaisez', 'souvlaski', 'conte', 'invectivent', 'malfouf', 'adopte', 'concentration', 'rilette', 'plaisr', 'fesait', 'aimions', 'neamoins', 'medicocre', 'social', 'nettoient', 'secondaires', 'soudainement', 'gratification', 'rapportent', 'meule', 'ecoeurant', 'aboie', 'bands', 'brrrrr', 'sallad', 'ouvrier', 'pencher', 'peser', 'trous', 'burghiba', 'hambergers', 'moyeux', 'realiser', 'rabatrice', 'innocentes', 'optimisation', 'coupables', 'chaneb', 'guinguette', 'renversant', 'atit', 'aimeraient', 'hokka', 'monologue', 'atmosfaire', 'ignorait', 'viendrai', 'cocarde', 'mat3em', 'rotisseurs', 'separations', 'chenil', 'prevu', 'unenthused', 'attentats', 'acier', 'cantonner', 'disjoncter', 'resta', 'rihad', 'harmonieuses', 'abut', 'modo', 'grosso', 'enviable', 'pane', 'inimaginables', 'portables', 'stopper', 'taouk', 'chich', 'ghalya', 'yestaamlou', 'mayfoutech', 'dominante', 'kit', 'prononcer', 'soles', 'invitais', 'berberrous', 'riant', 'tunisieil', 'serveurfroid', 'repasseras', 'voys', 'ampli', 'bavure', 'confite', 'accostage', 'fournaise', 'jasmins', 'repassent', 'ribat', 'rencontrent', 'defraichie', 'souhaitait', 'regrouper', 'avon', 'lambiance', 'ikl', 'ternissent', 'apport', 'cari', 'produire', 'brownies', 'dhaw', 'depenser', 'allah', 'keftaji', 'rustik', 'lovers', 'half', 'lesinent', 'algeriens', 'oeuvres', 'huppes', 'exerce', 'standart', 'racisme', 'polarises', 'kayser', 'vendus', 'doggy', 'griffonner', 'interpeller', 'alentour', 'exessivement', 'performants', 'tentes', 'projection', 'attendue', 'vigilants', 'parcimonieuses', 'bouffes', 'pappadum', 'cout', 'benne', 'ordure', 'cava', 'tortellini', 'bousculent', 'depit', 'pointilleux', 'demandera', 'enchanteresse', 'vertigineuse', 'tho', 'grumberekiechle', 'pourront', 'songer', 'sourir', 'portals', 'sheesecake', 'twali', 'dokhan', 'rafraichir', 'occupation', 'vestimentaire', 'appuient', 'quan', 'beef', 'vigiles', 'reservees', 'climatise', 'ihotou', 'fantaisie', 'droom', 'adjacentes', 'nuancier', 'insuffisaments', 'barings', 'millime', 'gravement', 'reconnaissent', 'bourgeois', 'saisis', 'maladresse', 'tooooop', 'pareilles', 'volet', 'copins', 'ftrt', 'tahar', 'audiovisuel', 'manoir', 'accentcen', 'mide', 'plongeur', 'phebus', 'cf', 'manquuait', 'dore', 'ryad', 'ijja', 'fantastiquement', 'dun', 'karnit', 'atham', 'sbaress', 'regime', 'surtour', 'tunienne', 'mouleha', 'cherchait', 'ustensile', 'espec', 'esterieure', 'diplomates', 'tiramitsu', 'timbales', 'marseillaise', 'styler', 'incompatibles', 'irriter', 'impasse', 'traversant', 'surprit', 'commune', 'aalihom', 'curieusement', 'abonnement', 'admis', 'lamb', 'fe', 'engageante', 'fajito', 'mexicainres', 'berge', 'dipper', 'centres', 'commender', 'chickes', 'ordinateur', 'quesadilla', 'lancement', 'santa', 'verront', 'bourgeoise', 'idal', 'beyrouth', 'sei', 'rquirements', 'mach9ou9', 'pretention', 'recommandait', 'especially', 'biologiquement', 'trinquer', 'mutuelle', 'faciliter', 'ashraf', 'sampler', 'tunmexican', 'inglewood', 'jersey', 'ombrage', 'nesreddine', 'enchilada', 'fournisseurs', 'bourratifs', 'etoile', 'assistance', 'ilis', 'transforment', 'exterieure', 'admettons', 'rambo', 'impressions', 'zephir', 'abvoir', 'contrebalancer', 'taster', 'tuna', 'seuil', 'tchaw', 'jugez', 'losso', 'quantiter', 'pardooooooon', 'tiramusu', 'hhhhhhh', 'termines', 'manucure', 'look', 'chaussee', 'proposee', 'refusons', 'raoued', 'harrisa', 'voyagent', 'convertir', 'marocaines', 'fashion', 'vielles', 'imposer', 'vinotheque', 'murat', 'panes', 'ordures', 'goullette', 'meuileurs', 'beucouo', 'renove', 'fau', 'touil', 'deboire', 'battu', 'kamouia', 'inapercue', 'smothie', 'innova', 'dilettante', 'paru', 'toyota', 'kerala', 'parfaois', 'goutter', 'piece', 'opas', 'intelligents', 'mourouj1', 'appates', 'africains', 'taxes', 'agnea', 'poutargue', 'raffiner', 'invites', 'strict', 'michoui', 'loterie', 'jouiez', 'natal', 'festin', 'souriantet', 'plusieures', 'quinoa', 'enfantnous', 'store', 'gente', 'offrira', 'guitare', 'amicaux', 'hamba', 'intempestive', 'gouleyant', 'comma', 'biftecks', 'garden', 'ltr', 'legumrs', 'logement', 'dou', 'driff', 'coline', 'notoire', 'essayerai', 'touchais', 'trainee', 'superieur', 'novices', 'modes', 'sourie', 'colonnades', 'dinez', 'ratatouilles', 'recommandes', 'grimpes', 'additiobs', 'verifiers', 'perssonnes', 'rehausse', 'coffre', 'tricherie', 'fermes', 'atteint', 'colon', 'habile', 'designers', 'surplombante', 'kronenbourg', 'donnera', 'expatries', 'calcaires', 'restreindre', 'douillets', 'nids', 'contradictions', 'refaits', 'twist', 'crado', 'jogging', 'dragueurs', 'morose', 'vitesses', 'malfaisant', 'helas', 'passablement', 'luz', 'atteindrons', 'malaimable', 'joignables', 'happyhours', 'randonnons', 'curieuse', 'lamelles', 'nid', 'berck', 'bnine', 'fermenter', 'situer', 'analyser', 'emplus', 'beya', 'zanzana', 'rumeurs', 'le9dom', 'retrete', 'dam3a', 'feha', 'reception', 'kan', 'inexistants', 'impact', 'flora', 'gater', 'pestilentielle', 'accueillent', 'chbeba', 'charte', 'majeure', 'justice', 'suisse', 'nvx', 'loft', 'prudent', 'mondiales', 'subsiste', 'poque', 'estancot', 'obtient', 'survivre', 'superior', 'com', 'monem', 'terminant', 'livrent', 'valables', 'ornent', 'espacer', 'rendues', 'malpoli', 'edith', 'd3', 'supplier', 'simon', 'provence', 'multiethniques', 'pax', 'las', 'lake', 'romana', 'aperos', 'sautait', 'gachee', 'lime', 'apparentes', 'toktolkom', 'yves', 'lacs', 'jombon', 'attaque', 'grier', 'abruptement', 'impressionnable', 'torrides', 'khir', 'enveloppe', 'behyine', 'sied', 'princier', 'indicible', 'aguerris', 'atteindrez', 'tectonique', 'ailes', 'peintures', 'divertissements', 'exquizite', 'bleda', 'kenet', 'paresseux', 'souvienne', 'bourbon', 'reouverture', 'desorganise', 'reussir', 'investissement', 'paradisiaques', 'subtils', 'els', 'ridha', 'veggie', 'avertissement', 'bruccio', 'muer', 'reculer', 'cannellonis', 'asiette', 'quelquefois', 'occupent', 'hustoire', 'standings', 'treees', 'movenpick', 'plaza', 'dokkana', 'inquiet', 'voiturette', 'collations', 'perspective', 'houblonnerie', 'ingurgiter', 'subjectif', 'transmis', 'agitateur', 'insatisfaisant', 'trapiche', 'tutoyant', 'apparance', 'mettais', 'terrifiant', 'emprisonnement', 'baladaient', 'description', 'cousin', 'commercante', 'pensse', 'brin', 'dense', 'chiourme', 'casule', 'monumental', 'forcing', 'nchallah', 'harpe', 'impressionante', 'consoles', 'forestal', 'jetez', 'touiller', 'terrain', 'mikado', 'visitiez', 'ferry', 'river', 'antipatiques', 'mousses', 'cri', 'visitons', 'hardi', 'bilingue', 'hhhh', 'facturer', 'generous', 'propore', 'flottant', 'recomptez', 'brasseurs', 'habit', 'amarrer', 'grog', 'vien', 'cartier', 'aperitifs', 'retiendrons', 'miroirs', 'basilic', 'objectivement', 'plaignaient', 'heinz', 'lyonaise', 'profiterolles', 'tentons', 'raisonnablement', 'privez', 'cad', 'oci', 'banquettes', 'bourru', 'tantinet', 'contiennent', 'paupiettes', 'adaptation', 'empestaient', 'imbuvables', 'villageoise', 'camarguaise', 'reussi', 'kyrielle', 'tourner', 'calent', 'puissions', 'visualiser', 'remises', 'condition', 'discutant', 'brossard', 'superlatifs', 'cumule', 'apprendra', 'bourgignon', 'filandreuse', 'cantonade', 'commencent', 'expliquant', 'irons', 'ma7leha', 'individuels', 'orgasmique', 'fluide', 'papy', 'surpasse', 'journaux', 'dose', 'apparentant', 'caesar', 'timing', 'ulra', 'pilon', 'poignet', 'yannick', 'abondant', 'lingots', 'nues', 'collaient', 'aguicher', 'ms', 'gamelle', 'experts', 'septique', 'satisfaisants', 'opinion', 'aboyer', 'preparation', 'manon', 'roule', 'haw', 'hasardeux', 'marchez', 'quelqun', 'ennuyeuse', 'apprenez', 'granuleux', 'impacte', 'ija', 'y9ollou', 'acquiesce', 'recherchons', 'saines', 'lilloises', 'arriverait', 'assoie', 'fu', 'safa', 'recevant', 'negligence', 'angleterre', 'cris', 'averti', 'abondantes', 'geant', 'flagrant', 'worst', 'armateurs', 'entends', 'vriament', 'remerciements', 'desastreux', 'massacrer', 'laxiste', 'sornettes', 'infection', 'prier', 'carole', 'morveux', 'consommateur', 'chrono', 'jouant', 'paillardes', 'avont', 'commerces', 'outrance', 'marge', 'badira', 'contrainte', 'organisent', 'branchement', 'interdits', 'masculin', 'vomissements', 'souviendra', 'great', 'tenons', 'convaincante', 'baigner', 'bouillante', 'vaisselles', 'fermait', 'danceuses', 'risible', 'saurais', 'fortuites', 'rigoler', 'maudite', 'outrageusement', 'hi', 'quinze', 'tronche', 'professionelles', 'maladroitement', 'spectateurs', 'captivante', 'nullard', 'captivant', 'pleut', 'metier', 'poor', 'aalina', 'jdid', 'miracles', 'joes', 'beurkkk', 'crasse', 'acceuillis', 'ri', 'idealement', 'panoplie', 'server', 'kastel', 'executer', 'yesss', 'awesome', 'soire', 'muffin', 'guillaume', 'goutue', 'else', 'deconcertant', 'megrine', 'appater', 'vieillissante', 'affirmant', 'sortants', 'rentrent', 'appartenant', 'transports', 'ressourcer', 'proportionnel', 'small', 'bagout', 'payons', 'agitent', 'approuve', 'weld', 'enfuir', 'comptait', 'iphone', 'mangiez', 'inexiastante', 'torchon', 'rafinee', 'apparaissent', 'matchofhom', 'speciale', 'marin', 'mouchoir', 'japonnais', 'regresse', 'rachid', 'surla', 'echappement', 'rassure', 'familiers', 'goutus', 'vernis', 'wa9t', 'puissent', 'usuel', 'rassasier', 'chauffants', 'mangerait', 'poussoir', 'crampe', 'ferons', 'gracieuse', 'topping', 'toppings', 'combinaisons', 'enfuies', 'vague', 'cornichon', 'santino', 'ketch', 'americaine', 'fragiles', 'coupent', 'campari', 'rumsteack', 'artichaut', 'tahfoun', 'verveine', 'rabaisser', 'miniature', 'russes', 'decide', 'banofee', 'estaminets', 'cesser', 'pkus', 'enrichissante', 'idiot', 'rikita', 'debordantes', 'infos', 'absente', 'datent', 'stockes', 'rats', 'amoureusement', 'introduction', 'referais', 'monticule', 'confectionner', 'comporte', 'rome', 'suivante', 'bouton', 'citronade', 'inratable', 'suffisants', 'daal', 'spectale', 'barcelone', 'intimidation', 'zafyyr', 'bretonne', 'aswem', 'derriere', 'peix', 'bered', 'm3abbiya', 'matal9ach', 'to93ed', 'boivent', 'rochets', 'regardons', 'bossions', 'lampe', 'fingers', 'acceillu', 'bienque', 'spicy', 'harley', 'serte', 'fleischkiechle', 'western', 'ejja', 'inhumain', 'bec', 'sfaxiennes', 'gourmants', 'rhubarbe', 'gamins', 'selophane', 'ouvertures', 'adapte', 'blue', 'moelleuse', 'abondants', 'yuka', 'issa', 'nerde', 'daniel', 'trouveras', 'franchissez', 'nanas', 'degradent', 'tombent', 'volaient', 'cheuveux', 'empocher', 'gardent', 'arrondi', 'infectes', 'leffe', 'becks', 'gusto', 'installent', 'decortiker', 'procurer', 'sonne', 'tabouna', 'ameliorer', 'dechantee', 'chewin', 'commme', 'abomination', 'exotisme', 'tripavisor', 'froidement', 'accords', 'circulent', 'abris', 'comptoirs', 'first', 'fioriture', 'groups', 'insatisfaits', 'piteux', 'chou', 'anormalement', 'navigue', 'festif', 'habits', 'l3ali', 'fournies', 'chevriette', 'crackers', 'mangifique', 'goutu', 'pape', 'adeptes', 'souvient', 'balades', 'aveugle', 'comptes', 'toblerone', 'douces', 'pressante', 'deale', 'montparnasse', 'desservi', 'jointe', 'saisonniere', 'choississons', 'incorrecte', 'explosions', 'infusions', 'repondu', 'coupant', 'fixes', 'hodieuse', 'surprendre', 'tier', 'bourguignone', 'laurence', 'talent', 'disparate', 'trais', 'noyant', 'bourrache', 'fusion', 'normales', 'bavard', 'carement', 'casper', 'espere', 'depiteux', 'defraichies', 'bousiller', 'limoncello', 'wonderboxe', 'turbo', 'renseignement', 'vomie', 'finitions', 'ventilateur', 'exigence', 'menzah5', 'document', 'hesite', 'digue', 'satisfaisantes', 'lirais', 'fichue', 'canuts', 'provocante', 'cheescakes', 'raccoler', 'recommandez', 'dabord', 'tranquil', 'torp', 'appeller', 'respectent', 'majorite', 'acceptait', 'landaus', 'accumulait', 'habitutde', 'dhammamet', 'can', 'corresponde', 'comparable', 'mokhito', 'framboises', 'qualitee', 'chow', 'down', 'moisis', 'negatives', 'faims', 'raye', 'cuba', 'mettrais', 'cosmitto', 'charger', 'inbuvable', 'if', 'nantua', 'redoutable', 'gelee', 'attentiin', 'harba', 'brancher', 'mettaient', 'taksir', 'nauseabonde', 'etat', 'errass', 'blondiz', 'rassurantes', 'pourrons', 'browniz', 'accommodement', 'oumour', 'brutalement', 'choucroutes', 'bisque', 'wouaaahhhh', 'dispense', 'renforcer', 'cogne', 'esthetique', 'pinot', 'fonctionner', 'romarin', 'radiateur', 'enfoutisme', 'marmitte', 'dessiner', 'luncher', 'diminuer', 'fibre', 'atterris', 'bouchees', 'accompagnee', 'saurin', 'william', 'symapthique', 'miniscule', 'korean', 'conjointe', 'risques', 'accommodante', 'neuve', 'josiane', 'otmane', 'souscrire', 'motif', 'mouch', 'jugement', 'tajin', 'insistez', 'agrandir', 'esm', 'moustique', 'marbet', 'tite', 'racoller', 'exact', 'khali', 'merciere', 'hahahaha', 'valse', 'optique', 'envisagerai', 'nsakrou', 'infernal', 'gaspesienne', 'indus', 'day', 'humberger', 'lamentables', 'bsara7a', 'figurer', 'cetait', 'homes', 'tralala', 'manquante', 'entrainer', 'annuler', 'cremino', 'accrocheur', 'reduction', 'kashmir', 'crise', 'aurore', 'parigot', 'attardera', 'incluent', 'amont', 'facturent', 'bisous', 'maigres', 'fleichkichle', 'val', 'carbonades', 'hermitage', 'jarabt', 'participer', 'crozes', 'nourritue', 'relatent', 'ruche', 'cheque', 'age', 'dise', 'ramene', 'gore', 'yorkais', 'everest', 'alr', 'reduite', 'onm', 'bretelles', 'ponctuels', 'shish', 'fuyer', 'kids', 'suivent', 'remettront', 'bac', 'eldorado', 'emblematique', 'bels', 'acharnement', 'bourrin', 'emmenant', 'acerbes', 'dc', 'mediocres', 'collait', 'savoy', 'titulaire', 'japonais', 'tataki', 'tounes', 'clown', 'pere', 'habituer', 'essentiels', 'rappele', 'loic', 'mouzika', 'omlette', 'bords', 'existant', 'aberration', 'hahahahah', 'humm', 'smootie', 'mlawis', 'espresso', 'empressement', 'savoeur', 'wowww', 'rosettes', 'modere', 'aisselles', 'ir', 'mole', 'symboliser', 'bourse', 'guignol', 'gnafron', 'flamby', 'influencer', 'appetito', 'mourouj', 'repensant', 'romaine', 'matriciana', 'alla', 'bucatini', 'alliance', 'colline', 'impatiemment', 'redescendre', 'bonn', 'buon', 'antipasto', 'implacable', 'nou', 'epouvantable', 'intervient', 'surcuites', 'improviste', 'journalier', 'verbalement', 'moderee', 'misto', 'tee', 'frito', 'exeptionnels', 'rai', 'sicilen', 'improvisation', 'hummmmm', 'descendez', 'conseillera', 'dino', 'perplexe', 'garantissent', 'personnalisee', 'nonna', 'romano', 'pecorino', 'guanciale', 'emplettes', 'mehdi', 'review', 'resonnable', 'tgm', 'coince', 'paressait', 'cremes', 'baklava', 'poussif', 'm5alta', 'desrts', 'enjoyeable', 'craignez', 'movaise', 'bowl', 'elevee', 'auvents', 'nutlella', 'serrer', 'dessu', 'aveuglette', 'occation', 'entrants', 'enfoncent', 'jouxtant', 'avenu', 'conserne', 'commodite', 'peus', 'saha', 'makroud', 'rpide', 'avertit', 'siciles', 'publique', 'sommum', 'cusinier', 'cusine', 'feutre', 'flammenkuch', 'plain', 'ecart', 'retient', 'rigolote', 'viennoiserie', 'salop', 'centaine', 'rectangle', 'sels', 'miramar', 'dernierrrement', 'classerais', 'yeserrrr', 'instaure', 'slow', 'attentionne', 'modifient', 'lardonnera', 'cools', 'ador', 'mzrc', 'optons', 'habiles', 'muet', 'diferentes', 'voyamar', 'cigales', 'identification', 'saphir', 'bingo', 'para', 'kg', 'brillant', 'phenicia', 'ressorties', 'bouis', 'cuisons', 'wallid', 'contenterai', 'clarifier', 'pouncing', 'abdelwaheb', 'melons', 'ramadam', 'pari', 'niche', 'unis', 'papillon', 'noeud', 'medeterannien', 'recontre', 'concocteras', 'astra', 'transportent', 'gastromie', 'expert', 'tipiquement', 'manqueront', 'beux', 'fit', 'clous', 'decord', 'gentillement', 'penni', 'cok', 'oursins', 'general', 'vedettes', 'suffirait', 'morderne', 'blacon', 'anniverssaire', 'salutations', 'constituer', 'perssonnel', 'exellents', 'empcher', 'dentee', 'cooktails', 'aqueillante', 'acceuilir', 'duquel', 'inpecable', 'arrose', 'delicieurse', 'affre', 'veiller', 'cravate', 'prendrez', 'diari', 'aknaf', 'concurrences', 'haythem', 'armez', 'gosse', 'dits', 'brigade', 'effectue', 'convention', 'bouleverser', 'personelle', 'role', 'qualities', 'assaisonee', 'gagneraient', 'contacte', 'hmmmmm', 'hammarmet', 'faurchettes', 'monza', 'efficieint', 'ext', 'mielleuse', 'presses', 'arret', 'hammamer', 'jis', 'bave', 'autos', 'etahrir', 'bravoooooo', 'jelbana', 'charmings', 'frime', 'chartier', 'kebabs', 'julia', 'tahir', 'poile', 'lavie', 'ue', 'quisine', 'sosie', 'maintenu', 'acceptais', 'recomende', 'ride', 'daim', 'tradisonnelles', 'tube', 'propretie', 'qualitie', 'tuniso', 'waaw', 'raviront', 'challeureux', 'tanneurs', 'authentic', 'frere', 'devorerez', 'apprecierez', 'rabougries', 'gastronome', 'mar9et', 'vapoteurs', 'mosli', 'camonia', 'malvenu', 'souheil', 'inimitable', 'haitham', 'payait', 'mamans', 'sourient', 'grenelle', 'domenique', 'conner', 'rentres', 'symbolique', 'travailent', 'porcs', 'salopards', 'resservit', 'notables', 'mmagnifiqueeee', 'lavazza', 'gilaterie', 'parfuns', 'minutieux', 'convenance', 'surout', 'traversez', 'chaqu', 'yasmin', 'tendus', 'pacha', 'oussi', 'atirer', 'annuelle', 'glasse', 'francfort', 'corne', 'parfume', 'ecxellent', 'affichant', 'regorge', 'pattisseries', 'cadence', 'patisseie', 'loukoums', 'jms', 'fraie', 'allemagne', 'pppppffff', 'recherchent', 'architecturale', 'testerons', 'gazelles', 'cornes', 'baklawas', 'filtrent', 'notable', 'makrouds', 'achetons', 'indiscutable', 'sondage', 'ministere', 'drapeau', 'tonifiant', 'kabkabou', 'rafaello', 'frait', 'mongeant', 'mogito', 'iota', 'focus', 'plis', 'serveure', 'entreprises', 'ascendant', 'rampe', 'concepteur', 'installes', 'commentares', 'bueno', 'kinder', 'libraire', 'tajines', 'czrte', 'environ100g', 'lirez', 'cithare', 'subtile', 'dommages', 'champions', 'segafredo', 'internationaux', 'commas', 'majoritairement', 'particulierement', 'bananasplit', 'milshake', 'yoyo', 'evident', 'nacer', 'myrtilles', 'zapper', 'cettefois', 'graal', 'quoiqu', 'farm', 'revivre', 'indescends', 'verrine', 'reservez', 'melodie', 'bric', 'malbouffe', 'adapter', 'round', 'bolognaises', 'voyous', 'encb', 'couteux', 'debordee', 'diversite', 'afreux', 'darna', 'tellememnt', 'avre', 'aurelya', 'noircies', 'parvient', 'redemander', 'attractives', 'lundis', 'compensait', 'humiliation', 'plonger', 'oppressant', 'abusent', 'crapiest', 'boscaiola', 'frisquet', 'orge', 'sortions', 'agrafe', 'rangement', 'higiene', 'nane', 'pollo', 'aimes', 'endormi', 'noblesse', 'andou', 'agraffeuse', 'venteux', 'suplice', 'fraichement', 'unanimes', 'yumy', 'obscur', 'escroquer', 'sponsors', 'mangy', 'ahssan', 'bizutage', 'garcon', 'lards', 'christine', 'klit', 'limte', 'orienter', 'vape', 'initie', 'reconnue', 'gagne', 'miteuse', 'continental', 'congelees', 'hautaine', 'plaignent', 'morue', 'heuuuu', 'safia', 'reviendront', 'invitent', 'finis', 'cocoon', 'poussiere', 'condiments', 'traditionnellement', 'christopher', 'coloration', 'degustes', 'gabsi', 'marchions', 'maroil', 'exemplaires', 'soirees', 'extraction', 'kolou', 'grillee', 'mineures', 'sup', 'meriterais', 'flo', 'assoire', 'rappot', 'astuce', 'trooooop', 'present', 'resonable', 'entendeur', 'baroude', 'qualitatif', 'anecdotes', 'bakchich', 'm5', 'decevants', 'volumes', 'samira', 'panse', 'sachets', 'fidele', 'affreuses', 'cubes', 'shark', 'carcasonne', 'conserver', 'boeufy', 'physique', 'gosses', 'trouvable', 'chateau', 'anime', 'hyt', 'psk', 'tornado', 'apriori', 'chams', 'avocat', 'stupeur', 'niquer', 'dalloula', 'insolents', 'engouement', 'baigant', 'rolle', 'choice', 'salive', 'pizzaiolo', 'vacanciers', 'packaging', 'vestimentaires', 'bubble', 'gourmant', 'salver', 'juteux', 'jacuzzif', 'hormones', 'mergez', 'excursions', 'inacceptables', 'abat', 'remarquez', 'cloche', 'viendra', 'amazing', 'triche', 'bague', 'reconduits', 'coque', 'moonwalk', 'resort', 'corriger', 'exceptionnellel', 'piosson', 'prof', 'politesses', 'excusez', 'nawene', 'fraicheurs', 'talentueux', 'amor', 'excessi', 'recevez', 'exceptionel', 'ommipresent', 'mercii', 'peraps', 'moulinaux', 'puissants', 'primary', 'stands', 'sccueil', 'aguerri', 'adorerais', 'ressemblance', 'souriait', 'jess', 'bruchette', 'sandwiche', 'fraction', 'iinvite', 'cray', 'cuis', 'srez', 'reservations', 'intoxications', 'a9wa', 'hrissa', 'vacansiers', 'recus', 'ghali', 'board', 'wjouh', 'envoient', 'villages', 'enregistrement', 'bourginon', 'piquent', 'vips', 'sejourner', 'modification', 'filandreux', 'kamal', 'giod', 'moccacino', 'surbooking', 'rat', 'annyed', 'exelentes', 'tendresse', 'restaurnt', 'exagerent', 'rectangulaires', 'plars', 'seme', 'soeurs', 'chaleuruex', 'rim', 'sugestions', 'appreciable', 'ct', 'brel', 'planchette', 'tapageurs', 'boullabaisse', 'morilles', 'notation', 'cupcakes', 'booooon', 'menzah1', 'chauteabriand', 'tunisiun', 'manezah', 'portsions', 'cappucino', 'reussit', 'amusez', 'cootkail', 'cruche', 'amen', 'cottoyant', 'hs', 'sempiternelles', 'coussous', 'gaie', 'laico', 'ponts', 'listes', 'bouillbaisse', 'balayer', 'perrsonnel', 'conviendra', 'serieux', 'alternance', 'nawal', 'commettant', 'generosite', 'radio', 'mette', 'dinard', 'evidante', 'cernay', 'jasmine', 'arlecchino', 'dote', 'sante', 'constants', 'bouler', 'nefaste', 'dietetique', 'imperial', 'endort', 'accompagnes', 'cruel', 'vances', 'pp', 'conso', 'processus', 'blabla', 'compromis', 'remets', 'ard', 'comande', 'masterchef', 'occasionne', 'dinatoires', 'impitoyables', 'niquel', 'fonctionnels', 'debourse', 'mentionnent', 'mngerez', 'lassi', 'mene', 'flammkuchen', 'corroborer', 'harceler', 'cheres', 'flambee', 'harponne', 'qddition', 'colorant', 'cervelas', 'upsidet', 'respet', 'puissant', 'bonjours', 'coter', 'cables', 'flammekuche', 'fonce', 'courge', 'perron', 'vendeur', 'enlevait', 'prioris', 'autoritarisme', 'panacota', 'pourcents', 'rompue', 'flatte', 'exercice', 'rappelais', 'ralentissez', 'entente', 'captage', 'ventait', 'echalottes', 'chantent', 'affames', 'souvenais', 'bteille', 'conviennent', 'consultant', 'delais', 'briani', 'occitanie', 'surs', 'utopia', 'mettions', 'enterrements', 'anodin', 'aguichent', 'neigeait', 'refresh', 'macdal', 'facilitent', 'guguss', 'baeckeoffe', 'frioule', 'laddition', 'bateleur', 'congeles', 'pilier', 'fumoir', 'gents', 'comptoire', 'avere', 'beaute', 'nombteux', 'mangue', 'nullissimmme', 'agrippait', 'pratiquent', 'straight', 'envisage', 'paraissant', 'atypiques', 'allures', 'sou', 'cassant', 'apprivoiser', 'tartelettes', 'rappeller', 'boum', 'ours', 'certificats', 'calvados', 'pensons', 'grognements', 'remboursement', 'interrogeons', 'suivait', 'amiable', 'ajjacinu', 'touffue', 'plaine', 'couvrent', 'allechant', 'attablons', 'coudes', 'posent', 'promocash', 'marcelin', 'airbnb', 'provinciale', 'relativiser', 'desservis', 'reconnait', 'sommaires', 'tirait', 'fonctionnel', 'mater', 'degueullasse', 'mobiles', 'musels', 'musles', 'pete', 'detendu', 'indiquait', 'wboissons', 'impersonnelle', 'renouvellent', 'represente', 'bruillant', 'volonte', 'directives', 'travailleurs', 'cafett', 'jouets', 'appetissant', 'inpersonnelle', 'aspirations', 'bourguignons', 'recois', 'etrangement', 'huitaine', 'demies', 'mixed', 'casiers', 'pusey', 'vesoul', 'motivez', 'partielle', 'brulette', 'exactes', 'denny', 'jagger', 'mick', 'brad', 'utilisation', 'verser', 'bruine', 'hamptonesques', 'captures', 'narines', 'flottante', 'capuchinho', 'tenace', 'porteur', 'patissier', 'danone', 'kiri', 'babybel', 'assourdissant', 'hallal', 'somon', 'aimeront', 'pourvoirs', 'alcohol', 'trempait', 'bussinesmen', 'snobinard', 'significativement', 'eloignement', 'bresaola', 'disparaissent', 'reviir', 'bourge', 'approvisionner', 'parfumeurs', 'logeaient', 'magazine', 'inexistence', 'mache', 'retse', 'haumbourger', 'sociaux', 'circulait', 'untour', 'graillons', 'corned', 'commentateurs', 'boreka', 'invariable', 'poivron', 'snakinig', 'additionnent', 'blacks', 'ressorti', 'raciste', 'lotissement', 'indifferent', 'circuits', 'prolonger', 'honete', 'mainte', 'advantatge', 'interdites', 'signaux', 'encontre', 'atomique', 'zucchini', 'surcomplet', 'africa', 'piazza', 'bougent', 'consort', 'empale', 'ambassade', 'qqun', 'selons', 'periph', 'boulevards', 'historiquemen', 'yogourt', 'frozen', 'administratie', 'ecrire', 'tritesse', 'rabelet', 'antant', 'etres', 'vraimeny', 'preniez', 'alourdir', 'distants', 'icily', 'elite', 'urbanisme', 'inepte', 'repture', 'inquisiteur', 'tailleur', 'renouveau', 'exploite', 'renouveller', 'mangera', 'inversions', 'mourrir', 'doive', 'affairaient', 'matronne', 'astronomiques', 'moulues', 'bicka', 'intelligentsia', 'acabit', 'ciao', 'importun', 'rigour', 'potgvelch', 'viendront', 'epargnez', 'facteur', 'douvres', 'produisent', 'schmick', 'mccormick', 'rives', 'conventionnels', 'apertifs', 'bordent', 'circus', 'nonobstant', 'overated', 'erratique', 'annuelles', 'gagnants', 'laborieux', 'barry', 'fonds', 'chinon', 'intrusive', 'relooking', 'bourre', 'longuet', 'recevra', 'brillent', 'parkings', 'perfectibles', 'scrupule', 'sauveur', 'amplement', 'acte', 'atours', 'score', 'perfectible', 'cart3s', 'flexibles', 'revenait', 'genoux', 'trouvables', 'intentions', 'thalie', 'kafta', 'maidon', 'cadeux', 'kabob', 'montreal', 'cachemire', 'brak', 'genereuse', 'asser', 'raissonable', 'jamai', 'taook', 'mandras', 'korahi', 'incessants', 'prouve', 'servoce', 'esr', 'uisine', 'pourytangt', 'prese', 'restyau', 'cajun', 'croisons', 'accompagnatrice', 'valenciennes', 'tendrete', 'influer', 'lebourgneuf', 'gessami', 'cnd', 'transcender', 'sauve', 'ratte', 'couly', 'overprice', 'donnais', 'bret', 'ships', 'simosas', 'potager', 'dahl', 'detroit', 'edmonton', 'stades', 'chauffages', 'lassant', 'incessantes', 'potch', 'couci', 'ecte', 'corr', 'serres', 'chicons', 'lool', 'ons', 'appoint', 'accidents', 'frimas', 'bluff', 'conaissance', 'pantois', 'patois', 'communes', 'maque', 'rigolaient', 'polchevesh', 'situations', 'excellen', 'reproduction', 'savourez', 'reservir', 'comportements', 'sensible', 'codes', 'charismatique', 'compares', 'reliefs', 'toussaint', 'bassin', 'mometnt', 'summernight', 'cellulaire', 'pertinent', 'disparates', 'produite', 'centralement', 'augmente', 'mourions', 'cup', 'motifs', 'pistolets', 'nantes', 'savourait', 'alliez', 'convaincant', 'specullos', 'elastiques', 'brule', 'english', 'dejeuners', 'arrfoid', 'corecrt', 'delaissons', 'arrosent', 'courbe', 'calories', 'etendu', 'ilfaut', 'tan', 'potjevlech', 'assassiner', 'aigre', 'dutheil', 'bne', 'nosu', 'wkend', 'pointent', 'masquant', 'ponctuel', 'potchevlech', 'retrouvera', 'tardifs', 'teinte', 'annimations', 'bourratif', 'chai', 'situee', 'inversons', 'vivent', 'concer', 'mager', 'flamands', 'flamandes', 'apparait', 'abbaye', 'bi', 'magnait', 'coluche', 'discourtoisie', 'hrs', 'decida', 'philipe', 'asparagi', 'agli', 'fromaggi', 'regression', 'bougonnant', 'catastrooooooophique', 'maso', 'travaillons', 'freedom', 'aznavour', 'ironie', 'vlan', 'repeter', 'davoir', 'decrire', 'collectionne', 'concepts', 'bouteil', 'souligne', 'alarmant', 'raplapla', 'publie', 'magistrale', 'absolulent', 'approximatives', 'cts', 'remue', 'solliciter', 'trains', 'lavage', 'frommage', 'ramage', 'plumage', 'nuire', 'bzeyed', 'escolpe', 'revendique', 'malaise', 'professionnallisme', 'humidite', 'dens', 'souffrir', 'tortue', 'contributeurs', 'blougi', 'inattendus', 'boulga', 'dakhlet', 'bajbouj', 'devinez', 'clinique', 'tamaris', 'che', 'volgare', 'cameriere', 'pessimo', 'paques', 'bandlieu', 'transcendants', 'inconnues', 'toursites', 'pieges', 'montmartre', 'operator', 'insatisfaisante', 'accroc', 'preso', 'degrader', 'insignifiante', 'corona', 'commis', 'vetustes', 'papiers', 'ventilo', 'liddl', 'silloner', 'conseillle', 'hsebhom', 'incompetent', 'ya9raw', 'sause', 'dal', 'ouvreuse', 'consommateurs', 'admins', 'conseill', 'francs', 'matrone', 'troquets', 'donnez', 'rapporte', 'servient', 'plutard', 'blanch', 'roboratifs', 'inmangable', 'beucoup', 'taverve', 'bruno', 'terraces', 'marguerita', 'poussons', 'affichette', 'italiani', 'gli', 'sucez', 'ahurissant', 'giro', 'jeton', 'douwiw', 'chopes', 'impaire', 'plaignait', 'larbins', 'rugueux', 'sourtout', 'disante', 'interrogation', 'traits', 'correspondu', 'marseillaises', 'schwepps', 'traverse', 'balance', 'interdisent', 'pouquoi', 'kiotori', 'complaisance', 'pietonnes', 'rebutent', 'multiplies', 'tourna', 'consistence', 'vantait', 'importuner', 'remontrances', 'consommiez', 'nhlh', 'composant', 'convenant', 'morties', 'redorera', 'blason', 'nomy', 'axelle', 'hyperclassique', 'aguiche', 'regardions', 'rallongent', 'camoufler', 'amazon', 'vacqueyras', 'asiatisque', 'universitaire', 'buanderie', 'grise', 'praticable', 'scelope', 'cheneau', 'usines', 'brac', 'auxquelles', 'inpropre', 'lambo', 'tendais', 'ena', 'mte3kom', 'nadhfou', 'fdhi7a', 'thazet', 'mass2ouleya', 'n7amelhom', 'de5el', 'boyaux', 'wra9i', 'perret', 'nbassehom', 'salkoha', 'd5alet', 'jboura', 'zeyed', 'klem', 'saben', 'matod5olech', 'y9ouloulou', 'lde5el', 'wra9ou', 'y5ali', 'yerja3', 'lkarhabtou', 'yemchi', 'servcio', 'allusions', 'pentagone', 'taureaux', 'corridas', 'fanas', 'gachant', 'mortelle', 'aimerai', 'brun', 'apparement', 'granuleuse', 'oralement', 'zut', 'naines', 'cage', 'aigres', 'douteusement', 'buibui', 'banir', 'lapierre', 'qch', 'dessicated', 'dentistes', 'cartonner', 'decision', 'should', 'tmanik', 'marguarita', 'placard', 'cler', 'entende', 'verdatre', 'abbord', 'baladons', 'varois', 'appli', 'reduc', 'cueillis', 'marathon', 'uhm', 'menacer', 'belhssan', 'ressentir', 'kicking', 'certifie', 'taudis', 'vvg', 'dissuadant', 'interdisant', 'peste', 'poitrine', 'verticalement', 'captive', 'raclettes', 'decheterie', 'overcookef', 'odieuse', 'bouillis', 'reverrons', 'regrettais', 'amenagee', 'inverse', 'reputee', 'celebre', 'contentes', 'rillette', 'soupant', 'aaa', 'racolent', 'demoiselles', 'ouilles', 'rigolait', 'trierweiler', 'conviviales', 'hortographe', 'consultation', 'perde', 'reflets', 'imcompetant', 'brasserai', 'jurent', 'dissons', 'intaille', 'ghalet', 'te3mels', 'ghaleb', 'buitoni', 'sabkha', 'yummmi', 'memoire', 'veritables', 'saussisson', 'disrespektful', 'moresque', 'vriller', 'amusent', 'pouur', 'caniculaire', 'limace', 'dissuasif', 'personnage', 'olala', 'jettent', 'fesses', 'relationnele', 'soutenable', 'martini', 'poires', 'marrer', 'voletant', 'vifs', 'ristournes', 'reprendra', 'crasseuse', 'plantons', 'doudoune', 'degoutant', 'torro', 'coutais', 'm2', 'esquiches', 'deplaisante', 'tablee', 'boycott', 'marques', 'traine', 'devenant', 'carpatio', 'improviser', 'ciseau', 'lingettes', 'chiante', 'pellicule', 'bizar', 'nenni', 'help', 'ramsay', 'gordon', 'cataclysme', 'cafart', 'boiseries', 'pistou', 'gardianne', 'sneakers', 'tkoul', 'amlin', 'trouv', 'alik', 'mzyaa', 'seaa', 'nestaneew', 'draj', 'kharej', 'kalbin', 'nec', 'wjouhom', 'vies', 'cameras', 'rivi', 'lamarque', 'snaker', 'lardon', 'percute', 'andouille', 'maneken', 'parmeggiana', 'laps', 'subissons', 'faillite', 'manquants', 'lettres', 'copie', 'direcement', 'assureur', 'prete', 'esperions', 'distribuer', 'florianonair', 'visibles', 'huchette', 'ruine', 'sprite', 'buket', 'gardais', 'arrangement', 'flanque', 'coincer', 'attrapant', 'importune', 'eviterai', 'repasser', 'trempent', 'craque', 'sociable', 'immengeable', 'frotter', 'ddemande', 'tagliattelle', 'rococo', 'couvrons', 'security', 'ressemblant', 'tonne', 'rampant', 'colles', 'accoudoirs', 'olalala', 'justification', 'fidels', 'proprieteres', 'slalomer', 'chewable', 'permets', 'ykhadmou', 'lie', 'emmasskhin', 'mahomch', 'professional', 'installant', 'bue', 'sols', 'troupeau', 'entasser', 'oublira', 'humilier', 'criait', 'claquait', 'friteuse', 'emballer', 'pressait', 'moch', 'tricheurs', 'woks', 'carbonisee', 'innommables', 'congele', 'sms', 'liquidateur', 'vires', 'adjudant', 'apresla', 'rhone', 'chevalet', 'moult', 'passais', 'batte', 'endormie', 'finies', 'nier', 'specifiant', 'thes', 'cassees', 'cuvette', 'kerthaa', 'promotionnelle', 'tachee', 'incruster', 'maroc', 'relances', 'carcasse', 'bezzaf', 'har', 'coques', 'renouvelle', 'terras', 'mastication', 'rejetaient', 'souciant', 'traitement', 'frustrant', 'repousser', 'faibli', 'ale', 'extasier', 'brisquetto', 'fornace', 'basculer', 'grimaces', 'transformation', 'resservi', 'poursuivait', 'gamart', 'jaw', 'intermittence', 'traitant', 'spectackle', 'samoussas', 'roboratif', 'inn', 'climatiseurs', 'excentrique', 'brassant', 'buveur', 'hammammett', 'facheux', 'gachis', 'calmants', 'ouvrait', 'viel', 'indisponsable', 'inclusives', 'simpose', 'rafraississement', 'cabarets', 'croyions', 'rythmes', 'melande', 'forfaits', 'clientsissus', 'annexes', 'paient', 'flamboyants', 'arbustes', 'upgrade', 'chek', 'accrochage', 'todo5louch', 'tenja7', 'avent', 'mdrrr', 'talons', 'chutes', 'click', 'exagerer', 'tayra', 'hahahha', 'onn', 'aal', 'na7iha', 'formuler', 'exigences', 'tabouret', 'quitteront', 'mazza', 'mtn', 'tbadel', 'tfata9', 'greenland', 'you7el', 'bandiya', 'frou5', 'enderoit', 'pickpocket', 'opterais', 'chimney', 'grrr', 'publication', 'garsssss', 'chelou', 'asquare', 'trauma', 'bagarres', 'ptn', 'aimebt', 'mahboula', 'mafar5a', 'ecrimer', 'sucreries', 'masa5', 'ma3netha', 'emchiw', 'nansahkom', 'mta7fen', 'metkhanfsin', 'anneversaire', 'butter', 'peanut', 'banettes', 'shnecks', 'decortion', 'noctambule', 'brouaha', 'engendre', 'resservies', 'contenus', 'parus', 'prixt', 'sodebo', 'laxistes', 'lambersart', 'dommageable', 'interruption', 'confondant', 'cabilleau', 'goujat', 'regardaient', 'consentir', 'scruter', 'amplitudes', 'nocturnes', 'retrournerai', 'industriellement', 'incourtournable', 'salvateur', 'majoritaire', 'endive', 'spaghettiservices', 'boulots', 'hun', 'rebrousser', 'arachides', 'soucoupe', 'lager', 'germain', 'dimmer', 'embarras', 'disparaitre', 'sembles', 'caricaturale', 'charnues', 'fricassee', 'puissance', 'paulo', 'immersion', 'messages', 'goghienne', 'aprecie', 'portiques', 'crypto', 'vestige', 'universellement', 'suffi', 'festivaliers', 'gohg', 'fusil', 'douze', 'faitout', 'parvis', 'ka', 'impressionne', 'sknon', 'desservir', 'filaments', 'corect', 'revisitez', 'potsch', 'partiels', 'changerai', 'potj', 'chosoir', 'bruyantes', 'pateuse', 'vant', 'speedes', 'paradoxalement', 'ichi', 'waterzoie', 'vigilante', 'rende', 'fadeur', 'pruneaux', 'potjeveelsch', 'reprochera', 'digestions', 'troll', 'agoraphobes', 'favorisent', 'refuge', 'var', 'cheri', 'natale', 'saladiers', 'disposez', 'hollande', 'gratte', 'concombres', 'uros', 'qualitative', 'folichonne', 'goomba', 'rasant', 'interpellant', 'bousculant', 'allers', 'tournons', 'parcontre', 'bulot', 'personnelement', 'courents', 'regionales', 'geante', 'manquantes', 'facheuse', 'gnocchi', 'banne', 'peffff', 'payements', 'continues', 'last', 'irrespectable', 'chicanait', 'lecher', 'mettait', 'assoient', 'accueillient', 'imitations', 'cuves', 'accumulant', 'stores', 'mortes', 'accompte', 'reclame', 'axe', 'rappelait', 'croirions', 'glandaient', 'prendront', 'intoxiquer', 'pbs', 'abrutis', 'morve', 'consultons', 'transportant', 'sopalin', 'rouleau', 'naivement', 'ceder', 'cadeu', 'pojr', 'avond', 'ka3ba', 'rapportaux', 'durcit', 'hormi', 'arpaguer', 'dehor', 'persuader', 'arrogante', 'con', 'noyaux', 'comparent', 'attennte', 'refasse', 'acceptaient', 'innocemment', 'naufrage', 'huileuses', 'delon', 'fies', 'vegas', 'potables', 'excusait', 'enfuis', 'coka', 'bruyamment', 'quelqconque', 'microondes', 'hotesses', 'attroce', 'privilegiant', 'publicitaire', 'emmner', 'allumette', 'endommager', 'vision', 'dautres', 'anecdote', 'noyer', 'occupants', 'malfaiteurs', 'usurpation', 'saints', 'jaxques', 'affolants', 'insigne', 'intestinale', 'apprendront', 'cesseront', 'racolleurs', 'prestement', 'contenance', 'bourgonoin', 'cartilages', 'streaming', 'craint', 'overwhelmed', 'renseignements', 'cons', 'mirobolants', 'galop', 'latex', 'jen', 'anarchie', 'sechage', 'dette', 'celebres', 'agressivement', 'virer', 'saoulant', 'sirha', 'reconstituer', 'commencez', 'herta', 'contribuez', 'enrichissement', 'qqs', 'tripo', 'hammam', 'banquiers', 'menhab', 'hut', 'qqc', 'sa8rounaaaaa', 'ghaliaaa', 'hia', 'plusc', 'campagnard', 'ranch', 'billionaire', 'supporte', 'omar', 'caverne', 'lma9rouna', 'tuerais', 'secondo', 'disenr', 'waaaaaaw', 'primo', 'moquait', 'impatient', 'pronto', 'imaginais', 'garantis', 'plug', 'concerts', 'arkhass', 'shilling', 'levant', 'frayer', 'tairais', 'podium', 'level9999', 'ykoun', 'y3ayef', 'diminiue', 'mieu', 'tkantira', 'diminue', 'ancool', 'finissait', 'waktha', 'kammoun', 'mnaffa5', 'bouscule', 'negocier', 'manar1', 'tellemet', 'med', 'pasa', 'selfies', 'biennnn', 'bninna', 'l3ejja', 'lakther', 'osai', 'khsssara', 'chants', 'visagiste', 'intervenu', 'rillons', 'dictateur', 'star', 'happee', 'tchti', 'eiros', 'aperols', 'diverti', 'lesquelles', 'dhi9', 'naifs', 'intensif', 'bonimenteur', 'fonctionnement', 'couvers', 'composants', 'oblier', 'reclamee', 'indiquee', 'insupportables', 'moisie', 'gales', 'oppose', 'limdina', 'cosmitos', 'inactifs', 'croquis', 'topkapi', 'soumou', 'pkk', 'ghaaaaliii', 'kaskrout', 'clueless', 'sadwich', 'musica', 'jmou3', 'yitlamo', 'euor', 'yesseeer', 'blassaa', 'bniin', 'lafayette', 'remettent', 'sarhane', 'pic', 'livrer', 'chocolaut', 'catastrohique', 'audience', 'croix', 'seuelement', 'kemounia', 'laid', 'classes', 'turamisu', 'cannelle', 'avaler', 'acceulle', 'remplacce', 'goutee', 'qoique', 'apperitif', 'retrouvons', 'restreints', 'testera', 'frigot', 'actives', 'mediterannienne', 'delices', 'cordiale', 'banquets', 'apte', 'comparaisons', 'centenaires', 'nourris', 'reaonable', 'eucalyptus', 'flatteurs', 'middle', 'lachez', 'sherif', 'surtou', 'rappprt', 'morgan', 'isabelle', 'garnit', 'grod', 'russelior', 'british', 'errants', 'aquaculture', 'prorio', 'interrompre', 'quiet', 'accueiller', 'karoui', 'compatriotes', 'iode', 'cuisinera', 'sonia', 'savoyard', 'variation', 'nespresso', 'souffert', 'acqueillante', 'wassem', 'recomande', 'conviale', 'exteriueur', 'dextrement', 'occurence', 'supportent', 'pastalover', 'peches', 'somt', 'delecieu', 'tortilla', 'wawwa', 'kebba', 'recommmende', 'girls', 'lagoulette', 'b7ar', 'a7sen', 'rochet', 'visiteront', 'sentiez', 'sportif', 'histoires', 'ryan', 'appartient', 'pam', 'dinahs', 'xxx', 'dawn', 'plasma', 'ligue', 'ombrager', 'brekki', 'splashworld', 'return', 'rovers', 'http', 'presonnel', 'ressemblais', 'boureks', 'intressante', 'cygale', 'judicieuses', 'actrices', 'surtoput', 'toufik', 'benchehida', 'solaria', 'dekikohhdtgeggsfqfsfss', 'voiyage', 'acroiyable', 'booon', 'chasseur', 'musiques', 'yassminne', 'saurait', 'sherazade', 'contextes', 'hijab', 'enlaidies', 'gracieuses', 'vaille', 'spetacle', 'prodiges', 'scenario', 'tambour', 'milieux', 'sensationnels', 'pizze', 'osier', 'boga', 'toutristes', 'sublimissime', 'noria', 'indulgent', 'transat', 'particulieres', 'paillotte', 'restaurantd', 'tb', 'boolywood', 'multinationale', 'appeciation', 'santini', 'agrandissements', 'coupures', 'incluses', 'parcimonie', 'agi', 'sil', 'realitee', 'ballets', 'augustin', 'choississez', 'punique', 'restaut', 'autorisent', 'qualites', 'palm', 'vivier', 'irez', 'barberrousse', 'capricieuse', 'lanterne', 'europeenne', 'nahrawess', 'thalasso', 'atochtones', 'meileures', 'full', 'funny', 'farid', 'mmmmm', 'detours', 'imite', 'mummm', 'folkloriques', 'lumieres', 'desolee', 'audace', 'shahrazed', 'magda', 'tournante', 'religions', 'inconnus', 'folklorique', 'kemias', 'antrer', 'frero', 'danceurs', 'endormes', 'bride', 'costem', 'thare', 'danseur', 'bellissaire', 'attaques', 'wise', 'serviront', 'restaurantnpoissons', 'reggae', 'felil', 'livri', 'sa7ni', 'kamaltech', 'creek', 'tropppppp', 'inconfortables', 'dossier', 'comfortable', 'tiptop', 'tahfouna', 'condensation', 'laouina', 'tachba3', 'zouz', 'thebblek', 'chweengum', 'meilleu', 'la3rab', 'msata', 'akel', 'blech', 'pourrit', 'feel', 'distributeurs', 'bravooo', 'paincake', 'y1', 'cuisiners', 'bravon', 'mfd', 'tghafa9', 'posters', 'maltraitance', 'actualiser', 'cabinets', 'ajuster', 'rool', 'icn', 'thai', 'bravooooooo', 'mask', 'chwayya', 'ye5dmou', 'yelzem', 'yet7assen', 'chiken', 'turques', 'yarhem', 'po', 'synchronisation', 'cream', 'closed', 'exelennte', 'absurde', 'kasset', 'kaas', 'kolchay', 'sii', 'jdr', 'zemnya', 'shaker', 'tunisens', 'cousine', 'qz', 'brouillant', 'jiggy', 'humbergers', 'ghrib', 'yafrah', 'djerba', 'ld', 'mmakher', 'sghyr', 'combo', 'hamadi', 'utilisez', 'len', 'dh3if', 'wa9teh', 'sbeeh', 'mahloula', 'tabda', 'bninaaa', 'lmekla', 'gentleman', 'toppp', 'appart', 'chouk', 'm3ebbi', 'mekenech', 'mawjoudin', 'tlabnehom', 'quesadillas', 'vallait', 'sfaxienne', 'meringue', 'acceptez', 'ambiantion', 'gt', 'exportateur', 'connaisseur', 'bine', 'aphrodite', 'biscus', 'summer', 'fresh', 'berger', 'goux', 'active', 'k3ada', 'mures', 'flexible', 'agencement', 'acceil', 'frini', 'foued', 'soudain', 'flemme', 'ppour', 'delecieux', 'room', 'regalez', 'admets', 'chesse', 'celia', 'ranim', 'gyoza', 'ramen', 'udon', 'touuuuuuuts', 'hygienne', 'gooooood', 'louzina', 'hypnotisante', 'scene', 'wooww', 'xdd', 'baaaah', 'hip', 'vinyle', 'chiill', 'yekhou', 'cha7met', 'fiha', 'jeni', 'insatiens', 'mexique', 'transporte', 'pionniers', 'composes', 'khatro', 'aala', 'depasse', 'downtown', 'waaaaaw', 'rallonges', 'tahrichas', 'quassedias', 'fav', 'ppppparfait', 'offrire', 'optimale', 'baver', 'aventures', 'wasila', 'sghyra', 'twalli', 'feragh', 'liveband', 'five', 'sicarios', 'jhin', 'shoot', 'persone', 'wrap', 'sweb3ek', 'wraha', 'takel', 'banna', 'mana7kilkomch', 'ya3mil', 'chantant', 'venoiserie', 'jadore', 'vibes', 'coctail', 'outside', 'zied', 'humburger', 'rapiiide', 'mileu', 'magnifiiiique', 'toboggan', 'recommandables', 'vlesch', 'blagueurs', 'conciliante', 'facettes', 'coueur', 'nordiques', 'stann', 'supporters', 'mines', 'musicales', 'colossaux', 'immanquable', 'colmmande', 'vibrer', 'decouvrire', 'mails', 'manifester', 'podjevelsh', 'croisement', 'paupiette', 'peryne', 'djamel', 'dignement', 'nombreuse', 'though', 'reprocherais', 'prenom', 'salim', 'sobres', 'fatiguer', 'lila', 'bruissement', 'pn', 'renoncer', 'animateurs', 'tends', 'appartiennent', 'also', 'get', 'usually', 'bodega', 'hitting', 'before', 'afficionados', 'traditional', 'fight', 'palce', 'consos', 'mythiques', 'waterzois', 'crouton', 'hamberger', 'tantine', 'tante', 'why', 'bouchots', 'furieuse', 'source', 'bavoir', 'bandes', 'largue', 'competent', 'dieppe', 'croiserons', 'poetschevel', 'chi', 'martiniquais', 'embuches', 'prometteuse', 'lilois', 'iconique', 'conventionnelles', 'jf', 'maroile', 'meringues', 'wallonne', 'flamand', 'tiques', 'phiphi', 'diverse', 'dany', 'morjito', 'personnalise', 'dequoi', 'redecouvert', 'dansent', 'jackson', 'lee', 'samuel', 'neveu', 'batiment', 'wiskoi', 'colada', 'pina', 'potjeveleech', 'chauffante', 'chtimi', 'craindre', 'anglaises', 'muscians', 'relations', 'morts', 'abriterait', 'gigi', 'ignorais', 'dinette', 'aprioris', 'peurs', 'bluffe', 'cochonnail', 'joil', 'lionel', 'amandine', 'confluence', 'cochonaile', 'vegetarian', 'doubles', 'soutien', 'sains', 'touve', 'vigan', 'veillant', 'alsaciens', 'edel', 'cheef', 'shpeatzle', 'carnivor', 'ribs', 'alternatifs', 'vendanges', 'spaetzle', 'rectification', 'sugestion', 'strasbourgeoise', 'modestie', 'environnant', 'surl', 'tirelire', 'mademoiselle', 'publies', 'gaver', 'elbow', 'landais', 'surprennant', 'bordelaise', 'evjf', 'enjeux', 'timide', 'causant', 'incorporant', 'fleurie', 'corail', 'externe', 'papon', 'durement', 'perdita', 'neil', 'anvers', 'sainement', 'pluvieuse', 'orteils', 'intimidant', 'peoplewatching', 'dominical', 'champagnes', 'surplus', 'tien', 'auberge', 'foitballistiquement', 'diligence', 'qualifications', 'bretagne', 'sucres', 'regales', 'florales', 'fustigent', 'associations', 'cieux', 'jordane', 'joanna', 'brossons', 'coucheurs', 'recommendation', 'power', 'flowers', 'farcir', 'bayonne', 'emmanuel', 'texte', 'accras', 'bourraches', 'capucine', 'agrementer', 'invente', 'contraint', 'rejoind', 'monsieurien', 'monent', 'gabriel', 'alicia', 'taiwo', 'nourrissantes', 'archipleine', 'servez', 'romain', 'nitre', 'faisaient', 'bises', 'chtiburger', 'solides', 'retournions', 'especial', 'exorbitantes', 'gilles', 'satisfera', 'miss', 'assouvir', 'chtit', 'planet', 'echallote', 'plaisie', 'converser', 'orageuses', 'averses', 'jade', 'potchevlesche', 'girondins', 'acccueuil', 'conviction', 'gamelles', 'urinoirs', 'lonely', 'cafouillages', 'tenais', 'etape', 'jonhatan', 'pascale', 'carbonnate', 'margot', 'vosgiens', 'courette', 'communicative', 'ene', 'seilian', 'pesant', 'produisant', 'gravlax', 'trrop', 'donnerait', 'baissant', 'repricher', 'miass', 'moine', 'revendra', 'gravela', 'lactose', 'souvenait', 'comprenait', 'horderves', 'chaume', 'forniture', 'moderate', 'celestia', 'dnr', 'gelato', 'almond', 'jungle', 'emma', 'testons', 'manquerait', 'matinez', 'elton', 'aurores', 'portugal', 'yout', 'ancore', 'chefe', 'braimi', 'santos', 'acceuillit', 'europeens', 'um', 'excelentes', 'animatris', 'pafait', 'dir', 'zyed', 'lesprix', 'diffusion', 'bowling', 'scrabs', 'surment', 'saviez', 'saluons', 'attendrons', 'lla', 'facturee', 'commandee', 'falle', 'ente', 'prenions', 'nota', 'loire', 'clos', 'troubadour', 'ageable', 'exensible', 'marmandaise', 'neux', 'eg', 'flammandes', 'volumineuse', 'particuliers', 'foisonnante', 'hoo', 'observez', 'lattente', 'bouillant', 'innovant', 'psychologue', 'polies', 'commensaux', 'causette', 'pousses', 'dion', 'pratiquant', 'boxs', 'laccueuil', 'bg', 'mdi', 'camille', 'desuite', 'solistes', 'potjovleesch', 'appellez', 'occupant', 'regarnies', 'rrstau', 'theme', 'rapplrt', 'encablures', 'lais', 'dait', 'oetits', 'sebastien', 'savoure', 'partial', 'partiel', 'galinette', 'refrequente', 'regionale', 'cale', 'poj', 'omnia', 'boue', 'hesitant', 'chaques', 'licques', 'pintade', 'sustenter', 'initiative', 'remercient', 'gargantuesques', 'aggreable', 'lillle', 'bc', 'potschlevlech', 'aop', 'remplissent', 'souhaiterais', 'pelligrino', 'location', 'coton', 'tait', 'blageure', 'rigolant', 'lil', 'mooooonde', 'moulte', 'aventurez', 'dilligent', 'egailler', 'rie', 'bisoux', 'bigup', 'urinoire', 'crayon', 'fleish', 'positano', 'a3des', 'gonna', 'jawwou', 'm3allem', 'chabbouba', 'uno', 'ferrero', 'lablabi', 'kabab', 'calzoni', 'hattab', 'leblebi', 'kabroulna', 'maklouub', 'bniiine', 'mte3hom', 'lmilkshake', 'da5el', 'chey7a', 'meuilleurs', 'l1', 'bianca', 'cross', 'regaaaaaaal', 'suffoquer', 'dakhaltek', 'hani', 'yseybou', 'fermant', 'bresoala', 'buerger', 'playliste', 'parfins', 'perfecto', 'chaleruex', 'quittant', 'douja', 'interactifs', 'tablette', 'safsaf', 'bambalouni', 'dwich', 'aromes', 'ma3rouf', 'hasra', 'remplace', 'bibi', 'espaaace', 'rencard', 'houseet', 'feedback', 'bocadios', 'carmine', 'livraisons', 'alloco', 'tiep', 'georges', 'qt', 'filtrer', 'ping', 'baissez', 'far', 'bambou', 'pekinoise', 'kaizer', 'rnb', 'bretonnes', 'plazza', 'palladium', 'estimer', 'boeuffy', 'lion', 'baya', 'sahria', 'favorites', 'num', 'phenomenal', 'adooooorent', 'gentills', 'epice', 'syrienne', 'ive', 'carmel', 'journer', 'sabdwiches', 'marra', 'faudrai', 'mzeyena', 'yest7a99', 'sidibou', 'clostrophobe', 'dupe', 'debit', 'miaaaaam', 'nelkel', 'den', 'menaadha', 'chocovore', 'diffusant', 'hhhhhh', 'hiroshima', 'pinacolada', 'bizerte', 'muffins', 'aida', 'mahdia', 'underground', 'bibliotheque', 'ferions', 'bniiiiiiiiiiiiiin', 'worth', 'pannizas', 'marshmallows', 'panninis', 'nchlh', 'luxurieux', 'troooooop', 'maks', 'kaftejk', 'tayyara', 'soum', 'ndhafa', 'sayebtrottoir', 'alaise', 'mocaccino', 'prendte', 'karouss', 'yabon', 'karous', 'datte', 'latino', 'fooort', 'swiss', 'dirty', 'tfatta9', 'hastag', 'crunchy', 'bornes', 'dela', 'detail', 'lodge', 'seizieme', 'cultiver', 'dfruits', 'supreme', 'prive', 'brahim', 'yet3aba', 'walla', 'nej7aa', 'chaabia', 'geule', 'entieres', 'generations', 'fou9', 'ouiiiiii', 'coool', 'terrains', 'decorfon', 'update', 'attele', 'sangour', 'laits', 'friends', 'beer', 'perfect', 'int', 'bkhouk', 'effra7', 'jeya', 'farmer', 'cullinaire', 'pizzza', 'cosmito', 'fidelise', 'immm', 'trilia', 'teavana', 'yabta', 'mli7', 'promos', 'chimiques', 'inventer', 'klitha', 'amma', 'tfatek', 'makrouna', 'metaarfouhouch', 'mezelt', 'khssara', 'kotlou', 'reussite', 'gotta', 'distractions', 'ezzabrata', 'amin', 'working', 'revise', 'ghalia', 'qye', 'institute', 'founder', 'cohorte', 'esa7el', 'nesmet', 'campagnards', 'efra7', 'bretelle', 'repprocher', 'lo5rin', 'leblayes', 'picine', 'houssein', 'shops', 'crock', 'karaoke', 'laaroussi', 'fewa7', 'yessser', 'l9inech', 'playstation', 'mugs', 'chiller', 'rightfully', 'fend', 'dallas', 'tasty', 'ri7a', 'thama', 'lehi', 'no93dou', 'chapatu', 'tawla', 'kharjelna', 'mzaytin', 'sghir', 'professionnellement', 'le7met', 'kayess', 'fadlek', 'mlus', 'mchwia', 'batikh', 'lives', 'bouffre', 'illyes', 'cherches', 'ba7dhena', 'tarj3ou', 'hedhi', 'djej', 'rbo3', 'variants', 'caruso', 'concombre', 'rumba', 'orea', 'shodai', 'operation', 'vyndee', 'lmra', 'mahleha', 'maccha', 'interactif', 'energie', 'provoque', 'rodeo', 'bananes', 'magnifiqye', 'puique', 'ptetr', 'acceul', 'led', 'bossais', 'es7our', 'ayamet', 'jalterne', 'susah', 'servicr', 'waiting', 'rucca', 'vogue', 'gambour', 'adequats', 'pix', 'immbattable', 'acceuillante', 'ingrediants', 'champignions', 'khadhra', 'gourmandises', 'o6', 'cultures', 'nutelle', 'lkif', 'ya3mel', 'mary', 'mimmy', 'honore', 'fudge', 'lsarf', 'tension', 'macchiatos', 'cha3bi', 'etinnement', 'remuer', 'gelant', 'intimement', 'far7ou', 'tootoooos', 'yaller', 'speranza', 'laprem', 'tentent', 'urban', 'inesss', 'treatment', 'climat', 'peesonnes', 'satsifaite', 'artisans', 'fatales', 'khouja', 'bulbaba', 'enseignes', 'uzina', 'scoobidou', 'plantages', 'windows', 'baristas', 'presto', 'adoree', 'khaldoun', 'ibn', 'omrane', 'meilleuuuuur', 'osbene', 'vind', 'woolf', 'yehdikom', 'rabbi', 'papardelle', 'nouri', 'personnages', 'far3oun', 'issam', 'm3amra', 'seraine', 'maqloubs', 'maqloub', 'entrent', 'accueilllant', 'fra7', 'akawaka', 'contestation', 'guys', 'monopolisent', 'ila', 'plausible', 'background', 'coffeeshop', 'faysel', 'mem', 'detendre', 'rocking', 'cereales', 'workshops', 'tags', 'tunisia', 'memorable', 'tapais', 'asiat', 'adoucies', 'justement', 'suchis', 'admirable', 'normals', 'superficie', 'dejuner', 'preparent', 'abandante', 'consistents', 'eddawaakh', 'orignial', 'nchalah', 'nerjaalou', 'shan', 'ella7dha', 'saba', 'ywas3ou', 'ivoire', 'yassa', 'jame3', 'bisouuuuuus', 'proposaient', 'puanesca', 'agiles', 'rapido', 'investir', 'impssible', 'na3mel', 'belhom', 'george', 'thabel', 'ma3roufa', 'tkoun', 'tist7a9', 'liblassa', 'servialble', 'impaccable', 'toffee', 'trouverait', 'tinja7', 'colombien', 'slades', 'barchaaaaa', 'andi', 'ia', 'soghra', 'cornets', 'pmf', 'child', 'destiny', 'britney', 'tupac', 'fairais', 'cooool', 'sky', 'kouneffa', 'zlebya', 'm5arek', 'pictures', 'biais', 'exellemt', 'tonata', 'low', 'tal9a', 'totleb', 'pizzaa', 'ftira', 'notr', 'vesite', 'tievana', 'aparement', 'maj', 'soyer', 'mesbah', 'deteste', 'naaref', 'naarach', 'newyorkaise', 'juteuse', 'amir', 'khnefiss', 'bruillante', 'ampleur', 'createurs', 'deals', 'diviser', 'waffle', 'hutte', 'deserved', 'behin', 'arrange', 'keens', 'ar', 'to5ma', 'dieri', 'thursday', 'berguer', 'posey', 'supper', 'jidan', 'momte33', 'durand', 'bilha9', 'arrondir', 'dembele', 'really', 'vocaliste', 'nal9a', 'netfarej', 'mriguel', 'ajoutant', 'concepte', 'speciality', 'malo', 'omrou', 'leska', 'lahkika', 'honnete', 'jedida', 'zebda', 'yhotou', 'baaed', 'petir', 'aalekher', 'bader', 'sa7fa', 'maken', 'baathha', 'anniv', 'frederic', 'beans', 'silencieux', 'bruch', 'fique', 'gni', 'warm', 'satifaisant', 'chaussettes', 'culturels', 'clic', 'khedma', 'mzayta', 'complainte', 'ecouteurs', 'starbucks', 'aand', 'tooopppp', 'distincts', 'passionnant', 'poppers', 'cc', 'ta3', 'kiffe', 'hyety', 'dho9tou', 'metal', 'karaokes', 'philly', 'bartista', 'tghaded', 'maa', 'tetaaba', 'ka3da', 'manech', 'peronnel', 'bravoo', 'frapuccino', 'jme3it', 'magnifiquee', 'exptique', 'contusion', 'rhyme', 'cupcake', 'delcieuse', 'boukom', 'mexicano', 'comporter', 'urgente', 'haraa', 'batata', 'mousseline', 'fruitella', 'ramadanesques', 'maabia', 'amaaan', 'manahkiw', 'menghir', 'filme', 'tkobiss', 'tjaltime', 'maffammch', 'jupe', 'crousty', 'tounsey', 'danouni', 'hbib', 'deeeeees', 'nebil', 'ap', 'machwiya', 'iced', 'space', 'coworking', 'gratins', 'pretit', 'supportez', 'titoss', 'chenwa', 'moncef', 'annee', 'sazzas', 'bilel', 'centrifuge', 'culturellement', 'jarbouh', 'bekri', 'tji', 'hhhhh', 'y5awfou', 'sterling', 'suuuuperr', 'djs', 'momo', 'school', 'cosmoplite', 'sahbi', 'ndhiif', 'yetsama', 'fibeli', 'pk', 'pfe', 'anmbiance', 'bardoo', 'normll', 'm9louuub', 'gouffres', 'stp', 'moods', 'kamouniyet', 'siffet', 'ina', 'uz', 'syriennes', 'sahreya', 'mb3ad', 'boucle', 'riles', 'limitee', 'vraiiiment', 'scalop', 'tbalfit', 'walet', 'belahi', 'andkom', 'klitou', 'jben', 'passera', 'warda', 'everr', 'classieux', 'carpacho', 'buger', 'inhabituels', 'parasites', 'sutout', 'apreme', 'yanjah', 'espaceux', 'roll', 'inratables', 'zincholic', 'divertissantes', 'remaquante', 'deeeeeliiiiiicieeeeeeuuuuuuuuuuuux', 'tekel', 'okhra', 'metfarkssou', 'meghir', 'favorite', 'mardis', 'pleaaaase', 'voudrai', 'bniiiina', 'meklaa', 'suuper', 'chey', 'jee', 'boring', 'congelo', 'cie', 'maychabba3chhh', 'camarades', 'fain', 'troup', 'vapoter', 'vapoteur', 'kassus', 'zeda', 'bniiin', 'hob', 'legere', 'interessants', 'symathique', 'exceptionals', 'wedges', 'potato', 'johns', 'adaptable', 'norda', 'souhir', 'christian', 'hasilou', 'aadeya', 'ma39oul', 'respectueuse', 'matinale', 'occuperont', 'lafayett', 'maychabba3ch', 'dan', 'zedou', 'anyway', 'capri', 'yummyyyyy', 'los', 'salopard', 'tresbon', 'ciabatta', 'chinese', 'violet', 'yawm', 'jappouni', 'kifech', 'palmiers', 'ko', 'puissante', 'tonno', 'bninaaaa', 'sumgs', 'matendemch', 'jarbou', 'tkamlou', 'bessif', 'tekhou', 'machiatto', 'soumha', 'prestigieuses', 'chique', 'durer', 'burgeurs', 'compagnarde', 'moy', 'smouuuuthies', 'ouuuuf', 'frango', 'danoise', 'enregistre', 'friendly', 'tayraa', 'srtt', 'fessif', 'dailleurs', 'chneya', 'manaarafch', 'bidha', 'wonder', 'esmha', 'haifa', 'hanen', 'revisterai', 'bennaaaa', 'fondants', 'abann', 'waffles', 'sumpas', 'norvegienne', 'scandinave', 'delicieuuuuux', 'ingreidiants', 'conforable', 'nansa7kom', 'tzanzin', 'youm', 'louta', 'mte3ou', 'adoore', 'braavo', 'ameliorent', 'reductions', 'raaport', 'suuuuuuuper', 'ume', 'torino', 'entra', 'amjed', 'jappnaise', 'oeut', 'interessent', 'cocher', 'beouf', 'qux', 'sallon', 'yalatiiif', 'chichaa', 'hypersatisfaite', 'manchester', 'negative', 'tabourets', 'cossus', 'cente', 'atabler', 'uniforme', 'sesames', 'filigrane', 'gagnaient', 'bijouterie', 'hospitaliers', 'artisanaux', 'agrable', 'nasreen', 'valoir', 'ergoter', 'sachsenhausen', 'alt', 'conscients', 'arabes', 'terrrasse', 'theasalon', 'abricotiers', 'medenia', 'monstrueuse', 'futile', 'bouvin', 'vivaldi', 'emplacements', 'mandat', 'nectaire', 'makram', 'prestataire', 'auusi', 'funs', 'flashy', 'novateur', 'ovni', 'tagliata', 'hambougers', 'fourneaux', 'minutieusement', 'hambouger', 'bugers', 'gourmandise', 'smoking', 'depardieu', 'hamburgeurs', 'dorloter', 'contributeur', 'meres', 'rouzata', 'enivrant', 'constructions', 'elgance', 'mojitooo', 'cesserai', 'tradionnel', 'zgougou', 'renouvellement', 'becs', 'hamza', 'uun', 'www', 'abricot', 'alesco', 'adoooore', 'charlant', 'tripodvisor', 'pianiste', 'hourra', 'hssou', 'riahi', 'souvenus', 'amna', 'desservie', 'joyaux', 'warmfull', 'maitred', 'essaraya', 'dream', 'aimee', 'entrepris', 'bookins', 'calibre', 'sympathise', 'rafiinee', 'toc', 'regions', 'balouza', 'zrigua', 'discrete', 'admirateurs', 'agreables', 'fraternel', 'kn', 'waouuuuh', 'cart', 'belouza', 'eatit', 'ramadamesques', 'ettrouk', 'bouba', 'arabomauresque', 'control', 'tripe', 'osbane', 'convial', 'majique', 'andalouse', 'acompagne', 'damis', 'rencontrez', 'galeries', 'verdoyant', 'building', 'essentielles', 'tunisiennne', 'transformant', 'amoindri', 'progressive', 'funghi', 'colucci', 'lucas', 'tiramissu', 'rapprochent', 'voeux', 'saussi', 'pesonnel', 'gracie', 'riviera', 'absoulument', 'porcini', 'd40', 'assaggiare', 'assolutamente', 'dovete', 'autorisation', 'coqui', 'accalmie', 'maalouf', 'sainte', 'rampes', 'fontaines', 'adequat', 'insolites', 'berluscni', 'rebel', 'liec', 'bourrata', 'volets', 'recup', 'rassasiante', 'qualit', 'digestive', 'gigantesques', 'residensiel', 'kudos', 'agreabke', 'salado', 'plates', 'reference', 'platine', 'doubt', 'synonymes', 'pleusieurs', 'bonnnnnnnn', 'gardera', 'zinkalouni', 'munir', 'funduq', 'submerge', 'serein', 'imaginerait', 'ramdhan', 'tunus', 'bellucci', 'garanties', 'delicieuces', 'tune', 'imonde', 'sereine', 'montage', 'fondantes', 'buns', 'submergent', 'zinkoholic', 'indiscutablement', 'queu', 'discute', 'bravos', 'modifications', 'maima', 'combine', 'stuc', 'frises', 'sas', 'squifas', 'anienne', 'diamant', 'luth', 'remplissez', 'adly', 'rachidia', 'bourgeoisie', 'embience', 'savamment', 'parachuter', 'somnelier', 'arbie', 'murales', 'tuiles', 'traditionnzlle', 'instrument', 'marbres', 'siginifie', 'colonnes', 'embomme', 'jouissif', 'vaiselle', 'choisirais', 'balcons', 'noud', 'artisanales', 'avancez', 'raffines', 'professionet', 'contenue', 'siculants', 'merlan', 'waouuuh', 'invraisemblable', 'trucider', 'grimpent', 'rpfitant', 'musee', 'decore', 'aantvant', 'soutiants', 'virtuose', 'cythariste', 'racines', 'differemment', 'fabricante', 'desser', 'charmer', 'rigolade', 'officielle', 'beylicales', 'gdr', 'retouches', 'chatouille', 'bourgeoises', 'djellaba', 'nougatine', 'amoins', 'supprimer', 'redevenir', 'capres', 'moutefetihat', 'envoutant', 'prouesse', 'maitrise', 'heloua', 'marka', 'proffesionnel', 'aristocratie', 'ecellent', 'finement', 'tarder', 'possedaient', 'belliquale', 'luxieux', 'dss', 'copies', 'sfaxiens', 'meetings', 'surtant', 'aboslument', 'temple', 'epoustouflant', 'mechwiya', 'meddina', 'cadra', 'tunsie', 'visant', 'peintes', 'faiences', 'malveillant', 'architectural', 'warka', 'obtenue', 'ferveur', 'briwette', 'mechwia', 'poelon', 'egypte', 'etages', 'reperer', 'renseignez', 'houlette', 'adaptant', 'tadjine', 'kaak', 'vertiges', 'tunisoi', 'capo', 'lo', 'vito', 'certificat', 'bouhadra', 'accros', 'recueillir', 'souraints', 'enmplacement', 'percevoir', 'fondok', 'gammart', 'rivalise', 'fortuitement', 'bricka', 'cousous', 'excelentte', 'sirotant', 'terasses', 'detente', 'ast', 'trees', 'ily', 'radios', 'xv', 'surpis', 'felfel', 'topppppo', 'felicite', 'bo', 'aprrcuets', 'risquer', 'dde', 'lf', 'fresques', 'provision', 'pastilla', 'xviii', 'tunisiose', 'coeurs', 'parlez', 'chuuut', 'quantitatifs', 'autenthique', 'configuration', 'kousous', 'porche', 'tunsiien', 'kanoun', 'renoue', 'tou', 'lemplacement', 'difficiledese', 'inevitable', 'occidentalisent', 'petis', 'immergera', 'michal', 'solde', 'rommance', 'moulin', 'posy', 'approx', 'intelligent', 'ryadh', 'rareness', 'utilisateur', 'ppl', 'residentiel', 'arbitrage', 'carrelage', 'strings', 'sp', 'katvi', 'belvedere', 'stack', 'spicier', 'lancent', 'utilisables', 'statut', 'ez', 'sweet', 'thete', 'oreillers', 'vibey', 'miliciens', 'figurent', 'traki', 'cachent', 'magiqueeee', 'hospitalite', 'constitants', 'mosquee', 'mbaret', 'soigne', 'stambali', 'mrabet', 'couvertes', 'sacoute', 'trouk', 'gener', 'pruce', 'asdi', 'princess', 'prodigieux', 'conforte', 'etudiants', 'uppercuts', 'poings', 'limaces', 'mythe', 'courtoit', 'gratifier', 'infects', 'pensable', 'coktail', 'bourgugnon', 'orignaux', 'ignobles', 'tais', 'circonspection', 'attentat', 'frankfurter', 'revenais', 'minarets', 'hammouda', 'chiffons', 'silico', 'tunna', 'staf', 'qualie', 'flattent', 'toujourd', 'sagit', 'gargotes', 'palets', 'ravivent', 'repus', 'kitchsissime', 'rompu', 'altesse', 'eblouis', 'porcelaine', 'authencite', 'passionnees', 'ancestrales', 'medfouna', 'typiquements', 'diplomat', 'bent', 'consistantes', 'kchok', 'minutie', 'bouabid', 'propitiatoire', 'acceullis', 'magifique', 'luthiste', 'beycal', 'sentiront', 'oreilles', 'sensuelle', 'souhaitable', 'kchouk', 'gentelmen', 'synonyme', 'nabil', 'stimule', 'partaitement', 'descendance', 'climaitisation', 'touches', 'aid', 'coucha', 'accuelli', 'imperativement', 'fayette', 'cuissot', 'refroidissent', 'contigu', 'attarderai', 'entrouvrir', 'aute', 'couverture', 'suintait', 'fraude', 'policier', 'institutions', 'mesdames', 'meal', 'devienne', 'lache', 'atrape', 'compassion', 'traduction', 'invitez', 'escland', 'enguirlander', 'rigoles', 'assus', 'patrin', 'consultations', 'paraissent', 'porcherie', 'impossibles', 'respirent', 'inconsistants', 'rassit', 'dangereuse', 'ecouter', 'viendrait', 'higienne', 'cassez', 'trouer', 'fabriquent', 'ausun', 'chanitlly', 'basta', 'procedure', 'adressent', 'robotique', 'frise', 'attarderais', 'indiquerait', 'bil', 'yemchiw', 'couvercles', 'rajouterai', 'empreintes', 'laughing', 'raclete', 'bofff', 'donnes', 'ustensiles', 'louches', 'saletees', 'microbes', 'transmettent', 'alertes', 'maintiens', 'nigaud', 'be9i', 'mahdaoui', 'fredo', 'engageons', 'cheff', 'sprintent', 'intempestif', 'succomber', 'brouillante', 'internes', 'pfff', 'leila', 'quoisi', 'acause', 'casses', 'avantageusement', 'remplacerait', 'imputable', 'pintes', 'fervent', 'semblez', 'elwalima', 'inventent', 'jugent', 'trimbale', 'nuullll', 'flics', 'view', 'prets', 'brucciu', 'cantina', 'intervention', 'rideau', 'qvec', 'atch', 'chilien', 'ummmm', 'lotfi', 'savary', 'alain', 'autocollant', 'princes', 'qua', 'bouttargue', 'tees', 'cliens', 'lemon', 'carpacco', 'sggestions', 'interssante', 'shadrapa', 'sorts', 'equivaut', 'californie', 'bellahssen', 'firma', 'gerants', 'cremeux', 'ignorez', 'ide', 'horloge', 'spartiate', 'impecc', 'punaise', 'sautees', 'moderes', 'complzte', 'nz', 'chances', 'boukha', 'adequation', 'bossent', 'bleuffant', 'sortirez', 'hyperprofessionnels', 'vigile', 'peinte', 'eccellente', 'expats', 'saladier', 'bernaise', 'tree', 'envier', 'retoune', 'passa', 'aldente', 'variiee', 'ssur', 'estivales', 'buen', 'voilla', 'ficelle', 'vigneronne', 'mollet', 'confidentielle', 'restarant', 'conventionnelle', 'marinara', 'everytimes', 'ennasar', 'italinne', 'fiorentina', 'instants', 'chianti', 'marco', 'formages', 'nieme', 'interressante', 'jaque', 'rossigni', 'veranda', 'engageants', 'convaincs', 'cacophonie', 'businessmen', 'lace', 'consacrer', 'calorifiques', 'limitant', 'eamateur', 'retaurnant', 'crumble', 'pompeux', 'care', 'canards', 'nommerais', 'serviec', 'post', 'bravoooo', 'faouzi', 'colonial', 'ardent', 'abondent', 'sombres', 'descends', 'hollywood', 'whiped', 'douillette', 'conduira', 'muestra', 'hammour', 'ceviche', 'liverpool', 'jaures', 'attaturk', 'pneus', 'croiserez', 'grantit', 'lattention', 'mias', 'utiles', 'habitation', 'ches', 'tibarine', 'thons', 'cdre', 'waliman', 'elwalina', 'arvor', 'bise', 'beldi', 'fatr', 'chakkan', 'dynastie', 'apercu', 'maitresse', 'informel', 'dtu', 'lamine', 'presentado', 'incorrectes', 'qualiyu', 'dorada', 'directions', 'paniers', 'straigth', 'wipped', 'expensiere', 'tares', 'receptionniste', 'grenade', 'fleuris', 'decouvertes', 'interessante', 'incommensurable', 'sorra', 'national', 'saucer', 'legees', 'quadre', 'chirac', 'acrobaties', 'innovatrice', 'perse', 'fresque', 'tradittionel', 'tunusiens', 'lottes', 'preference', 'approvisionne', 'vigilance', 'avanue', 'posson', 'intimecet', 'exclus', 'paela', 'sadri', 'commetciaux', 'insonorisation', 'ascenceur', 'feraient', 'artistiquement', 'ceintures', 'attachez', 'alsacien', 'innatendue', 'transit', 'conseillers', 'affairs', 'papis', 'armada', 'troupes', 'about', 'write', 'nothing', 'addresses', 'atmosphereq', 'anosteke', 'potschevleesch', 'boreale', 'robuste', 'cible', 'roulettes', 'victor', 'dus', 'deeeelicious', 'fuel', 'glacee', 'houston', 'jne', 'emploi', 'allouer', 'douceurs', 'minicrevettes', 'robe', 'root', 'philip', 'liberer', 'gamble', 'versa', 'folies', 'soldes', 'occasionnellement', 'routes', 'ty', 'interactions', 'chirocree', 'raz', 'liqueur', 'foultitudes', 'quatres', 'cadet', 'mariniaires', 'hawaiien', 'cresson', 'rassasient', 'calais', 'construite', 'optimal', 'chaufferette', 'vingt', 'dr', 'populos', 'rapidos', 'vitres', 'sensationnelle', 'daiquiri', 'gougere', 'douane', 'lointain', 'nola', 'panoramiques', 'asseyez', 'hindshank', 'concorde', 'ringardes', 'palladienne', 'citerne', 'taco', 'greens', 'taste', 'linge', 'peppery', 'phyllo', 'alfredo', 'voguant', 'regardait', 'accommandant', 'lun', 'edge', 'cosmo', 'chaos', 'variations', 'peccorino', 'rouquet', 'dirigez', 'plafonds', 'grecque', 'venteuse', 'hordes', 'levi', 'carnaval', 'centrales', 'chrome', 'cargos', 'remorqueurs', 'pilotes', 'crab', 'flanquent', 'benidictines', 'tiendrai', 'swooning', 'antenne', 'hilton', 'tipyque', 'reviendras', 'bonna', 'flandre', 'rigoureux', 'conga', 'jimy', 'lebouhris', 'escapades', 'volontier', 'dort', 'jadoore', 'terminait', 'lewin', 'onl', 'reviendronsmerci', 'avecson', 'favorisant', 'satisfacton', 'nocture', 'onne', 'ers', 'anhui', 'mastoc', 'sympha', 'venaient', 'matinee', 'vexation', 'synchrone', 'nourri', 'mimolette', 'requinquent', 'avouerais', 'retissante', 'cabre', 'garantira', 'faires', 'lolo', 'plombe', 'roue', 'performante', 'lutins', 'individuel', 'grises', 'phillippe', 'alimentaires', 'allergies', 'rapideme', 'kevine', 'retiennent', 'next', 'chicote', 'lillr', 'weelsh', 'escellent', 'amls', 'recommaber', 'voci', 'couches', 'fuites', 'tresrapide', 'indusctrie', 'tournoi', 'inoxydable', 'chan', 'jackie', 'future', 'synchro', 'polcheveich', 'mordue', 'cinemas', 'commences', 'arosee', 'pts', 'agenda', 'transcendent', 'welsches', 'cahouettes', 'propice', 'urbaine', 'galles', 'amorcer', 'laissa', 'septante', 'parigo', 'pleinne', 'fromagerie', 'siecle', 'graisseuses', 'bernard', 'martine', 'cain', 'karine', 'tony', 'morhade', 'michou', 'fps', 'poker', 'servives', 'embarcadeur', 'orginale', 'bruiyant', 'toscane', 'affichaient', 'chaudrer', 'goulu', 'stationnent', 'maginfique', 'evenements', 'man', 'a1', 'feryy', 'toys', 'fisch', 'invitante', 'coulants', 'felicitation', 'lydia', 'prompt', 'diligent', 'drink', 'glissants', 'horizon', 'bmw54', 'bruler', 'tao', 'loto', 'there', 'necessary', 'delight', 'effective', 'confites', 'embarque', 'escellente', 'amenez', 'menace', 'commendant', 'day1', 'boxing', 'montante', 'diplomate', 'fenestration', 'brocoli', 'neiges', 'chleureux', 'ameliore', 'morce', 'lilliputiennes', 'representatifs', 'choquee', 'conseillee', 'tournions', 'pakistanaise', 'tandori', 'apportera', 'ralentis', 'aperifif', 'inconditionnelle', 'rajahstan', 'baux', 'marronniers', 'fanatique', 'regrettez', 'reconnais', 'gewurstraminer', 'flammekueche', 'permettrais', 'flammekuesche', 'raifort', 'spetzle', 'hopla', 'faller', 'dieux', 'jarfrezi', 'logeais', 'promouvoir', 'tards', 'boot', 'cheteumi', 'timis', 'savourerez', 'nov', 'cerainement', 'boutentrain', 'grandement', 'cordialement', 'identifier', 'ommes', 'cofee', 'rondes', 'references', 'samossas', 'multiple', 'nourrissant', 'mecontent', 'montent', 'poirier', 'transportee', 'sublimee', 'mitige', 'poour', 'clins', 'rougis', 'ambiane', 'repentignois', 'semblables', 'pm', 'gagnante', 'mercier', 'delicatesse', 'comptons', 'testait', 'ajouts', 'exellente', 'moss', 'assortie', 'raisonanable', 'durera', 'injecte', 'manie', 'pogo', 'canadienne', 'promptement', 'jouaient', 'incluaient', 'lawence', 'mmmmmmmm', 'rest', 'entendues', 'mahi', 'user', 'roulante', 'continentaux', 'familiales', 'agente', 'boat', 'serenade', 'lawrence', 'vermicelle', 'monsiuer', 'spots', 'estuaire', 'fat', 'magnfiquement', 'rejouissance', 'het', 'aneth', 'antillaise', 'cerf', 'civet', 'joliement', 'caraquet', 'betterave', 'ieme', 'coucou', 'restrictive', 'demanderait', 'sauvignon', 'laine', 'auditorium', 'familiaux', 'soupers', 'phares', 'envergure', 'le17', 'camarade', 'gueuleton', 'dalhousie', 'iem', 'chiffonnade', 'tartre', 'croisiere', 'admirez', 'barmen', 'wowowowowo', 'retauration', 'convenue', 'tonnes', 'charrie', 'savourant', 'bourguignonne', 'encens', 'priviligiez', 'boutin', 'sentons', 'retournant', 'conventionnel', 'notez', 'versus', 'substantiellement', 'too', 'inestimable', 'innovateurs', 'tortolinni', 'repertorie', 'traboues', 'fumes', 'effcace', 'bellecour', 'canus', 'accueillera', 'colette', 'patrone', 'money', 'chilly', 'rur', 'modestement', 'boschiola', 'residhome', 'aventureux', 'confus', 'roissy', 'annuel', 'certainlt', 'put', 'bordeau', 'trainer', 'puisses', 'ipa', 'climatisee', 'precedent', 'severe', 'mx', 'contacts', 'couvertures', 'necessaire', 'plce', 'communique', 'accuei', 'fassent', 'youtubers', 'brooklyn', 'actifs', 'blond', 'mjc', 'srveuse', 'reteouver', 'bossant', 'mignons', 'flakes', 'corn', 'tartines', 'nickelle', 'sylpathique', 'restrictifs', 'accomodable', 'audiard', 'marmites', 'exsangues', 'aigrie', 'tresvon', 'copieuxet', 'rudes', 'continuerais', 'derrire', 'reput', 'astuces', 'conseillant', 'friser', 'repartais', 'dijestif', 'empathiques', 'continent', 'foods', 'caler', 'revies', 'serviced', 'concluente', 'sylvie', 'paniquer', 'vii', 'edouard', 'delai', 'regaler', 'jacque', 'tremper', 'caractere', 'terroirs', 'env', 'raccord', 'courbettes', 'arromanches', 'impressionner', 'pommeau', 'blaguer', 'virois', 'a26', 'passantes', 'hesitations', 'hausser', 'plaisantant', 'nectar', 'comrit', 'computer', 'setrvice', 'diaspora', 'articule', 'delicueux', 'lrs', 'traditiinelle', 'sublimer', 'desemplit', 'reto', 'diplomatiques', 'baudelaire', 'ottrott', 'intenses', 'touchons', 'hamdi', 'transcrite', 'berzgen', 'bicentenaire', 'introduit', 'ayany', 'magnifiiiiiiiiique', 'rafinement', 'recoins', 'raisins', 'vestibules', 'opere', 'tunisenne', 'juive', 'mloukhia', 'baklawa', 'implante', 'architeture', 'smartphone', 'transitionnelle', 'oranger', 'patios', 'torde', 'situent', 'challenger', 'routine', 'median', 'hommage', 'arabie', 'oud', 'cymbalum', 'qualifie', 'bouguiba', 'occidentales', 'tracas', 'seevice', 'brindille', 'strabery', 'trompeuse', 'connecter', 'bourgibua', 'shoppeurs', 'incluait', 'juxtaposant', 'demender', 'interrompu', 'beacoup', 'institutionnelle', 'talb', 'coriandre', 'palmarium', 'mobiliers', 'gardant', 'ieur', 'goutteux', 'poisons', 'college', 'ensorcelants', 'envoutante', 'dalles', 'zalij', 'carrelages', 'europeennes', 'gastronomies', 'cartages', 'charmera', 'gouverneur', 'sadiki', 'souhaites', 'fournisseur', 'tunissoises', 'spa', 'finance', 'bellissime', 'graisseux', 'berasmi', 'esaha', 'ya3tikom', 'tayaraaaaa', 'applaudir', 'succulants', 'nationaux', 'degage', 'curtieux', 'souffrent', 'deplus', 'adaptent', 'biarritz', 'gand', 'uen', 'rendrai', 'benji', 'courraient', 'ambition', 'souffrance', 'subit', 'mettai', 'permise', 'bretons', 'fuyantes', 'apparition', 'diversification', 'penible', 'laterrasse', 'cloturer', 'eet', 'demandions', 'creuser', 'lapins', 'starers', 'poillade', 'trempette', 'ptite', 'participants', 'numismatique', 'politiciens', 'embleme', 'targue', 'clein', 'ecrite', 'proustienne', 'houblon', 'puissont', 'braserie', 'mamie', 'papi', 'suce', 'brouhahaha', 'periode', 'bouder', 'dynamise', 'vegetarienne', 'acceuillie', 'convaincues', 'cyril', 'tranchant', 'lesquin', 'trilingue', 'brio', 'maroualles', 'illumine', 'bousculade', 'maculin', 'proposera', 'perturbations', 'sets', 'toulousains', 'loos', 'melle', 'garin', 'xiv', 'selfie', 'pret', 'promenez', 'shoping', 'minger', 'souviendrai', 'revenant', 'oour', 'restaurznts', 'oas', 'retriuve', 'intimite', 'possibilite', 'camerlit', 'pinser', 'rin', 'cha', 'dude', 'citrouille', 'viiteeeeeee', 'annecy', 'fabien', 'ajouterai', 'remercions', 'valentine', 'sastifaits', 'ravissante', 'attentevu', 'billoute', 'copier', 'bussang', 'focaccia', 'slogan', 'plier', 'pannetone', 'financiers', 'scampi', 'tournant', 'manquerais', 'aisne', 'pipe', 'quantites', 'marsala', 'carion', 'fournitures', 'lote', 'straccaiatella', 'lasser', 'proposez', 'aelecchino', 'pochee', 'rechauffees', 'nage', 'col', 'vosges', 'mulhouse', 'momment', 'marchande', 'leclerc', 'puristes', 'bricolage', 'arracher', 'conquise', 'roberto', 'tenus', 'repasselonnla', 'vvs', 'louvroil', 'lagarniture', 'croustillance', 'nimporte', 'resepcter', 'jetter', 'sambre', 'circonstance', 'roix', 'bizzare', 'matiere', 'coute', 'meaty', 'society', 'comprises', 'invalides', 'terrines', 'hollandaisse', 'flans', 'quiches', 'arrangeants', 'rarebitt', 'rex', 'passaient', 'quelgue', 'assurait', 'galloise', 'durable', 'comparables', 'maroiles', 'mangees', 'staggioni', 'quatro', 'armth', 'resistances', 'bavardages', 'lucky', 'tarissait', 'tang', 'vigueur', 'brullee', 'composez', 'clou', 'hoing', 'saisonnier', 'maquis', 'crotins', 'poitrines', 'gingembre']\n",
      "['__label__1.0', '__label__4.0', '__label__5.0', '__label__2.0', '__label__3.0', '__label__4.2', '__label__3.8', '__label__3.6', '__label__4.4', '__label__4.6', '__label__2.8', '__label__2.4', '__label__2.6', '__label__3.2', '__label__3.4', '__label__4.8', '__label__2.2', '__label__1.8', '__label__1.4', '__label__1.6', '__label__1.2', '__label__0.0']\n"
     ]
    }
   ],
   "source": [
    "print(model.words)\n",
    "print(model.labels)"
   ]
  },
  {
   "cell_type": "code",
   "execution_count": 89,
   "metadata": {
    "colab": {
     "base_uri": "https://localhost:8080/",
     "height": 67
    },
    "colab_type": "code",
    "id": "5ZkztWvsBsCG",
    "outputId": "5b203e67-f5b8-4129-fa87-e70db0ec606c"
   },
   "outputs": [
    {
     "name": "stdout",
     "output_type": "stream",
     "text": [
      "N\t0\n",
      "P@1\tnan\n",
      "R@1\tnan\n"
     ]
    }
   ],
   "source": [
    "def print_results(N, p, r):\n",
    "    print(\"N\\t\" + str(N))\n",
    "    print(\"P@{}\\t{:.3f}\".format(1, p))\n",
    "    print(\"R@{}\\t{:.3f}\".format(1, r))\n",
    "\n",
    "print_results(*model.test('test.txt'))"
   ]
  },
  {
   "cell_type": "code",
   "execution_count": 90,
   "metadata": {
    "colab": {},
    "colab_type": "code",
    "id": "zn1vgHtI1iiA"
   },
   "outputs": [],
   "source": [
    "def Predict (text):\n",
    "    text = str(text)\n",
    "    x=model.predict(text)\n",
    "    return str(x[0])[11:14]"
   ]
  },
  {
   "cell_type": "code",
   "execution_count": 92,
   "metadata": {
    "colab": {
     "base_uri": "https://localhost:8080/",
     "height": 34
    },
    "colab_type": "code",
    "id": "Zuuhb2wVWFsl",
    "outputId": "9eb3e528-ec11-4a7d-bb4b-1b12ef795d32"
   },
   "outputs": [
    {
     "data": {
      "text/plain": [
       "'5.0'"
      ]
     },
     "execution_count": 92,
     "metadata": {},
     "output_type": "execute_result"
    }
   ],
   "source": [
    "Predict(\"excellente pizza et hamburger. mais carte limitee\")"
   ]
  },
  {
   "cell_type": "code",
   "execution_count": 93,
   "metadata": {
    "colab": {
     "base_uri": "https://localhost:8080/",
     "height": 34
    },
    "colab_type": "code",
    "id": "DVRpQpFrbigd",
    "outputId": "dd9c2a37-bd09-4ad9-d11b-fc9c0cf5e638"
   },
   "outputs": [
    {
     "data": {
      "text/plain": [
       "'4.0'"
      ]
     },
     "execution_count": 93,
     "metadata": {},
     "output_type": "execute_result"
    }
   ],
   "source": [
    "Predict(\"bon plan du mois dÂ’aout: le factory marsa  places disponibles avec service rapide avant le retour des vacanciers. salade factory 10 dt excellent rapport qualite / prix suivant le lieu. la 2eme photo hoso maki concombre fromage avec sauce soja env. 4dt\")"
   ]
  },
  {
   "cell_type": "code",
   "execution_count": 94,
   "metadata": {
    "colab": {
     "base_uri": "https://localhost:8080/",
     "height": 34
    },
    "colab_type": "code",
    "id": "DkRuplOWcLzQ",
    "outputId": "e2727bff-c29d-49ab-9105-17fad9505b82"
   },
   "outputs": [
    {
     "data": {
      "text/plain": [
       "'1.0'"
      ]
     },
     "execution_count": 94,
     "metadata": {},
     "output_type": "execute_result"
    }
   ],
   "source": [
    "Predict(\"la soirée fut réellement incroyable.le patron est extrêmement malpoli - me faire tutoyer à 35 ans alors que je voyais bien que j'étais en train de me faire gruger est assez désagréable. appeler toutes les femmes du restaurant est au demeure assez pathétique.la vaisselle est salle (couverts dégu....lasses, assiettes pareil) ce qui est absolument fou dans un restaurantet qui plus est la nourriture est mauvaisene venez que si vous voulez faire un reportage sur les pires endroits de paris!\")"
   ]
  },
  {
   "cell_type": "code",
   "execution_count": 95,
   "metadata": {
    "colab": {
     "base_uri": "https://localhost:8080/",
     "height": 34
    },
    "colab_type": "code",
    "id": "SDq8zLH1cacb",
    "outputId": "fe0ffbfe-00f3-4828-d48a-ca524a5545d0"
   },
   "outputs": [
    {
     "data": {
      "text/plain": [
       "'3.6'"
      ]
     },
     "execution_count": 95,
     "metadata": {},
     "output_type": "execute_result"
    }
   ],
   "source": [
    "Predict(\"excellent\")"
   ]
  },
  {
   "cell_type": "code",
   "execution_count": 96,
   "metadata": {
    "colab": {
     "base_uri": "https://localhost:8080/",
     "height": 34
    },
    "colab_type": "code",
    "id": "1iEwrr_2cgfy",
    "outputId": "8cf5192c-f71e-4806-d41a-ee0549a2ed4d"
   },
   "outputs": [
    {
     "data": {
      "text/plain": [
       "'1.0'"
      ]
     },
     "execution_count": 96,
     "metadata": {},
     "output_type": "execute_result"
    }
   ],
   "source": [
    "Predict(\"null\")"
   ]
  },
  {
   "cell_type": "code",
   "execution_count": 97,
   "metadata": {
    "colab": {
     "base_uri": "https://localhost:8080/",
     "height": 34
    },
    "colab_type": "code",
    "id": "s--H9Mgzcl2I",
    "outputId": "d6129bb2-e02e-45d0-d4e4-ee909669b36f"
   },
   "outputs": [
    {
     "data": {
      "text/plain": [
       "'2.0'"
      ]
     },
     "execution_count": 97,
     "metadata": {},
     "output_type": "execute_result"
    }
   ],
   "source": [
    "Predict('service null')"
   ]
  },
  {
   "cell_type": "code",
   "execution_count": 98,
   "metadata": {
    "colab": {
     "base_uri": "https://localhost:8080/",
     "height": 34
    },
    "colab_type": "code",
    "id": "cs53aBYicoum",
    "outputId": "ee5d1ff6-b899-4c91-d5d1-d46146aaa67b"
   },
   "outputs": [
    {
     "data": {
      "text/plain": [
       "'5.0'"
      ]
     },
     "execution_count": 98,
     "metadata": {},
     "output_type": "execute_result"
    }
   ],
   "source": [
    "Predict('le meilleur restaurant :)')"
   ]
  },
  {
   "cell_type": "code",
   "execution_count": 99,
   "metadata": {
    "colab": {
     "base_uri": "https://localhost:8080/",
     "height": 34
    },
    "colab_type": "code",
    "id": "E2C4n1A9c8ye",
    "outputId": "ce6379c1-ffe6-44fc-f82d-f83a16ce3913"
   },
   "outputs": [
    {
     "data": {
      "text/plain": [
       "'4.0'"
      ]
     },
     "execution_count": 99,
     "metadata": {},
     "output_type": "execute_result"
    }
   ],
   "source": [
    "Predict('pizza trés delicieuse, mais la musique est trop élevée')"
   ]
  },
  {
   "cell_type": "code",
   "execution_count": 100,
   "metadata": {
    "colab": {
     "base_uri": "https://localhost:8080/",
     "height": 34
    },
    "colab_type": "code",
    "id": "ujxV3P6ydGXi",
    "outputId": "b4022009-3db1-4d83-eed4-9112b6900a94"
   },
   "outputs": [
    {
     "data": {
      "text/plain": [
       "'2.4'"
      ]
     },
     "execution_count": 100,
     "metadata": {},
     "output_type": "execute_result"
    }
   ],
   "source": [
    "Predict('Rien ne marche cest catastrophique')"
   ]
  },
  {
   "cell_type": "code",
   "execution_count": 101,
   "metadata": {
    "colab": {
     "base_uri": "https://localhost:8080/",
     "height": 34
    },
    "colab_type": "code",
    "id": "Qvq_qih9hPFJ",
    "outputId": "e9beeaf8-c4f4-4645-c699-c40d4488bc2b"
   },
   "outputs": [
    {
     "data": {
      "text/plain": [
       "'1.0'"
      ]
     },
     "execution_count": 101,
     "metadata": {},
     "output_type": "execute_result"
    }
   ],
   "source": [
    "Predict('mauvais')"
   ]
  },
  {
   "cell_type": "code",
   "execution_count": null,
   "metadata": {},
   "outputs": [],
   "source": []
  }
 ],
 "metadata": {
  "colab": {
   "collapsed_sections": [],
   "name": "FastText",
   "provenance": [],
   "version": "0.3.2"
  },
  "kernelspec": {
   "display_name": "Python 3",
   "language": "python",
   "name": "python3"
  },
  "language_info": {
   "codemirror_mode": {
    "name": "ipython",
    "version": 3
   },
   "file_extension": ".py",
   "mimetype": "text/x-python",
   "name": "python",
   "nbconvert_exporter": "python",
   "pygments_lexer": "ipython3",
   "version": "3.6.9"
  }
 },
 "nbformat": 4,
 "nbformat_minor": 1
}
